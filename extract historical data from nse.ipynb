{
 "cells": [
  {
   "cell_type": "code",
   "execution_count": 2,
   "metadata": {},
   "outputs": [],
   "source": [
    "from nsepy import get_history\n",
    "from datetime import datetime\n",
    "import pandas as pd\n",
    "import dateutil.relativedelta\n",
    "import matplotlib.pyplot as plt"
   ]
  },
  {
   "cell_type": "code",
   "execution_count": 3,
   "metadata": {},
   "outputs": [
    {
     "name": "stdout",
     "output_type": "stream",
     "text": [
      "2020-09-09 15:45:17.703784\n"
     ]
    }
   ],
   "source": [
    "to_date = datetime.now()\n",
    "print(to_date)"
   ]
  },
  {
   "cell_type": "code",
   "execution_count": 4,
   "metadata": {},
   "outputs": [
    {
     "name": "stdout",
     "output_type": "stream",
     "text": [
      "2020-09-09 00:00:00\n"
     ]
    }
   ],
   "source": [
    "to_date = datetime.strftime(to_date,'%y,%m,%d')\n",
    "to_date = datetime.strptime(to_date,'%y,%m,%d')\n",
    "print(to_date)"
   ]
  },
  {
   "cell_type": "code",
   "execution_count": 5,
   "metadata": {},
   "outputs": [
    {
     "name": "stdout",
     "output_type": "stream",
     "text": [
      "2020-01-09 00:00:00\n",
      "2020-09-09 00:00:00\n"
     ]
    }
   ],
   "source": [
    "from_date = to_date - dateutil.relativedelta.relativedelta(month=1)\n",
    "print(from_date)\n",
    "print(to_date)"
   ]
  },
  {
   "cell_type": "code",
   "execution_count": 6,
   "metadata": {},
   "outputs": [
    {
     "name": "stdout",
     "output_type": "stream",
     "text": [
      "              Symbol Series  ...  Deliverable Volume  %Deliverble\n",
      "Date                         ...                                 \n",
      "2020-01-09  RELIANCE     EQ  ...             2657056       0.3879\n",
      "2020-01-10  RELIANCE     EQ  ...             2546462       0.4464\n",
      "2020-01-13  RELIANCE     EQ  ...             5030540       0.6019\n",
      "2020-01-14  RELIANCE     EQ  ...             3796096       0.5250\n",
      "2020-01-15  RELIANCE     EQ  ...             3990113       0.5518\n",
      "...              ...    ...  ...                 ...          ...\n",
      "2020-09-02  RELIANCE     EQ  ...             3376204       0.2715\n",
      "2020-09-03  RELIANCE     EQ  ...             3249170       0.3788\n",
      "2020-09-04  RELIANCE     EQ  ...             5968727       0.4542\n",
      "2020-09-07  RELIANCE     EQ  ...             2619452       0.2589\n",
      "2020-09-08  RELIANCE     EQ  ...             2734033       0.2162\n",
      "\n",
      "[167 rows x 14 columns]\n"
     ]
    }
   ],
   "source": [
    "data = get_history(symbol='RELIANCE',start=from_date,end=to_date)\n",
    "print(data)"
   ]
  },
  {
   "cell_type": "code",
   "execution_count": 8,
   "metadata": {},
   "outputs": [
    {
     "data": {
      "text/html": [
       "<div>\n",
       "<style scoped>\n",
       "    .dataframe tbody tr th:only-of-type {\n",
       "        vertical-align: middle;\n",
       "    }\n",
       "\n",
       "    .dataframe tbody tr th {\n",
       "        vertical-align: top;\n",
       "    }\n",
       "\n",
       "    .dataframe thead th {\n",
       "        text-align: right;\n",
       "    }\n",
       "</style>\n",
       "<table border=\"1\" class=\"dataframe\">\n",
       "  <thead>\n",
       "    <tr style=\"text-align: right;\">\n",
       "      <th></th>\n",
       "      <th>Symbol</th>\n",
       "      <th>Series</th>\n",
       "      <th>Prev Close</th>\n",
       "      <th>Open</th>\n",
       "      <th>High</th>\n",
       "      <th>Low</th>\n",
       "      <th>Last</th>\n",
       "      <th>Close</th>\n",
       "      <th>VWAP</th>\n",
       "      <th>Volume</th>\n",
       "      <th>Turnover</th>\n",
       "      <th>Trades</th>\n",
       "      <th>Deliverable Volume</th>\n",
       "      <th>%Deliverble</th>\n",
       "    </tr>\n",
       "    <tr>\n",
       "      <th>Date</th>\n",
       "      <th></th>\n",
       "      <th></th>\n",
       "      <th></th>\n",
       "      <th></th>\n",
       "      <th></th>\n",
       "      <th></th>\n",
       "      <th></th>\n",
       "      <th></th>\n",
       "      <th></th>\n",
       "      <th></th>\n",
       "      <th></th>\n",
       "      <th></th>\n",
       "      <th></th>\n",
       "      <th></th>\n",
       "    </tr>\n",
       "  </thead>\n",
       "  <tbody>\n",
       "    <tr>\n",
       "      <th>2020-01-09</th>\n",
       "      <td>RELIANCE</td>\n",
       "      <td>EQ</td>\n",
       "      <td>1513.15</td>\n",
       "      <td>1538.60</td>\n",
       "      <td>1550.00</td>\n",
       "      <td>1531.25</td>\n",
       "      <td>1549.50</td>\n",
       "      <td>1548.00</td>\n",
       "      <td>1541.76</td>\n",
       "      <td>6849606</td>\n",
       "      <td>1.056043e+15</td>\n",
       "      <td>154953</td>\n",
       "      <td>2657056</td>\n",
       "      <td>0.3879</td>\n",
       "    </tr>\n",
       "    <tr>\n",
       "      <th>2020-01-10</th>\n",
       "      <td>RELIANCE</td>\n",
       "      <td>EQ</td>\n",
       "      <td>1548.00</td>\n",
       "      <td>1551.90</td>\n",
       "      <td>1557.95</td>\n",
       "      <td>1539.65</td>\n",
       "      <td>1546.85</td>\n",
       "      <td>1547.65</td>\n",
       "      <td>1549.42</td>\n",
       "      <td>5704686</td>\n",
       "      <td>8.838954e+14</td>\n",
       "      <td>136340</td>\n",
       "      <td>2546462</td>\n",
       "      <td>0.4464</td>\n",
       "    </tr>\n",
       "    <tr>\n",
       "      <th>2020-01-13</th>\n",
       "      <td>RELIANCE</td>\n",
       "      <td>EQ</td>\n",
       "      <td>1547.65</td>\n",
       "      <td>1545.05</td>\n",
       "      <td>1558.70</td>\n",
       "      <td>1538.40</td>\n",
       "      <td>1539.85</td>\n",
       "      <td>1543.70</td>\n",
       "      <td>1548.94</td>\n",
       "      <td>8358090</td>\n",
       "      <td>1.294615e+15</td>\n",
       "      <td>143022</td>\n",
       "      <td>5030540</td>\n",
       "      <td>0.6019</td>\n",
       "    </tr>\n",
       "    <tr>\n",
       "      <th>2020-01-14</th>\n",
       "      <td>RELIANCE</td>\n",
       "      <td>EQ</td>\n",
       "      <td>1543.70</td>\n",
       "      <td>1540.00</td>\n",
       "      <td>1550.00</td>\n",
       "      <td>1521.85</td>\n",
       "      <td>1529.10</td>\n",
       "      <td>1529.40</td>\n",
       "      <td>1533.76</td>\n",
       "      <td>7230788</td>\n",
       "      <td>1.109026e+15</td>\n",
       "      <td>173502</td>\n",
       "      <td>3796096</td>\n",
       "      <td>0.5250</td>\n",
       "    </tr>\n",
       "    <tr>\n",
       "      <th>2020-01-15</th>\n",
       "      <td>RELIANCE</td>\n",
       "      <td>EQ</td>\n",
       "      <td>1529.40</td>\n",
       "      <td>1535.85</td>\n",
       "      <td>1539.90</td>\n",
       "      <td>1518.25</td>\n",
       "      <td>1524.10</td>\n",
       "      <td>1523.85</td>\n",
       "      <td>1526.75</td>\n",
       "      <td>7231393</td>\n",
       "      <td>1.104055e+15</td>\n",
       "      <td>212172</td>\n",
       "      <td>3990113</td>\n",
       "      <td>0.5518</td>\n",
       "    </tr>\n",
       "    <tr>\n",
       "      <th>...</th>\n",
       "      <td>...</td>\n",
       "      <td>...</td>\n",
       "      <td>...</td>\n",
       "      <td>...</td>\n",
       "      <td>...</td>\n",
       "      <td>...</td>\n",
       "      <td>...</td>\n",
       "      <td>...</td>\n",
       "      <td>...</td>\n",
       "      <td>...</td>\n",
       "      <td>...</td>\n",
       "      <td>...</td>\n",
       "      <td>...</td>\n",
       "      <td>...</td>\n",
       "    </tr>\n",
       "    <tr>\n",
       "      <th>2020-09-02</th>\n",
       "      <td>RELIANCE</td>\n",
       "      <td>EQ</td>\n",
       "      <td>2087.25</td>\n",
       "      <td>2092.00</td>\n",
       "      <td>2138.00</td>\n",
       "      <td>2085.00</td>\n",
       "      <td>2128.55</td>\n",
       "      <td>2128.20</td>\n",
       "      <td>2119.29</td>\n",
       "      <td>12437209</td>\n",
       "      <td>2.635806e+15</td>\n",
       "      <td>281041</td>\n",
       "      <td>3376204</td>\n",
       "      <td>0.2715</td>\n",
       "    </tr>\n",
       "    <tr>\n",
       "      <th>2020-09-03</th>\n",
       "      <td>RELIANCE</td>\n",
       "      <td>EQ</td>\n",
       "      <td>2128.20</td>\n",
       "      <td>2128.00</td>\n",
       "      <td>2138.75</td>\n",
       "      <td>2103.00</td>\n",
       "      <td>2114.00</td>\n",
       "      <td>2112.10</td>\n",
       "      <td>2112.86</td>\n",
       "      <td>8577741</td>\n",
       "      <td>1.812359e+15</td>\n",
       "      <td>219117</td>\n",
       "      <td>3249170</td>\n",
       "      <td>0.3788</td>\n",
       "    </tr>\n",
       "    <tr>\n",
       "      <th>2020-09-04</th>\n",
       "      <td>RELIANCE</td>\n",
       "      <td>EQ</td>\n",
       "      <td>2112.10</td>\n",
       "      <td>2083.55</td>\n",
       "      <td>2096.95</td>\n",
       "      <td>2072.20</td>\n",
       "      <td>2080.00</td>\n",
       "      <td>2077.25</td>\n",
       "      <td>2084.73</td>\n",
       "      <td>13141705</td>\n",
       "      <td>2.739694e+15</td>\n",
       "      <td>365456</td>\n",
       "      <td>5968727</td>\n",
       "      <td>0.4542</td>\n",
       "    </tr>\n",
       "    <tr>\n",
       "      <th>2020-09-07</th>\n",
       "      <td>RELIANCE</td>\n",
       "      <td>EQ</td>\n",
       "      <td>2077.25</td>\n",
       "      <td>2084.00</td>\n",
       "      <td>2105.75</td>\n",
       "      <td>2044.25</td>\n",
       "      <td>2099.60</td>\n",
       "      <td>2082.65</td>\n",
       "      <td>2071.80</td>\n",
       "      <td>10119099</td>\n",
       "      <td>2.096471e+15</td>\n",
       "      <td>255801</td>\n",
       "      <td>2619452</td>\n",
       "      <td>0.2589</td>\n",
       "    </tr>\n",
       "    <tr>\n",
       "      <th>2020-09-08</th>\n",
       "      <td>RELIANCE</td>\n",
       "      <td>EQ</td>\n",
       "      <td>2082.65</td>\n",
       "      <td>2092.00</td>\n",
       "      <td>2121.00</td>\n",
       "      <td>2080.50</td>\n",
       "      <td>2103.10</td>\n",
       "      <td>2107.10</td>\n",
       "      <td>2108.01</td>\n",
       "      <td>12643762</td>\n",
       "      <td>2.665324e+15</td>\n",
       "      <td>287150</td>\n",
       "      <td>2734033</td>\n",
       "      <td>0.2162</td>\n",
       "    </tr>\n",
       "  </tbody>\n",
       "</table>\n",
       "<p>167 rows × 14 columns</p>\n",
       "</div>"
      ],
      "text/plain": [
       "              Symbol Series  ...  Deliverable Volume  %Deliverble\n",
       "Date                         ...                                 \n",
       "2020-01-09  RELIANCE     EQ  ...             2657056       0.3879\n",
       "2020-01-10  RELIANCE     EQ  ...             2546462       0.4464\n",
       "2020-01-13  RELIANCE     EQ  ...             5030540       0.6019\n",
       "2020-01-14  RELIANCE     EQ  ...             3796096       0.5250\n",
       "2020-01-15  RELIANCE     EQ  ...             3990113       0.5518\n",
       "...              ...    ...  ...                 ...          ...\n",
       "2020-09-02  RELIANCE     EQ  ...             3376204       0.2715\n",
       "2020-09-03  RELIANCE     EQ  ...             3249170       0.3788\n",
       "2020-09-04  RELIANCE     EQ  ...             5968727       0.4542\n",
       "2020-09-07  RELIANCE     EQ  ...             2619452       0.2589\n",
       "2020-09-08  RELIANCE     EQ  ...             2734033       0.2162\n",
       "\n",
       "[167 rows x 14 columns]"
      ]
     },
     "execution_count": 8,
     "metadata": {},
     "output_type": "execute_result"
    }
   ],
   "source": [
    "df1 = pd.DataFrame(data)\n",
    "df1"
   ]
  },
  {
   "cell_type": "code",
   "execution_count": 19,
   "metadata": {},
   "outputs": [
    {
     "data": {
      "image/png": "[encoded data removed]",
      "text/plain": [
       "<Figure size 864x360 with 1 Axes>"
      ]
     },
     "metadata": {
      "needs_background": "light"
     },
     "output_type": "display_data"
    }
   ],
   "source": [
    "df1['Close'].plot(figsize=(12,5))\n",
    "plt.show()"
   ]
  },
  {
   "cell_type": "code",
   "execution_count": null,
   "metadata": {},
   "outputs": [],
   "source": []
  }
 ],
 "metadata": {
  "kernelspec": {
   "display_name": "Python 3",
   "language": "python",
   "name": "python3"
  },
  "language_info": {
   "codemirror_mode": {
    "name": "ipython",
    "version": 3
   },
   "file_extension": ".py",
   "mimetype": "text/x-python",
   "name": "python",
   "nbconvert_exporter": "python",
   "pygments_lexer": "ipython3",
   "version": "3.7.6"
  }
 },
 "nbformat": 4,
 "nbformat_minor": 4
}
