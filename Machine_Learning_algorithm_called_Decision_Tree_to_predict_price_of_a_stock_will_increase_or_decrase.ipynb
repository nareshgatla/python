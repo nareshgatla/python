{
  "nbformat": 4,
  "nbformat_minor": 0,
  "metadata": {
    "colab": {
      "name": "Machine Learning algorithm called Decision Tree to predict price of a stock will increase or decrase.ipynb",
      "provenance": [],
      "authorship_tag": "ABX9TyOxGfvrP/IsrShGxxtKU85u",
      "include_colab_link": true
    },
    "kernelspec": {
      "name": "python3",
      "display_name": "Python 3"
    }
  },
  "cells": [
    {
      "cell_type": "markdown",
      "metadata": {
        "id": "view-in-github",
        "colab_type": "text"
      },
      "source": [
        "<a href=\"https://colab.research.google.com/github/nareshgatla/python/blob/master/Machine_Learning_algorithm_called_Decision_Tree_to_predict_price_of_a_stock_will_increase_or_decrase.ipynb\" target=\"_parent\"><img src=\"https://colab.research.google.com/assets/colab-badge.svg\" alt=\"Open In Colab\"/></a>"
      ]
    },
    {
      "cell_type": "code",
      "metadata": {
        "id": "WA3a7hW5ruIm",
        "colab_type": "code",
        "colab": {}
      },
      "source": [
        "# This program uses Machine Learning algorithm called Decision Tree to predict price of a stock will increase or decrase"
      ],
      "execution_count": null,
      "outputs": []
    },
    {
      "cell_type": "code",
      "metadata": {
        "id": "QpzoqAHisCQa",
        "colab_type": "code",
        "colab": {}
      },
      "source": [
        "#import the libraries\n",
        "\n",
        "from sklearn.model_selection import train_test_split\n",
        "from sklearn.tree import DecisionTreeClassifier\n",
        "import numpy as np\n",
        "import pandas as pd"
      ],
      "execution_count": 17,
      "outputs": []
    },
    {
      "cell_type": "code",
      "metadata": {
        "id": "Mf-34XYoshOx",
        "colab_type": "code",
        "colab": {
          "resources": {
            "http://localhost:8080/nbextensions/google.colab/files.js": {
              "data": "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",
              "ok": true,
              "headers": [
                [
                  "content-type",
                  "application/javascript"
                ]
              ],
              "status": 200,
              "status_text": ""
            }
          },
          "base_uri": "https://localhost:8080/",
          "height": 109
        },
        "outputId": "4e7acdad-1b0d-4745-dc9b-195d69fc88c5"
      },
      "source": [
        "# Load the Data\n",
        "\n",
        "from google.colab import files\n",
        "files.upload()"
      ],
      "execution_count": 18,
      "outputs": [
        {
          "output_type": "display_data",
          "data": {
            "text/html": [
              "\n",
              "     <input type=\"file\" id=\"files-a7922654-5bfd-4fbb-823e-c46bb6037ec0\" name=\"files[]\" multiple disabled\n",
              "        style=\"border:none\" />\n",
              "     <output id=\"result-a7922654-5bfd-4fbb-823e-c46bb6037ec0\">\n",
              "      Upload widget is only available when the cell has been executed in the\n",
              "      current browser session. Please rerun this cell to enable.\n",
              "      </output>\n",
              "      <script src=\"/nbextensions/google.colab/files.js\"></script> "
            ],
            "text/plain": [
              "<IPython.core.display.HTML object>"
            ]
          },
          "metadata": {
            "tags": []
          }
        },
        {
          "output_type": "stream",
          "text": [
            "Saving Nifty-2018.csv to Nifty-2018 (2).csv\n"
          ],
          "name": "stdout"
        },
        {
          "output_type": "execute_result",
          "data": {
            "text/plain": [
              "{'Nifty-2018.csv': b'Date,Open,High,Low,Close,Shares Traded,Turnover (Rs. Cr)\\r\\n1-Jan-18,10531.7,10537.85,10423.1,10435.55,134532090,7546.56\\r\\n2-Jan-18,10477.55,10495.2,10404.65,10442.2,158092430,8665.47\\r\\n3-Jan-18,10482.65,10503.6,10429.55,10443.2,172516859,9541.6\\r\\n4-Jan-18,10469.4,10513,10441.45,10504.8,180257392,9561.95\\r\\n5-Jan-18,10534.25,10566.1,10520.1,10558.85,186469717,10306.22\\r\\n8-Jan-18,10591.7,10631.2,10588.55,10623.6,174181231,9907.27\\r\\n9-Jan-18,10645.1,10659.15,10603.6,10637,211291563,10733.37\\r\\n10-Jan-18,10652.05,10655.5,10592.7,10632.2,181900014,9720.65\\r\\n11-Jan-18,10637.05,10664.6,10612.35,10651.2,158630055,9635.01\\r\\n12-Jan-18,10682.55,10690.4,10597.1,10681.25,180592153,11005.12\\r\\n15-Jan-18,10718.5,10782.65,10713.8,10741.55,181262074,11333.11\\r\\n16-Jan-18,10761.5,10762.35,10687.85,10700.45,217468081,12709.44\\r\\n17-Jan-18,10702.45,10803,10666.75,10788.55,260488465,14334.26\\r\\n18-Jan-18,10873.4,10887.5,10782.4,10817,321609375,17930.3\\r\\n19-Jan-18,10829.2,10906.85,10793.9,10894.7,214011963,11792.26\\r\\n22-Jan-18,10883.2,10975.1,10881.4,10966.2,238815813,14469.06\\r\\n23-Jan-18,10997.4,11092.9,10994.55,11083.7,293445774,16423.91\\r\\n24-Jan-18,11069.35,11110.1,11046.15,11086,292197072,16915.14\\r\\n25-Jan-18,11095.6,11095.6,11009.2,11069.65,340469462,19939.54\\r\\n29-Jan-18,11079.35,11171.55,11075.95,11130.4,249220726,16118.36\\r\\n30-Jan-18,11120.85,11121.1,11033.9,11049.65,234969503,13232.19\\r\\n31-Jan-18,11018.8,11058.5,10979.3,11027.7,253462573,14459.69\\r\\n1-Feb-18,11044.55,11117.35,10878.8,11016.9,315743486,17719.4\\r\\n2-Feb-18,10938.2,10954.95,10736.1,10760.6,291431992,16542.51\\r\\n5-Feb-18,10604.3,10702.75,10586.8,10666.55,247479157,13980.63\\r\\n6-Feb-18,10295.15,10594.15,10276.3,10498.25,274656443,15606.34\\r\\n7-Feb-18,10607.2,10614,10446.4,10476.7,258095424,13971.66\\r\\n8-Feb-18,10518.5,10637.8,10479.55,10576.85,239407938,12569.23\\r\\n9-Feb-18,10416.5,10480.2,10398.2,10454.95,197502912,10602.15\\r\\n12-Feb-18,10518.2,10555.5,10485.4,10539.75,224114801,11133.78\\r\\n14-Feb-18,10585.75,10590.55,10456.65,10500.9,236329440,12188.94\\r\\n15-Feb-18,10537.9,10618.1,10511.05,10545.5,217090245,11035.38\\r\\n16-Feb-18,10596.2,10612.9,10434.05,10452.3,190043189,10026.71\\r\\n19-Feb-18,10488.9,10489.35,10302.75,10378.4,193087737,9871.36\\r\\n20-Feb-18,10391,10429.35,10347.65,10360.4,193464871,9619.95\\r\\n21-Feb-18,10426,10426.1,10349.6,10397.45,241331542,12996.36\\r\\n22-Feb-18,10354.35,10397.55,10340.65,10382.7,323259078,17711.46\\r\\n23-Feb-18,10408.1,10499.1,10396.65,10491.05,217134363,12704.32\\r\\n26-Feb-18,10526.55,10592.95,10520.2,10582.6,177238616,10274.89\\r\\n27-Feb-18,10615.2,10631.65,10537.25,10554.3,193250158,10276.42\\r\\n28-Feb-18,10488.95,10535.5,10461.55,10492.85,294794221,16299.11\\r\\n1-Mar-18,10479.95,10525.5,10447.15,10458.35,181378504,10179.48\\r\\n5-Mar-18,10428.3,10428.7,10323.9,10358.85,199975720,10673.92\\r\\n6-Mar-18,10420.5,10441.35,10215.9,10249.25,229782297,12143.95\\r\\n7-Mar-18,10232.95,10243.35,10141.55,10154.2,257200599,12128.88\\r\\n8-Mar-18,10216.25,10270.35,10146.4,10242.65,233377712,11479.51\\r\\n9-Mar-18,10271.3,10296.7,10211.9,10226.85,192333334,9874.81\\r\\n12-Mar-18,10301.6,10433.65,10295.45,10421.4,223135459,10968.95\\r\\n13-Mar-18,10389.5,10478.6,10377.85,10426.85,274852794,23965.25\\r\\n14-Mar-18,10393.05,10420.35,10336.3,10410.9,186991169,9564.68\\r\\n15-Mar-18,10405.45,10420,10346.2,10360.15,179308593,8588.01\\r\\n16-Mar-18,10345.15,10346.3,10180.25,10195.15,338702439,18811.97\\r\\n19-Mar-18,10215.35,10224.55,10075.3,10094.25,216670033,11111.43\\r\\n20-Mar-18,10051.55,10155.65,10049.1,10124.35,209327593,10947.12\\r\\n21-Mar-18,10181.95,10227.3,10132.95,10155.25,211060429,11269.73\\r\\n22-Mar-18,10167.5,10207.85,10105.4,10114.75,237632983,11558.88\\r\\n23-Mar-18,9968.8,10027.7,9951.9,9998.05,294515154,14435.17\\r\\n26-Mar-18,9989.15,10143.5,9958.55,10130.65,270665332,12695.47\\r\\n27-Mar-18,10188,10207.9,10139.65,10184.15,232713976,11175.79\\r\\n28-Mar-18,10143.6,10158.35,10096.9,10113.7,354977198,18807.48\\r\\n2-Apr-18,10151.65,10220.1,10127.75,10211.8,223135459,10968.95\\r\\n3-Apr-18,10186.85,10255.35,10171.05,10245,211652029,10167.12\\r\\n4-Apr-18,10274.6,10279.85,10111.3,10128.4,238182921,11861.79\\r\\n5-Apr-18,10228.45,10331.8,10227.45,10325.15,244116235,11674.92\\r\\n6-Apr-18,10322.75,10350.45,10290.85,10331.6,206355691,10131.74\\r\\n9-Apr-18,10333.7,10397.7,10328.5,10379.35,228512954,10714.13\\r\\n10-Apr-18,10412.9,10424.85,10381.5,10402.25,259523888,11905.12\\r\\n11-Apr-18,10428.15,10428.15,10355.6,10417.15,258077363,11790.58\\r\\n12-Apr-18,10410.65,10469.9,10395.25,10458.65,246027888,12249.66\\r\\n13-Apr-18,10495.3,10519.9,10451.45,10480.6,219724716,12354.55\\r\\n16-Apr-18,10398.3,10540.15,10396.35,10528.35,200950876,11242.05\\r\\n17-Apr-18,10557.3,10560.45,10495.65,10548.7,212449535,10501.71\\r\\n18-Apr-18,10578.9,10594.2,10509.7,10526.2,211823044,9888.65\\r\\n19-Apr-18,10563.65,10572.2,10546.2,10565.3,270740891,12559.11\\r\\n20-Apr-18,10560.35,10582.35,10527.45,10564.05,252227268,15372.66\\r\\n23-Apr-18,10592.8,10638.35,10514.95,10584.7,200203196,13642.67\\r\\n24-Apr-18,10578.1,10636.8,10569,10614.35,225972673,12281.53\\r\\n25-Apr-18,10612.4,10612.6,10536.45,10570.55,195129613,11125.11\\r\\n26-Apr-18,10586.5,10628.4,10559.65,10617.8,345536167,19200.41\\r\\n27-Apr-18,10651.65,10719.8,10647.55,10692.3,306671172,16886.89\\r\\n30-Apr-18,10705.75,10759,10704.6,10739.35,179163468,10412.57\\r\\n2-May-18,10783.85,10784.65,10689.8,10718.05,236757172,14820.58\\r\\n3-May-18,10720.15,10720.6,10647.45,10679.65,190869804,11018.21\\r\\n4-May-18,10700.45,10700.45,10601.6,10618.25,192296041,9721.56\\r\\n7-May-18,10653.15,10725.65,10635.65,10715.5,173620240,9239.44\\r\\n8-May-18,10757.9,10758.55,10689.4,10717.8,278118616,12783.49\\r\\n9-May-18,10693.35,10766.25,10689.85,10741.7,222115640,10390.92\\r\\n10-May-18,10779.65,10785.55,10705,10716.55,197988475,10526.38\\r\\n11-May-18,10741.95,10812.05,10724.45,10806.5,209392114,10432.43\\r\\n14-May-18,10815.15,10834.85,10774.75,10806.6,176697512,9075.44\\r\\n15-May-18,10812.6,10929.2,10781.4,10801.85,262202312,13582.7\\r\\n16-May-18,10751.95,10790.45,10699.7,10741.1,238221884,11359.48\\r\\n17-May-18,10775.6,10777.25,10664.5,10682.7,220738923,12506.3\\r\\n18-May-18,10671.85,10674.95,10589.1,10596.4,229908939,13908.47\\r\\n21-May-18,10616.7,10621.7,10505.8,10516.7,197294184,11346.13\\r\\n22-May-18,10518.45,10558.6,10490.55,10536.7,249236637,12017.36\\r\\n23-May-18,10521.1,10533.55,10417.8,10430.35,299919120,13456.6\\r\\n24-May-18,10464.85,10535.15,10419.8,10513.85,306792497,12914.16\\r\\n25-May-18,10533.05,10628.05,10524,10605.15,268914888,12431.16\\r\\n28-May-18,10648.35,10709.8,10640.55,10688.65,239786001,11764.35\\r\\n29-May-18,10689.4,10717.25,10616.1,10633.3,232761575,11817.39\\r\\n30-May-18,10579,10648.7,10558.45,10614.35,246124259,12224.76\\r\\n31-May-18,10670.1,10763.8,10620.4,10736.15,629198569,29479.77\\r\\n1-Jun-18,10738.45,10764.75,10681.5,10696.2,227355567,12965.01\\r\\n4-Jun-18,10765.95,10770.3,10618.35,10628.5,210148313,14120.49\\r\\n5-Jun-18,10630.7,10633.15,10550.9,10593.15,172898027,10027.54\\r\\n6-Jun-18,10603.45,10698.35,10587.5,10684.65,195761429,9920.75\\r\\n7-Jun-18,10722.6,10818,10722.6,10768.35,227663151,11315.24\\r\\n8-Jun-18,10736.4,10779.45,10709.05,10767.65,215942528,12360.88\\r\\n11-Jun-18,10781.85,10850.55,10777.05,10786.95,217849903,11384.97\\r\\n12-Jun-18,10816.15,10856.55,10789.4,10842.85,204419184,11989.07\\r\\n13-Jun-18,10887.5,10893.25,10842.65,10856.7,220003032,12982.8\\r\\n14-Jun-18,10832.9,10833.7,10773.55,10808.05,190031664,11659.79\\r\\n15-Jun-18,10808.65,10834,10755.4,10817.7,314764425,19271.43\\r\\n18-Jun-18,10830.2,10830.2,10787.35,10799.85,202727202,11182.48\\r\\n19-Jun-18,10789.45,10789.45,10701.2,10710.45,231382790,12290.16\\r\\n20-Jun-18,10734.65,10781.8,10724.05,10772.05,199467082,10858.35\\r\\n21-Jun-18,10808.45,10809.6,10725.9,10741.1,230507383,12211.18\\r\\n22-Jun-18,10742.7,10837,10710.45,10821.85,236898415,13520.01\\r\\n25-Jun-18,10822.9,10831.05,10753.05,10762.45,236693278,12012.41\\r\\n26-Jun-18,10742.7,10805.25,10732.55,10769.15,226846382,12113.53\\r\\n27-Jun-18,10785.5,10785.5,10652.4,10671.4,253620792,13837.03\\r\\n28-Jun-18,10660.8,10674.2,10557.7,10589.1,363157327,20187.98\\r\\n29-Jun-18,10612.85,10723.05,10612.35,10714.3,250327878,14440.17\\r\\n2-Jul-18,10732.35,10736.15,10604.65,10657.3,304536687,13591.3\\r\\n3-Jul-18,10668.6,10713.3,10630.25,10699.9,208371545,10896.89\\r\\n4-Jul-18,10715,10777.15,10677.75,10769.9,179268271,10388.69\\r\\n5-Jul-18,10786.05,10786.05,10726.25,10749.75,227267176,13676.58\\r\\n6-Jul-18,10744.15,10816.35,10735.05,10772.65,256547706,14006.48\\r\\n9-Jul-18,10838.3,10860.35,10807.15,10852.9,189331016,10843.92\\r\\n10-Jul-18,10902.75,10956.9,10876.65,10947.25,203061980,12834.85\\r\\n11-Jul-18,10956.4,10976.65,10923,10948.3,229211999,15944.45\\r\\n12-Jul-18,11006.95,11078.3,10999.65,11023.2,256034815,15787.28\\r\\n13-Jul-18,11056.9,11071.35,10999.75,11018.9,241670818,14744.56\\r\\n16-Jul-18,11018.95,11019.5,10926.25,10936.85,216971413,13709.57\\r\\n17-Jul-18,10939.65,11018.5,10925.6,11008.05,217107580,12649.4\\r\\n18-Jul-18,11060.2,11076.2,10956.3,10980.45,232502459,13320.2\\r\\n19-Jul-18,10999.5,11006.5,10935.45,10957.1,222056399,12199.98\\r\\n20-Jul-18,10963.5,11030.25,10946.2,11010.2,193144113,14105.94\\r\\n23-Jul-18,11019.85,11093.4,11010.95,11084.75,236153085,14932.51\\r\\n24-Jul-18,11109,11143.4,11092.5,11134.3,212247395,13931.15\\r\\n25-Jul-18,11148.4,11157.15,11113.25,11132,212333169,12528.8\\r\\n26-Jul-18,11132.95,11185.85,11125.7,11167.3,376657398,21595.33\\r\\n27-Jul-18,11232.75,11283.4,11210.25,11278.35,324343457,15203.09\\r\\n30-Jul-18,11296.65,11328.1,11261.45,11319.55,287435926,14716.66\\r\\n31-Jul-18,11311.05,11366,11267.75,11356.5,264430889,15297.4\\r\\n1-Aug-18,11359.8,11390.55,11313.55,11346.2,278012697,14436.12\\r\\n2-Aug-18,11328.9,11328.9,11234.95,11244.7,216533127,12267.66\\r\\n3-Aug-18,11297.8,11368,11294.55,11360.8,225146360,12984.66\\r\\n6-Aug-18,11401.5,11427.65,11370.6,11387.1,210002582,11321.55\\r\\n7-Aug-18,11423.15,11428.95,11359.7,11389.45,233409612,12457.71\\r\\n8-Aug-18,11412.5,11459.95,11379.3,11450,217047641,12422.62\\r\\n9-Aug-18,11493.25,11495.2,11454.1,11470.7,311521403,15842.76\\r\\n10-Aug-18,11474.95,11478.75,11419.65,11429.5,336424182,15738.26\\r\\n13-Aug-18,11369.6,11406.3,11340.3,11355.75,254466760,12899.22\\r\\n14-Aug-18,11381.7,11452.45,11370.8,11435.1,239841680,13935.35\\r\\n16-Aug-18,11397.15,11449.85,11366.25,11385.05,299610298,17081.62\\r\\n17-Aug-18,11437.15,11486.45,11431.8,11470.75,241985503,13275.31\\r\\n20-Aug-18,11502.1,11565.3,11499.65,11551.75,239843358,14119.93\\r\\n21-Aug-18,11576.2,11581.75,11539.6,11570.9,231063669,13528.83\\r\\n23-Aug-18,11620.7,11620.7,11546.7,11582.75,256163842,16117.77\\r\\n24-Aug-18,11566.6,11604.6,11532,11557.1,225604574,13019.55\\r\\n27-Aug-18,11605.85,11700.95,11595.6,11691.95,205689327,11707.5\\r\\n28-Aug-18,11731.95,11760.2,11710.5,11738.5,249420312,13946.7\\r\\n29-Aug-18,11744.95,11753.2,11678.85,11691.9,259351550,14324.65\\r\\n30-Aug-18,11694.75,11698.8,11639.7,11676.8,323450305,18275.54\\r\\n31-Aug-18,11675.85,11727.65,11640.1,11680.5,357230312,20755.73\\r\\n3-Sep-18,11751.8,11751.8,11567.4,11582.35,241726864,16139.58\\r\\n4-Sep-18,11598.75,11602.55,11496.85,11520.3,262701030,16254.78\\r\\n5-Sep-18,11514.85,11542.65,11393.85,11476.95,253689858,15078.23\\r\\n6-Sep-18,11514.15,11562.25,11436.05,11536.9,255558129,15161\\r\\n7-Sep-18,11558.25,11603,11484.4,11589.1,305029077,16441.02\\r\\n10-Sep-18,11570.25,11573,11427.3,11438.1,295597988,16513.89\\r\\n11-Sep-18,11476.85,11479.4,11274,11287.5,318093125,18745.54\\r\\n12-Sep-18,11340.1,11380.75,11250.2,11369.9,276509748,15567.9\\r\\n14-Sep-18,11443.5,11523.25,11430.55,11515.2,285218296,16423.36\\r\\n17-Sep-18,11464.95,11464.95,11366.9,11377.75,207620518,11294.84\\r\\n18-Sep-18,11381.55,11411.45,11268.95,11278.9,248298794,13814.11\\r\\n19-Sep-18,11326.65,11332.05,11210.9,11234.35,258424384,15116.69\\r\\n21-Sep-18,11271.3,11346.8,10866.45,11143.1,741153209,35131.19\\r\\n24-Sep-18,11164.4,11170.15,10943.6,10967.4,398815949,23023.34\\r\\n25-Sep-18,10969.95,11080.6,10882.85,11067.45,417548830,22878.57\\r\\n26-Sep-18,11145.55,11145.55,10993.05,11053.8,351041146,17803.68\\r\\n27-Sep-18,11079.8,11089.45,10953.35,10977.55,418210067,22582.86\\r\\n28-Sep-18,11008.1,11034.1,10850.3,10930.45,492894147,23227.86\\r\\n1-Oct-18,10930.9,11035.65,10821.55,11008.3,398987274,20391.72\\r\\n3-Oct-18,10982.7,10989.05,10843.75,10858.25,398756507,21225.59\\r\\n4-Oct-18,10754.7,10754.7,10547.25,10599.25,438202008,23711.57\\r\\n5-Oct-18,10514.1,10540.65,10261.9,10316.45,625153832,25254.21\\r\\n8-Oct-18,10310.15,10398.35,10198.4,10348.05,470279031,22130.94\\r\\n9-Oct-18,10390.3,10397.6,10279.35,10301.05,443795275,18285.41\\r\\n10-Oct-18,10331.85,10482.35,10318.25,10460.1,373844130,19592.59\\r\\n11-Oct-18,10169.8,10335.95,10138.6,10234.65,498509417,21907.13\\r\\n12-Oct-18,10331.55,10492.45,10322.15,10472.5,354056762,18606.04\\r\\n15-Oct-18,10524.2,10526.3,10410.15,10512.5,267517728,14372.15\\r\\n16-Oct-18,10550.15,10604.9,10525.3,10584.75,273444095,15453.03\\r\\n17-Oct-18,10688.7,10710.15,10436.45,10453.05,293586908,17173.14\\r\\n19-Oct-18,10339.7,10380.1,10249.6,10303.55,368552204,20505.66\\r\\n22-Oct-18,10405.85,10408.55,10224,10245.25,306472776,17241.94\\r\\n23-Oct-18,10152.6,10222.1,10102.35,10146.8,312042090,18114.71\\r\\n24-Oct-18,10278.15,10290.65,10126.7,10224.75,362272428,19413.24\\r\\n25-Oct-18,10135.05,10166.6,10079.3,10124.9,522421914,23503.76\\r\\n26-Oct-18,10122.35,10128.85,10004.55,10030,375563273,16120.14\\r\\n29-Oct-18,10078.1,10275.3,10020.35,10250.85,375749433,17514.85\\r\\n30-Oct-18,10239.4,10285.1,10175.35,10198.4,298753965,14789.51\\r\\n31-Oct-18,10209.55,10396,10105.1,10386.6,386618948,21513.85\\r\\n1-Nov-18,10441.7,10441.9,10341.9,10380.45,359340403,18111.88\\r\\n2-Nov-18,10462.3,10606.95,10457.7,10553,434175607,21758.8\\r\\n5-Nov-18,10558.75,10558.8,10477,10524,311176379,14761.17\\r\\n6-Nov-18,10552,10600.25,10491.45,10530,309878810,14006.19\\r\\n7-Nov-18,10614.45,10616.45,10582.3,10598.4,32194181,1534.08\\r\\n9-Nov-18,10614.7,10619.55,10544.85,10585.2,305817331,15294.83\\r\\n12-Nov-18,10607.8,10645.5,10464.05,10482.2,267710127,13445.33\\r\\n13-Nov-18,10451.9,10596.25,10440.55,10582.5,262541595,13078.98\\r\\n14-Nov-18,10634.9,10651.6,10532.7,10576.3,396373781,19374.89\\r\\n15-Nov-18,10580.6,10646.5,10557.5,10616.7,306011926,14937.67\\r\\n16-Nov-18,10644,10695.15,10631.15,10682.2,353384918,16728.88\\r\\n19-Nov-18,10731.25,10774.7,10688.8,10763.4,280522364,13540.9\\r\\n20-Nov-18,10740.1,10740.85,10640.85,10656.2,304322623,13077.24\\r\\n21-Nov-18,10670.95,10671.3,10562.35,10600.05,310191008,15382.32\\r\\n22-Nov-18,10612.65,10646.25,10512,10526.75,246926671,12254.36\\r\\n26-Nov-18,10568.3,10637.8,10489.75,10628.6,332863041,15927.25\\r\\n27-Nov-18,10621.45,10695.15,10596.35,10685.6,382834178,17296.28\\r\\n28-Nov-18,10708.75,10757.8,10699.85,10728.85,437627174,17737.28\\r\\n29-Nov-18,10808.7,10883.05,10782.35,10858.7,712650890,26283.43\\r\\n30-Nov-18,10892.1,10922.45,10835.1,10876.75,467857329,19964.33\\r\\n3-Dec-18,10930.7,10941.2,10845.35,10883.75,422358631,18484.91\\r\\n4-Dec-18,10877.1,10890.95,10833.35,10869.5,332137359,15857.16\\r\\n5-Dec-18,10820.45,10821.05,10747.95,10782.9,322019985,15176.26\\r\\n6-Dec-18,10718.15,10722.65,10588.25,10601.15,328275196,16488.87\\r\\n7-Dec-18,10644.8,10704.55,10599.35,10693.7,335849636,18597.83\\r\\n10-Dec-18,10508.7,10558.85,10474.95,10488.45,393097292,16524.36\\r\\n11-Dec-18,10350.05,10567.15,10333.85,10549.15,438699334,20112.91\\r\\n12-Dec-18,10591,10752.2,10560.8,10737.6,371697496,17447.45\\r\\n13-Dec-18,10810.75,10838.6,10749.5,10791.55,387810061,17582.8\\r\\n14-Dec-18,10784.5,10815.75,10752.1,10805.45,350579275,14486.1\\r\\n17-Dec-18,10853.2,10900.35,10844.85,10888.35,306145514,12528.59\\r\\n18-Dec-18,10850.9,10915.4,10819.1,10908.7,294942271,13556.45\\r\\n19-Dec-18,10930.55,10985.15,10928,10967.3,321801803,17172.64\\r\\n20-Dec-18,10885.2,10962.55,10880.05,10951.7,328802751,14945.94\\r\\n21-Dec-18,10944.25,10963.65,10738.65,10754,389235107,18663.85\\r\\n24-Dec-18,10780.9,10782.3,10649.25,10663.5,230291344,10695.6\\r\\n26-Dec-18,10635.45,10747.5,10534.55,10729.85,271942701,12831.99\\r\\n27-Dec-18,10817.9,10834.2,10764.45,10779.8,470160392,19119.88\\r\\n28-Dec-18,10820.95,10893.6,10817.15,10859.9,253086507,12615.01\\r\\n31-Dec-18,10913.2,10923.55,10853.2,10862.55,186494657,10176.13\\r\\n'}"
            ]
          },
          "metadata": {
            "tags": []
          },
          "execution_count": 18
        }
      ]
    },
    {
      "cell_type": "code",
      "metadata": {
        "id": "1nfX8VC-tEvX",
        "colab_type": "code",
        "colab": {
          "base_uri": "https://localhost:8080/",
          "height": 450
        },
        "outputId": "441c1095-80fb-42ad-97fd-eacf3abfcc34"
      },
      "source": [
        "# Store the data into variable\n",
        "\n",
        "df = pd.read_csv('Nifty-2018.csv')\n",
        "#set the date as the index of the dataframe\n",
        "df = df.set_index(pd.DatetimeIndex(df['Date'].values))\n",
        "#give the index name as Date\n",
        "df.index.name = 'Date'\n",
        "df"
      ],
      "execution_count": 19,
      "outputs": [
        {
          "output_type": "execute_result",
          "data": {
            "text/html": [
              "<div>\n",
              "<style scoped>\n",
              "    .dataframe tbody tr th:only-of-type {\n",
              "        vertical-align: middle;\n",
              "    }\n",
              "\n",
              "    .dataframe tbody tr th {\n",
              "        vertical-align: top;\n",
              "    }\n",
              "\n",
              "    .dataframe thead th {\n",
              "        text-align: right;\n",
              "    }\n",
              "</style>\n",
              "<table border=\"1\" class=\"dataframe\">\n",
              "  <thead>\n",
              "    <tr style=\"text-align: right;\">\n",
              "      <th></th>\n",
              "      <th>Date</th>\n",
              "      <th>Open</th>\n",
              "      <th>High</th>\n",
              "      <th>Low</th>\n",
              "      <th>Close</th>\n",
              "      <th>Shares Traded</th>\n",
              "      <th>Turnover (Rs. Cr)</th>\n",
              "    </tr>\n",
              "    <tr>\n",
              "      <th>Date</th>\n",
              "      <th></th>\n",
              "      <th></th>\n",
              "      <th></th>\n",
              "      <th></th>\n",
              "      <th></th>\n",
              "      <th></th>\n",
              "      <th></th>\n",
              "    </tr>\n",
              "  </thead>\n",
              "  <tbody>\n",
              "    <tr>\n",
              "      <th>2018-01-01</th>\n",
              "      <td>1-Jan-18</td>\n",
              "      <td>10531.70</td>\n",
              "      <td>10537.85</td>\n",
              "      <td>10423.10</td>\n",
              "      <td>10435.55</td>\n",
              "      <td>134532090</td>\n",
              "      <td>7546.56</td>\n",
              "    </tr>\n",
              "    <tr>\n",
              "      <th>2018-01-02</th>\n",
              "      <td>2-Jan-18</td>\n",
              "      <td>10477.55</td>\n",
              "      <td>10495.20</td>\n",
              "      <td>10404.65</td>\n",
              "      <td>10442.20</td>\n",
              "      <td>158092430</td>\n",
              "      <td>8665.47</td>\n",
              "    </tr>\n",
              "    <tr>\n",
              "      <th>2018-01-03</th>\n",
              "      <td>3-Jan-18</td>\n",
              "      <td>10482.65</td>\n",
              "      <td>10503.60</td>\n",
              "      <td>10429.55</td>\n",
              "      <td>10443.20</td>\n",
              "      <td>172516859</td>\n",
              "      <td>9541.60</td>\n",
              "    </tr>\n",
              "    <tr>\n",
              "      <th>2018-01-04</th>\n",
              "      <td>4-Jan-18</td>\n",
              "      <td>10469.40</td>\n",
              "      <td>10513.00</td>\n",
              "      <td>10441.45</td>\n",
              "      <td>10504.80</td>\n",
              "      <td>180257392</td>\n",
              "      <td>9561.95</td>\n",
              "    </tr>\n",
              "    <tr>\n",
              "      <th>2018-01-05</th>\n",
              "      <td>5-Jan-18</td>\n",
              "      <td>10534.25</td>\n",
              "      <td>10566.10</td>\n",
              "      <td>10520.10</td>\n",
              "      <td>10558.85</td>\n",
              "      <td>186469717</td>\n",
              "      <td>10306.22</td>\n",
              "    </tr>\n",
              "    <tr>\n",
              "      <th>...</th>\n",
              "      <td>...</td>\n",
              "      <td>...</td>\n",
              "      <td>...</td>\n",
              "      <td>...</td>\n",
              "      <td>...</td>\n",
              "      <td>...</td>\n",
              "      <td>...</td>\n",
              "    </tr>\n",
              "    <tr>\n",
              "      <th>2018-12-24</th>\n",
              "      <td>24-Dec-18</td>\n",
              "      <td>10780.90</td>\n",
              "      <td>10782.30</td>\n",
              "      <td>10649.25</td>\n",
              "      <td>10663.50</td>\n",
              "      <td>230291344</td>\n",
              "      <td>10695.60</td>\n",
              "    </tr>\n",
              "    <tr>\n",
              "      <th>2018-12-26</th>\n",
              "      <td>26-Dec-18</td>\n",
              "      <td>10635.45</td>\n",
              "      <td>10747.50</td>\n",
              "      <td>10534.55</td>\n",
              "      <td>10729.85</td>\n",
              "      <td>271942701</td>\n",
              "      <td>12831.99</td>\n",
              "    </tr>\n",
              "    <tr>\n",
              "      <th>2018-12-27</th>\n",
              "      <td>27-Dec-18</td>\n",
              "      <td>10817.90</td>\n",
              "      <td>10834.20</td>\n",
              "      <td>10764.45</td>\n",
              "      <td>10779.80</td>\n",
              "      <td>470160392</td>\n",
              "      <td>19119.88</td>\n",
              "    </tr>\n",
              "    <tr>\n",
              "      <th>2018-12-28</th>\n",
              "      <td>28-Dec-18</td>\n",
              "      <td>10820.95</td>\n",
              "      <td>10893.60</td>\n",
              "      <td>10817.15</td>\n",
              "      <td>10859.90</td>\n",
              "      <td>253086507</td>\n",
              "      <td>12615.01</td>\n",
              "    </tr>\n",
              "    <tr>\n",
              "      <th>2018-12-31</th>\n",
              "      <td>31-Dec-18</td>\n",
              "      <td>10913.20</td>\n",
              "      <td>10923.55</td>\n",
              "      <td>10853.20</td>\n",
              "      <td>10862.55</td>\n",
              "      <td>186494657</td>\n",
              "      <td>10176.13</td>\n",
              "    </tr>\n",
              "  </tbody>\n",
              "</table>\n",
              "<p>246 rows × 7 columns</p>\n",
              "</div>"
            ],
            "text/plain": [
              "                 Date      Open  ...  Shares Traded  Turnover (Rs. Cr)\n",
              "Date                             ...                                  \n",
              "2018-01-01   1-Jan-18  10531.70  ...      134532090            7546.56\n",
              "2018-01-02   2-Jan-18  10477.55  ...      158092430            8665.47\n",
              "2018-01-03   3-Jan-18  10482.65  ...      172516859            9541.60\n",
              "2018-01-04   4-Jan-18  10469.40  ...      180257392            9561.95\n",
              "2018-01-05   5-Jan-18  10534.25  ...      186469717           10306.22\n",
              "...               ...       ...  ...            ...                ...\n",
              "2018-12-24  24-Dec-18  10780.90  ...      230291344           10695.60\n",
              "2018-12-26  26-Dec-18  10635.45  ...      271942701           12831.99\n",
              "2018-12-27  27-Dec-18  10817.90  ...      470160392           19119.88\n",
              "2018-12-28  28-Dec-18  10820.95  ...      253086507           12615.01\n",
              "2018-12-31  31-Dec-18  10913.20  ...      186494657           10176.13\n",
              "\n",
              "[246 rows x 7 columns]"
            ]
          },
          "metadata": {
            "tags": []
          },
          "execution_count": 19
        }
      ]
    },
    {
      "cell_type": "code",
      "metadata": {
        "id": "XGc2UQRd-qqv",
        "colab_type": "code",
        "colab": {
          "base_uri": "https://localhost:8080/",
          "height": 450
        },
        "outputId": "4ff15e35-5855-46dc-ed8a-49ac81f9b4d1"
      },
      "source": [
        "#Manipulate the Data\n",
        "#Create the target column\n",
        "df['Price_Up'] = np.where(df['Close'].shift(-1) > df['Close'], 1, 0)\n",
        "#Remove the Date column\n",
        "df = df.drop(columns=['Date'])\n",
        "df"
      ],
      "execution_count": 20,
      "outputs": [
        {
          "output_type": "execute_result",
          "data": {
            "text/html": [
              "<div>\n",
              "<style scoped>\n",
              "    .dataframe tbody tr th:only-of-type {\n",
              "        vertical-align: middle;\n",
              "    }\n",
              "\n",
              "    .dataframe tbody tr th {\n",
              "        vertical-align: top;\n",
              "    }\n",
              "\n",
              "    .dataframe thead th {\n",
              "        text-align: right;\n",
              "    }\n",
              "</style>\n",
              "<table border=\"1\" class=\"dataframe\">\n",
              "  <thead>\n",
              "    <tr style=\"text-align: right;\">\n",
              "      <th></th>\n",
              "      <th>Open</th>\n",
              "      <th>High</th>\n",
              "      <th>Low</th>\n",
              "      <th>Close</th>\n",
              "      <th>Shares Traded</th>\n",
              "      <th>Turnover (Rs. Cr)</th>\n",
              "      <th>Price_Up</th>\n",
              "    </tr>\n",
              "    <tr>\n",
              "      <th>Date</th>\n",
              "      <th></th>\n",
              "      <th></th>\n",
              "      <th></th>\n",
              "      <th></th>\n",
              "      <th></th>\n",
              "      <th></th>\n",
              "      <th></th>\n",
              "    </tr>\n",
              "  </thead>\n",
              "  <tbody>\n",
              "    <tr>\n",
              "      <th>2018-01-01</th>\n",
              "      <td>10531.70</td>\n",
              "      <td>10537.85</td>\n",
              "      <td>10423.10</td>\n",
              "      <td>10435.55</td>\n",
              "      <td>134532090</td>\n",
              "      <td>7546.56</td>\n",
              "      <td>1</td>\n",
              "    </tr>\n",
              "    <tr>\n",
              "      <th>2018-01-02</th>\n",
              "      <td>10477.55</td>\n",
              "      <td>10495.20</td>\n",
              "      <td>10404.65</td>\n",
              "      <td>10442.20</td>\n",
              "      <td>158092430</td>\n",
              "      <td>8665.47</td>\n",
              "      <td>1</td>\n",
              "    </tr>\n",
              "    <tr>\n",
              "      <th>2018-01-03</th>\n",
              "      <td>10482.65</td>\n",
              "      <td>10503.60</td>\n",
              "      <td>10429.55</td>\n",
              "      <td>10443.20</td>\n",
              "      <td>172516859</td>\n",
              "      <td>9541.60</td>\n",
              "      <td>1</td>\n",
              "    </tr>\n",
              "    <tr>\n",
              "      <th>2018-01-04</th>\n",
              "      <td>10469.40</td>\n",
              "      <td>10513.00</td>\n",
              "      <td>10441.45</td>\n",
              "      <td>10504.80</td>\n",
              "      <td>180257392</td>\n",
              "      <td>9561.95</td>\n",
              "      <td>1</td>\n",
              "    </tr>\n",
              "    <tr>\n",
              "      <th>2018-01-05</th>\n",
              "      <td>10534.25</td>\n",
              "      <td>10566.10</td>\n",
              "      <td>10520.10</td>\n",
              "      <td>10558.85</td>\n",
              "      <td>186469717</td>\n",
              "      <td>10306.22</td>\n",
              "      <td>1</td>\n",
              "    </tr>\n",
              "    <tr>\n",
              "      <th>...</th>\n",
              "      <td>...</td>\n",
              "      <td>...</td>\n",
              "      <td>...</td>\n",
              "      <td>...</td>\n",
              "      <td>...</td>\n",
              "      <td>...</td>\n",
              "      <td>...</td>\n",
              "    </tr>\n",
              "    <tr>\n",
              "      <th>2018-12-24</th>\n",
              "      <td>10780.90</td>\n",
              "      <td>10782.30</td>\n",
              "      <td>10649.25</td>\n",
              "      <td>10663.50</td>\n",
              "      <td>230291344</td>\n",
              "      <td>10695.60</td>\n",
              "      <td>1</td>\n",
              "    </tr>\n",
              "    <tr>\n",
              "      <th>2018-12-26</th>\n",
              "      <td>10635.45</td>\n",
              "      <td>10747.50</td>\n",
              "      <td>10534.55</td>\n",
              "      <td>10729.85</td>\n",
              "      <td>271942701</td>\n",
              "      <td>12831.99</td>\n",
              "      <td>1</td>\n",
              "    </tr>\n",
              "    <tr>\n",
              "      <th>2018-12-27</th>\n",
              "      <td>10817.90</td>\n",
              "      <td>10834.20</td>\n",
              "      <td>10764.45</td>\n",
              "      <td>10779.80</td>\n",
              "      <td>470160392</td>\n",
              "      <td>19119.88</td>\n",
              "      <td>1</td>\n",
              "    </tr>\n",
              "    <tr>\n",
              "      <th>2018-12-28</th>\n",
              "      <td>10820.95</td>\n",
              "      <td>10893.60</td>\n",
              "      <td>10817.15</td>\n",
              "      <td>10859.90</td>\n",
              "      <td>253086507</td>\n",
              "      <td>12615.01</td>\n",
              "      <td>1</td>\n",
              "    </tr>\n",
              "    <tr>\n",
              "      <th>2018-12-31</th>\n",
              "      <td>10913.20</td>\n",
              "      <td>10923.55</td>\n",
              "      <td>10853.20</td>\n",
              "      <td>10862.55</td>\n",
              "      <td>186494657</td>\n",
              "      <td>10176.13</td>\n",
              "      <td>0</td>\n",
              "    </tr>\n",
              "  </tbody>\n",
              "</table>\n",
              "<p>246 rows × 7 columns</p>\n",
              "</div>"
            ],
            "text/plain": [
              "                Open      High  ...  Turnover (Rs. Cr)  Price_Up\n",
              "Date                            ...                             \n",
              "2018-01-01  10531.70  10537.85  ...            7546.56         1\n",
              "2018-01-02  10477.55  10495.20  ...            8665.47         1\n",
              "2018-01-03  10482.65  10503.60  ...            9541.60         1\n",
              "2018-01-04  10469.40  10513.00  ...            9561.95         1\n",
              "2018-01-05  10534.25  10566.10  ...           10306.22         1\n",
              "...              ...       ...  ...                ...       ...\n",
              "2018-12-24  10780.90  10782.30  ...           10695.60         1\n",
              "2018-12-26  10635.45  10747.50  ...           12831.99         1\n",
              "2018-12-27  10817.90  10834.20  ...           19119.88         1\n",
              "2018-12-28  10820.95  10893.60  ...           12615.01         1\n",
              "2018-12-31  10913.20  10923.55  ...           10176.13         0\n",
              "\n",
              "[246 rows x 7 columns]"
            ]
          },
          "metadata": {
            "tags": []
          },
          "execution_count": 20
        }
      ]
    },
    {
      "cell_type": "code",
      "metadata": {
        "id": "JHXKKu_vBQkZ",
        "colab_type": "code",
        "colab": {}
      },
      "source": [
        "#Split the data set into a feature and target dataset\n",
        "X = df.iloc[:,0:df.shape[1]-1].values\n",
        "Y = df.iloc[:,df.shape[1]-1].values"
      ],
      "execution_count": 21,
      "outputs": []
    },
    {
      "cell_type": "code",
      "metadata": {
        "id": "iARLT_AQIw1L",
        "colab_type": "code",
        "colab": {}
      },
      "source": [
        "#Split the Dataset again but this time into 80% training and 20% testing dataset\n",
        "\n",
        "X_train, X_test, Y_train, Y_test = train_test_split(X, Y, test_size=0.2)"
      ],
      "execution_count": 23,
      "outputs": []
    },
    {
      "cell_type": "code",
      "metadata": {
        "id": "QcXBB3IQJdEj",
        "colab_type": "code",
        "colab": {
          "base_uri": "https://localhost:8080/",
          "height": 34
        },
        "outputId": "d55859d1-61b9-4705-89e1-9937d137cbca"
      },
      "source": [
        "#Create and train the model(DecisionTreeClassifier)\n",
        "tree = DecisionTreeClassifier().fit(X_train, Y_train)\n",
        "#show how well the model did on the test dataset\n",
        "print(tree.score(X_test,Y_test))"
      ],
      "execution_count": 24,
      "outputs": [
        {
          "output_type": "stream",
          "text": [
            "0.6\n"
          ],
          "name": "stdout"
        }
      ]
    },
    {
      "cell_type": "code",
      "metadata": {
        "id": "YI_AnD4rKr-a",
        "colab_type": "code",
        "colab": {
          "base_uri": "https://localhost:8080/",
          "height": 51
        },
        "outputId": "112f1c5a-1a25-4654-81c1-26efcd26adc0"
      },
      "source": [
        "#Show the model predictions\n",
        "tree_predictionss = tree.predict(X_test)\n",
        "print(tree_predictionss)"
      ],
      "execution_count": 25,
      "outputs": [
        {
          "output_type": "stream",
          "text": [
            "[0 0 1 0 0 1 0 1 1 1 0 1 0 0 1 1 0 0 1 1 0 1 0 0 1 1 0 0 1 1 1 0 1 0 0 1 0\n",
            " 0 1 1 0 0 1 0 0 0 0 0 1 1]\n"
          ],
          "name": "stdout"
        }
      ]
    },
    {
      "cell_type": "code",
      "metadata": {
        "id": "K2htpeqaLQAh",
        "colab_type": "code",
        "colab": {
          "base_uri": "https://localhost:8080/",
          "height": 68
        },
        "outputId": "098cfc09-c767-467e-8928-a21665e38522"
      },
      "source": [
        "#Show the actual values\n",
        "Y_test"
      ],
      "execution_count": 26,
      "outputs": [
        {
          "output_type": "execute_result",
          "data": {
            "text/plain": [
              "array([0, 1, 0, 0, 0, 1, 0, 1, 0, 0, 1, 1, 1, 0, 1, 0, 0, 1, 0, 0, 1, 1,\n",
              "       0, 1, 1, 1, 0, 0, 1, 1, 1, 1, 1, 0, 0, 1, 0, 0, 0, 1, 1, 0, 0, 1,\n",
              "       1, 0, 0, 0, 0, 0])"
            ]
          },
          "metadata": {
            "tags": []
          },
          "execution_count": 26
        }
      ]
    },
    {
      "cell_type": "code",
      "metadata": {
        "id": "OuTr83vwLjSw",
        "colab_type": "code",
        "colab": {}
      },
      "source": [
        ""
      ],
      "execution_count": null,
      "outputs": []
    }
  ]
}