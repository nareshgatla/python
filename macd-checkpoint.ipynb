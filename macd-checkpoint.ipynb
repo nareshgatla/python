{
 "cells": [
  {
   "cell_type": "code",
   "execution_count": 1,
   "metadata": {},
   "outputs": [
    {
     "data": {
      "text/plain": [
       "'C:\\\\Users\\\\admin'"
      ]
     },
     "execution_count": 1,
     "metadata": {},
     "output_type": "execute_result"
    }
   ],
   "source": [
    "pwd"
   ]
  },
  {
   "cell_type": "code",
   "execution_count": 2,
   "metadata": {},
   "outputs": [
    {
     "data": {
      "text/plain": [
       "6"
      ]
     },
     "execution_count": 2,
     "metadata": {},
     "output_type": "execute_result"
    }
   ],
   "source": [
    "1+5"
   ]
  },
  {
   "cell_type": "code",
   "execution_count": 5,
   "metadata": {},
   "outputs": [],
   "source": [
    "import pandas as pd\n",
    "import numpy as np\n"
   ]
  },
  {
   "cell_type": "code",
   "execution_count": 6,
   "metadata": {},
   "outputs": [
    {
     "data": {
      "text/plain": [
       "array([[[93, 78, 76],\n",
       "        [79, 59, 51],\n",
       "        [66, 62, 36],\n",
       "        [17, 78, 53]],\n",
       "\n",
       "       [[91, 82, 68],\n",
       "        [81, 83, 48],\n",
       "        [43,  8, 52],\n",
       "        [65, 79, 64]],\n",
       "\n",
       "       [[43,  8, 99],\n",
       "        [76, 47, 53],\n",
       "        [42, 76,  9],\n",
       "        [79, 62, 85]],\n",
       "\n",
       "       [[71, 73,  4],\n",
       "        [38, 53,  8],\n",
       "        [92, 14, 84],\n",
       "        [95, 58, 80]]])"
      ]
     },
     "execution_count": 6,
     "metadata": {},
     "output_type": "execute_result"
    }
   ],
   "source": [
    "np.random.randint(1,100,(4,4,3))"
   ]
  },
  {
   "cell_type": "code",
   "execution_count": 7,
   "metadata": {},
   "outputs": [
    {
     "data": {
      "text/plain": [
       "0"
      ]
     },
     "execution_count": 7,
     "metadata": {},
     "output_type": "execute_result"
    }
   ],
   "source": [
    "np.random.randint(0,16)"
   ]
  },
  {
   "cell_type": "code",
   "execution_count": 8,
   "metadata": {},
   "outputs": [
    {
     "ename": "NameError",
     "evalue": "name 'ri' is not defined",
     "output_type": "error",
     "traceback": [
      "\u001b[1;31m---------------------------------------------------------------------------\u001b[0m",
      "\u001b[1;31mNameError\u001b[0m                                 Traceback (most recent call last)",
      "\u001b[1;32m<ipython-input-8-6eb594f25ab7>\u001b[0m in \u001b[0;36m<module>\u001b[1;34m\u001b[0m\n\u001b[1;32m----> 1\u001b[1;33m \u001b[0mri\u001b[0m\u001b[1;33m(\u001b[0m\u001b[1;36m1\u001b[0m\u001b[1;33m,\u001b[0m\u001b[1;36m100\u001b[0m\u001b[1;33m,\u001b[0m\u001b[1;36m30\u001b[0m\u001b[1;33m)\u001b[0m\u001b[1;33m\u001b[0m\u001b[1;33m\u001b[0m\u001b[0m\n\u001b[0m",
      "\u001b[1;31mNameError\u001b[0m: name 'ri' is not defined"
     ]
    }
   ],
   "source": [
    "ri(1,100,30)"
   ]
  },
  {
   "cell_type": "code",
   "execution_count": 9,
   "metadata": {},
   "outputs": [],
   "source": [
    "from numpy.random import randint as ri"
   ]
  },
  {
   "cell_type": "code",
   "execution_count": 10,
   "metadata": {},
   "outputs": [
    {
     "data": {
      "text/plain": [
       "array([44, 71,  3, 19, 52,  7, 21,  3, 81, 47])"
      ]
     },
     "execution_count": 10,
     "metadata": {},
     "output_type": "execute_result"
    }
   ],
   "source": [
    "ri(1,100,10)"
   ]
  },
  {
   "cell_type": "code",
   "execution_count": 11,
   "metadata": {},
   "outputs": [
    {
     "data": {
      "text/plain": [
       "array([[87, 53, 29, 77, 25],\n",
       "       [15, 58, 98,  1, 96],\n",
       "       [61, 95, 92, 70, 64],\n",
       "       [81, 35, 85, 68, 92],\n",
       "       [33, 73, 81, 69, 72],\n",
       "       [95, 75, 87, 62, 85]])"
      ]
     },
     "execution_count": 11,
     "metadata": {},
     "output_type": "execute_result"
    }
   ],
   "source": [
    "a = ri(1,100,30)\n",
    "a\n",
    "b= a.reshape(2,3,5)\n",
    "b\n",
    "c= b.reshape(6,-6164646)\n",
    "c"
   ]
  },
  {
   "cell_type": "code",
   "execution_count": 12,
   "metadata": {},
   "outputs": [
    {
     "name": "stdout",
     "output_type": "stream",
     "text": [
      "shape of a: (30,)\n"
     ]
    }
   ],
   "source": [
    "print(\"shape of a:\",a.shape)"
   ]
  },
  {
   "cell_type": "code",
   "execution_count": 13,
   "metadata": {},
   "outputs": [
    {
     "name": "stdout",
     "output_type": "stream",
     "text": [
      "shape of b: (2, 3, 5)\n"
     ]
    }
   ],
   "source": [
    "print(\"shape of b:\",b.shape)"
   ]
  },
  {
   "cell_type": "code",
   "execution_count": 14,
   "metadata": {},
   "outputs": [
    {
     "name": "stdout",
     "output_type": "stream",
     "text": [
      "shape of c: (6, 5)\n"
     ]
    }
   ],
   "source": [
    "print(\"shape of c:\",c.shape)"
   ]
  },
  {
   "cell_type": "code",
   "execution_count": 15,
   "metadata": {},
   "outputs": [
    {
     "name": "stdout",
     "output_type": "stream",
     "text": [
      "\n",
      " a looks like\n",
      " -------------------- \n",
      " [87 53 29 77 25 15 58 98  1 96 61 95 92 70 64 81 35 85 68 92 33 73 81 69\n",
      " 72 95 75 87 62 85] \n",
      " --------------------\n"
     ]
    }
   ],
   "source": [
    "print(\"\\n a looks like\\n\",'-'*20,\"\\n\",a,\"\\n\",\"-\"*20)"
   ]
  },
  {
   "cell_type": "code",
   "execution_count": 16,
   "metadata": {},
   "outputs": [
    {
     "name": "stdout",
     "output_type": "stream",
     "text": [
      "\n",
      " b looks like \n",
      " -------------------- \n",
      " [[[87 53 29 77 25]\n",
      "  [15 58 98  1 96]\n",
      "  [61 95 92 70 64]]\n",
      "\n",
      " [[81 35 85 68 92]\n",
      "  [33 73 81 69 72]\n",
      "  [95 75 87 62 85]]] \n",
      " --------------------\n"
     ]
    }
   ],
   "source": [
    "print(\"\\n b looks like \\n\",\"-\"*20,\"\\n\",b,\"\\n\",\"-\"*20)"
   ]
  },
  {
   "cell_type": "code",
   "execution_count": 17,
   "metadata": {},
   "outputs": [
    {
     "name": "stdout",
     "output_type": "stream",
     "text": [
      "\n",
      " c looks like \n",
      " -------------------- \n",
      " [[87 53 29 77 25]\n",
      " [15 58 98  1 96]\n",
      " [61 95 92 70 64]\n",
      " [81 35 85 68 92]\n",
      " [33 73 81 69 72]\n",
      " [95 75 87 62 85]] \n",
      " --------------------\n"
     ]
    }
   ],
   "source": [
    "print(\"\\n c looks like \\n\",\"-\"*20,\"\\n\",c,\"\\n\",\"-\"*20)"
   ]
  },
  {
   "cell_type": "code",
   "execution_count": 18,
   "metadata": {},
   "outputs": [
    {
     "name": "stdout",
     "output_type": "stream",
     "text": [
      "random integers are:\n",
      " [31 73 98 53 27 44 84 72 88  2]\n",
      "sorted integers are:\n",
      " [2, 27, 31, 44, 53, 72, 73, 84, 88, 98]\n"
     ]
    }
   ],
   "source": [
    "a = ri(1,100,10)\n",
    "\n",
    "print(\"random integers are:\\n\",a)\n",
    "print(\"sorted integers are:\\n\",sorted(a))"
   ]
  },
  {
   "cell_type": "code",
   "execution_count": 19,
   "metadata": {},
   "outputs": [
    {
     "data": {
      "text/plain": [
       "array([[93, 98, 21, 29,  7],\n",
       "       [42, 75, 54, 92,  5],\n",
       "       [12, 55, 75, 90,  8],\n",
       "       [93, 48, 98,  7, 53],\n",
       "       [21, 30, 17, 86, 46]])"
      ]
     },
     "execution_count": 19,
     "metadata": {},
     "output_type": "execute_result"
    }
   ],
   "source": [
    "m = ri(1,100,25).reshape(5,5)\n",
    "m"
   ]
  },
  {
   "cell_type": "code",
   "execution_count": 20,
   "metadata": {},
   "outputs": [
    {
     "name": "stdout",
     "output_type": "stream",
     "text": [
      "here is the sorted matrix along the columns:\n",
      " -------------------------------------------------- \n",
      " [[ 7 21 29 93 98]\n",
      " [ 5 42 54 75 92]\n",
      " [ 8 12 55 75 90]\n",
      " [ 7 48 53 93 98]\n",
      " [17 21 30 46 86]]\n"
     ]
    }
   ],
   "source": [
    "print(\"here is the sorted matrix along the columns:\\n\",\"-\"*50,\"\\n\",np.sort(m,axis=1))"
   ]
  },
  {
   "cell_type": "code",
   "execution_count": 21,
   "metadata": {},
   "outputs": [
    {
     "name": "stdout",
     "output_type": "stream",
     "text": [
      "here is the sorted matrix along the rows:\n",
      " -------------------------------------------------- \n",
      " [[12 30 17  7  5]\n",
      " [21 48 21 29  7]\n",
      " [42 55 54 86  8]\n",
      " [93 75 75 90 46]\n",
      " [93 98 98 92 53]]\n"
     ]
    }
   ],
   "source": [
    "print(\"here is the sorted matrix along the rows:\\n\",\"-\"*50,\"\\n\",np.sort(m,axis = 0))"
   ]
  },
  {
   "cell_type": "code",
   "execution_count": 22,
   "metadata": {},
   "outputs": [
    {
     "name": "stdout",
     "output_type": "stream",
     "text": [
      "max of m: 98\n",
      "max of b: 98\n"
     ]
    }
   ],
   "source": [
    "print(\"max of m:\",m.max())\n",
    "print(\"max of b:\",b.max())"
   ]
  },
  {
   "cell_type": "code",
   "execution_count": 23,
   "metadata": {},
   "outputs": [
    {
     "data": {
      "text/plain": [
       "array([[93, 98, 21, 29,  7],\n",
       "       [42, 75, 54, 92,  5],\n",
       "       [12, 55, 75, 90,  8],\n",
       "       [93, 48, 98,  7, 53],\n",
       "       [21, 30, 17, 86, 46]])"
      ]
     },
     "execution_count": 23,
     "metadata": {},
     "output_type": "execute_result"
    }
   ],
   "source": [
    "m"
   ]
  },
  {
   "cell_type": "code",
   "execution_count": 24,
   "metadata": {},
   "outputs": [
    {
     "name": "stdout",
     "output_type": "stream",
     "text": [
      "Max of a location: [1 3 3 2 3]\n"
     ]
    }
   ],
   "source": [
    "print(\"Max of a location:\",m.argmax(axis=1))"
   ]
  },
  {
   "cell_type": "code",
   "execution_count": 25,
   "metadata": {},
   "outputs": [
    {
     "name": "stdout",
     "output_type": "stream",
     "text": [
      "Max of a location: [0 0 3 1 3]\n"
     ]
    }
   ],
   "source": [
    "print(\"Max of a location:\",m.argmax(axis = 0))"
   ]
  },
  {
   "cell_type": "code",
   "execution_count": 26,
   "metadata": {},
   "outputs": [
    {
     "data": {
      "text/plain": [
       "array([ 0,  1,  2,  3,  4,  5,  6,  7,  8,  9, 10])"
      ]
     },
     "execution_count": 26,
     "metadata": {},
     "output_type": "execute_result"
    }
   ],
   "source": [
    "arr = np.arange(0,11)\n",
    "arr"
   ]
  },
  {
   "cell_type": "code",
   "execution_count": 27,
   "metadata": {},
   "outputs": [
    {
     "name": "stdout",
     "output_type": "stream",
     "text": [
      "Element at 7th index: 0\n"
     ]
    }
   ],
   "source": [
    "print(\"Element at 7th index:\",arr[0])"
   ]
  },
  {
   "cell_type": "code",
   "execution_count": 28,
   "metadata": {},
   "outputs": [
    {
     "name": "stdout",
     "output_type": "stream",
     "text": [
      "Elements from 3rd to 5th index: [3 4 5]\n"
     ]
    }
   ],
   "source": [
    "print(\"Elements from 3rd to 5th index:\",arr[3:6:1])"
   ]
  },
  {
   "cell_type": "code",
   "execution_count": 29,
   "metadata": {},
   "outputs": [
    {
     "name": "stdout",
     "output_type": "stream",
     "text": [
      "Elements upto 4th index are: [0 1 2 3]\n"
     ]
    }
   ],
   "source": [
    "print(\"Elements upto 4th index are:\",arr[:4])"
   ]
  },
  {
   "cell_type": "code",
   "execution_count": 30,
   "metadata": {},
   "outputs": [
    {
     "data": {
      "text/plain": [
       "array([ 0,  1,  2,  3,  4,  5,  6,  7,  8,  9, 10])"
      ]
     },
     "execution_count": 30,
     "metadata": {},
     "output_type": "execute_result"
    }
   ],
   "source": [
    "arr"
   ]
  },
  {
   "cell_type": "code",
   "execution_count": 31,
   "metadata": {},
   "outputs": [
    {
     "name": "stdout",
     "output_type": "stream",
     "text": [
      "Elements from last backwards are: [10  9  8  7  6  5  4  3  2  1  0]\n"
     ]
    }
   ],
   "source": [
    "print(\"Elements from last backwards are:\",arr[::-1])"
   ]
  },
  {
   "cell_type": "code",
   "execution_count": 32,
   "metadata": {},
   "outputs": [
    {
     "name": "stdout",
     "output_type": "stream",
     "text": [
      "Elements from backwards are: [10  9  8]\n"
     ]
    }
   ],
   "source": [
    "print(\"Elements from backwards are:\",arr[-1:7:-1])"
   ]
  },
  {
   "cell_type": "code",
   "execution_count": 33,
   "metadata": {},
   "outputs": [
    {
     "name": "stdout",
     "output_type": "stream",
     "text": [
      "[10  9  8  7]\n"
     ]
    }
   ],
   "source": [
    "print(arr[-1:6:-1])"
   ]
  },
  {
   "cell_type": "code",
   "execution_count": 34,
   "metadata": {},
   "outputs": [
    {
     "data": {
      "text/plain": [
       "array([ 0,  2,  4,  6,  8, 10, 12, 14, 16, 18, 20])"
      ]
     },
     "execution_count": 34,
     "metadata": {},
     "output_type": "execute_result"
    }
   ],
   "source": [
    "arr = np.arange(0,21,2)\n",
    "arr"
   ]
  },
  {
   "cell_type": "code",
   "execution_count": 35,
   "metadata": {},
   "outputs": [
    {
     "name": "stdout",
     "output_type": "stream",
     "text": [
      "Elements at 2nd 4th 9th indexes are: [ 4  8 18]\n"
     ]
    }
   ],
   "source": [
    "print(\"Elements at 2nd 4th 9th indexes are:\",arr[[2,4,9]])"
   ]
  },
  {
   "cell_type": "code",
   "execution_count": 53,
   "metadata": {},
   "outputs": [
    {
     "data": {
      "text/plain": [
       "array([[[83, 19, 32],\n",
       "        [58, 57, 95],\n",
       "        [ 5, 12, 76],\n",
       "        [96, 40, 44],\n",
       "        [60, 41, 67]],\n",
       "\n",
       "       [[46, 56, 10],\n",
       "        [84, 25, 95],\n",
       "        [47, 81,  1],\n",
       "        [22, 74, 11],\n",
       "        [49, 95, 77]],\n",
       "\n",
       "       [[13, 60, 17],\n",
       "        [35, 64, 21],\n",
       "        [23, 18, 33],\n",
       "        [76, 58, 99],\n",
       "        [54, 42, 98]]])"
      ]
     },
     "execution_count": 53,
     "metadata": {},
     "output_type": "execute_result"
    }
   ],
   "source": [
    "mat = np.array(ri(1,100,45)).reshape(3,5,3)\n",
    "mat"
   ]
  },
  {
   "cell_type": "code",
   "execution_count": 54,
   "metadata": {},
   "outputs": [
    {
     "data": {
      "text/plain": [
       "array([19, 57, 12, 40, 41])"
      ]
     },
     "execution_count": 54,
     "metadata": {},
     "output_type": "execute_result"
    }
   ],
   "source": [
    "mat[0][:,1]"
   ]
  },
  {
   "cell_type": "code",
   "execution_count": 52,
   "metadata": {},
   "outputs": [
    {
     "ename": "SyntaxError",
     "evalue": "invalid syntax (<ipython-input-52-1a5532d78a31>, line 1)",
     "output_type": "error",
     "traceback": [
      "\u001b[1;36m  File \u001b[1;32m\"<ipython-input-52-1a5532d78a31>\"\u001b[1;36m, line \u001b[1;32m1\u001b[0m\n\u001b[1;33m    mat[0,2,[0:2]]\u001b[0m\n\u001b[1;37m              ^\u001b[0m\n\u001b[1;31mSyntaxError\u001b[0m\u001b[1;31m:\u001b[0m invalid syntax\n"
     ]
    }
   ],
   "source": [
    "mat[0,2,[0:2]]"
   ]
  },
  {
   "cell_type": "code",
   "execution_count": 39,
   "metadata": {},
   "outputs": [
    {
     "data": {
      "text/plain": [
       "array([[[58, 28, 86],\n",
       "        [39,  6, 10]],\n",
       "\n",
       "       [[73, 71, 69],\n",
       "        [16, 31, 85]],\n",
       "\n",
       "       [[70, 63, 25],\n",
       "        [46, 42, 33]]])"
      ]
     },
     "execution_count": 39,
     "metadata": {},
     "output_type": "execute_result"
    }
   ],
   "source": [
    "mat[0:3,0:2]"
   ]
  },
  {
   "cell_type": "code",
   "execution_count": 40,
   "metadata": {},
   "outputs": [
    {
     "data": {
      "text/plain": [
       "array([[[58, 28, 86],\n",
       "        [39,  6, 10]],\n",
       "\n",
       "       [[73, 71, 69],\n",
       "        [16, 31, 85]],\n",
       "\n",
       "       [[70, 63, 25],\n",
       "        [46, 42, 33]]])"
      ]
     },
     "execution_count": 40,
     "metadata": {},
     "output_type": "execute_result"
    }
   ],
   "source": [
    "mat[0:3,[0,1]]"
   ]
  },
  {
   "cell_type": "code",
   "execution_count": 43,
   "metadata": {},
   "outputs": [
    {
     "data": {
      "text/plain": [
       "array([[62, 25, 82, 63, 37],\n",
       "       [80, 25, 16, 76, 72],\n",
       "       [30, 60, 71, 49, 67]])"
      ]
     },
     "execution_count": 43,
     "metadata": {},
     "output_type": "execute_result"
    }
   ],
   "source": [
    "mat = np.array(ri(10,100,15)).reshape(3,5)\n",
    "mat"
   ]
  },
  {
   "cell_type": "code",
   "execution_count": 44,
   "metadata": {},
   "outputs": [
    {
     "name": "stdout",
     "output_type": "stream",
     "text": [
      "Elements greater than 50: [62 82 63 80 76 72 60 71 67]\n"
     ]
    }
   ],
   "source": [
    "print(\"Elements greater than 50:\",mat[mat>50])"
   ]
  },
  {
   "cell_type": "code",
   "execution_count": 2,
   "metadata": {},
   "outputs": [],
   "source": [
    "import pandas as pd\n",
    "import numpy as np"
   ]
  },
  {
   "cell_type": "code",
   "execution_count": 56,
   "metadata": {},
   "outputs": [
    {
     "data": {
      "text/plain": [
       "array([[1, 2, 3],\n",
       "       [4, 5, 6],\n",
       "       [7, 8, 9]])"
      ]
     },
     "execution_count": 56,
     "metadata": {},
     "output_type": "execute_result"
    }
   ],
   "source": [
    "mat = np.array([[1,2,3],[4,5,6],[7,8,9]])\n",
    "mat"
   ]
  },
  {
   "cell_type": "code",
   "execution_count": 57,
   "metadata": {},
   "outputs": [
    {
     "data": {
      "text/plain": [
       "array([[1, 2],\n",
       "       [4, 5]])"
      ]
     },
     "execution_count": 57,
     "metadata": {},
     "output_type": "execute_result"
    }
   ],
   "source": [
    "mat[:2,:2]"
   ]
  },
  {
   "cell_type": "code",
   "execution_count": 59,
   "metadata": {},
   "outputs": [],
   "source": [
    "mat[0,0]=1000"
   ]
  },
  {
   "cell_type": "code",
   "execution_count": 60,
   "metadata": {},
   "outputs": [
    {
     "data": {
      "text/plain": [
       "array([[1000,    2,    3],\n",
       "       [   4,    5,    6],\n",
       "       [   7,    8,    9]])"
      ]
     },
     "execution_count": 60,
     "metadata": {},
     "output_type": "execute_result"
    }
   ],
   "source": [
    "mat"
   ]
  },
  {
   "cell_type": "code",
   "execution_count": 61,
   "metadata": {},
   "outputs": [
    {
     "data": {
      "text/plain": [
       "array([[1000,    2],\n",
       "       [   4,    5]])"
      ]
     },
     "execution_count": 61,
     "metadata": {},
     "output_type": "execute_result"
    }
   ],
   "source": [
    "np.array(mat[:2,:2])"
   ]
  },
  {
   "cell_type": "code",
   "execution_count": 63,
   "metadata": {},
   "outputs": [],
   "source": [
    "mat[0,0]=22"
   ]
  },
  {
   "cell_type": "code",
   "execution_count": 64,
   "metadata": {},
   "outputs": [
    {
     "data": {
      "text/plain": [
       "array([[22,  2],\n",
       "       [ 4,  5]])"
      ]
     },
     "execution_count": 64,
     "metadata": {},
     "output_type": "execute_result"
    }
   ],
   "source": [
    "mat[:2,:2]"
   ]
  },
  {
   "cell_type": "code",
   "execution_count": 65,
   "metadata": {},
   "outputs": [
    {
     "data": {
      "text/plain": [
       "array([[22,  2,  3],\n",
       "       [ 4,  5,  6],\n",
       "       [ 7,  8,  9]])"
      ]
     },
     "execution_count": 65,
     "metadata": {},
     "output_type": "execute_result"
    }
   ],
   "source": [
    "mat"
   ]
  },
  {
   "cell_type": "code",
   "execution_count": 68,
   "metadata": {},
   "outputs": [
    {
     "data": {
      "text/plain": [
       "array([[ 4,  5,  6],\n",
       "       [ 7,  8,  9],\n",
       "       [10, 11, 12]])"
      ]
     },
     "execution_count": 68,
     "metadata": {},
     "output_type": "execute_result"
    }
   ],
   "source": [
    "mat1 = np.array([[4,5,6],[7,8,9],[10,11,12]])\n",
    "mat1"
   ]
  },
  {
   "cell_type": "code",
   "execution_count": 71,
   "metadata": {},
   "outputs": [
    {
     "data": {
      "text/plain": [
       "array([[4, 5],\n",
       "       [7, 8]])"
      ]
     },
     "execution_count": 71,
     "metadata": {},
     "output_type": "execute_result"
    }
   ],
   "source": [
    "mat_slice = np.array(mat1[:2,:2])\n",
    "mat_slice"
   ]
  },
  {
   "cell_type": "code",
   "execution_count": 75,
   "metadata": {},
   "outputs": [],
   "source": [
    "mat_slice[0,0] = 100"
   ]
  },
  {
   "cell_type": "code",
   "execution_count": 76,
   "metadata": {},
   "outputs": [
    {
     "data": {
      "text/plain": [
       "array([[100,   5],\n",
       "       [  7,   8]])"
      ]
     },
     "execution_count": 76,
     "metadata": {},
     "output_type": "execute_result"
    }
   ],
   "source": [
    "mat_slice"
   ]
  },
  {
   "cell_type": "code",
   "execution_count": 77,
   "metadata": {},
   "outputs": [
    {
     "data": {
      "text/plain": [
       "array([[ 4,  5,  6],\n",
       "       [ 7,  8,  9],\n",
       "       [10, 11, 12]])"
      ]
     },
     "execution_count": 77,
     "metadata": {},
     "output_type": "execute_result"
    }
   ],
   "source": [
    "mat1"
   ]
  },
  {
   "cell_type": "code",
   "execution_count": 82,
   "metadata": {},
   "outputs": [
    {
     "name": "stdout",
     "output_type": "stream",
     "text": [
      "\n",
      "1st matrix of random single digit number:\n",
      " -------------------------------------------------- \n",
      " [[2 9 8]\n",
      " [4 9 2]\n",
      " [4 5 5]]\n",
      "\n",
      "2nd matrix of random single digit numbers:\n",
      " -------------------------------------------------- \n",
      " [[6 6 2]\n",
      " [5 7 1]\n",
      " [7 1 7]]\n"
     ]
    }
   ],
   "source": [
    "mat1 = np.array(ri(1,10,9)).reshape(3,3)\n",
    "mat2 = np.array(ri(1,10,9)).reshape(3,3)\n",
    "print(\"\\n1st matrix of random single digit number:\\n\",\"-\"*50,\"\\n\",mat1)\n",
    "print(\"\\n2nd matrix of random single digit numbers:\\n\",\"-\"*50,\"\\n\",mat2)"
   ]
  },
  {
   "cell_type": "code",
   "execution_count": 83,
   "metadata": {},
   "outputs": [
    {
     "data": {
      "text/plain": [
       "array([[12, 54, 16],\n",
       "       [20, 63,  2],\n",
       "       [28,  5, 35]])"
      ]
     },
     "execution_count": 83,
     "metadata": {},
     "output_type": "execute_result"
    }
   ],
   "source": [
    "mat1*mat2"
   ]
  },
  {
   "cell_type": "code",
   "execution_count": 84,
   "metadata": {},
   "outputs": [
    {
     "data": {
      "text/plain": [
       "array([[113,  83,  69],\n",
       "       [ 83,  89,  31],\n",
       "       [ 84,  64,  48]])"
      ]
     },
     "execution_count": 84,
     "metadata": {},
     "output_type": "execute_result"
    }
   ],
   "source": [
    "mat1@mat2"
   ]
  },
  {
   "cell_type": "code",
   "execution_count": 85,
   "metadata": {},
   "outputs": [
    {
     "name": "stderr",
     "output_type": "stream",
     "text": [
      "C:\\ProgramData\\Anaconda3\\lib\\site-packages\\ipykernel_launcher.py:1: RuntimeWarning: divide by zero encountered in true_divide\n",
      "  \"\"\"Entry point for launching an IPython kernel.\n"
     ]
    },
    {
     "data": {
      "text/plain": [
       "array([[inf, inf, inf],\n",
       "       [inf, inf, inf],\n",
       "       [inf, inf, inf]])"
      ]
     },
     "execution_count": 85,
     "metadata": {},
     "output_type": "execute_result"
    }
   ],
   "source": [
    "mat1/0"
   ]
  },
  {
   "cell_type": "code",
   "execution_count": 86,
   "metadata": {},
   "outputs": [
    {
     "data": {
      "text/plain": [
       "array([[  8, 729, 512],\n",
       "       [ 64, 729,   8],\n",
       "       [ 64, 125, 125]], dtype=int32)"
      ]
     },
     "execution_count": 86,
     "metadata": {},
     "output_type": "execute_result"
    }
   ],
   "source": [
    "mat1**3#cubic root"
   ]
  },
  {
   "cell_type": "code",
   "execution_count": 88,
   "metadata": {},
   "outputs": [
    {
     "data": {
      "text/plain": [
       "array([[  8, 729, 512],\n",
       "       [ 64, 729,   8],\n",
       "       [ 64, 125, 125]], dtype=int32)"
      ]
     },
     "execution_count": 88,
     "metadata": {},
     "output_type": "execute_result"
    }
   ],
   "source": [
    "pow(mat1,3)#power of 3"
   ]
  },
  {
   "cell_type": "code",
   "execution_count": 96,
   "metadata": {},
   "outputs": [
    {
     "data": {
      "text/plain": [
       "array([[100., 100., 100., 100.],\n",
       "       [100., 100., 100., 100.],\n",
       "       [100., 100., 100., 100.],\n",
       "       [100., 100., 100., 100.]])"
      ]
     },
     "execution_count": 96,
     "metadata": {},
     "output_type": "execute_result"
    }
   ],
   "source": [
    "x = np.zeros((4,4))\n",
    "x\n",
    "y = x+100\n",
    "y"
   ]
  },
  {
   "cell_type": "code",
   "execution_count": 94,
   "metadata": {},
   "outputs": [
    {
     "data": {
      "text/plain": [
       "array([1, 0, 2, 5])"
      ]
     },
     "execution_count": 94,
     "metadata": {},
     "output_type": "execute_result"
    }
   ],
   "source": [
    "add_rows = np.array([1,0,2,5])\n",
    "add_rows"
   ]
  },
  {
   "cell_type": "code",
   "execution_count": 97,
   "metadata": {},
   "outputs": [
    {
     "data": {
      "text/plain": [
       "array([[101., 100., 102., 105.],\n",
       "       [101., 100., 102., 105.],\n",
       "       [101., 100., 102., 105.],\n",
       "       [101., 100., 102., 105.]])"
      ]
     },
     "execution_count": 97,
     "metadata": {},
     "output_type": "execute_result"
    }
   ],
   "source": [
    "y+add_rows"
   ]
  },
  {
   "cell_type": "code",
   "execution_count": 98,
   "metadata": {},
   "outputs": [],
   "source": [
    "import plotly.graph_objects as go"
   ]
  },
  {
   "cell_type": "code",
   "execution_count": 102,
   "metadata": {},
   "outputs": [
    {
     "data": {
      "text/html": [
       "<div>\n",
       "<style scoped>\n",
       "    .dataframe tbody tr th:only-of-type {\n",
       "        vertical-align: middle;\n",
       "    }\n",
       "\n",
       "    .dataframe tbody tr th {\n",
       "        vertical-align: top;\n",
       "    }\n",
       "\n",
       "    .dataframe thead th {\n",
       "        text-align: right;\n",
       "    }\n",
       "</style>\n",
       "<table border=\"1\" class=\"dataframe\">\n",
       "  <thead>\n",
       "    <tr style=\"text-align: right;\">\n",
       "      <th></th>\n",
       "      <th>Date</th>\n",
       "      <th>Open</th>\n",
       "      <th>High</th>\n",
       "      <th>Low</th>\n",
       "      <th>Close</th>\n",
       "      <th>Shares Traded</th>\n",
       "      <th>Turnover (Rs. Cr)</th>\n",
       "    </tr>\n",
       "  </thead>\n",
       "  <tbody>\n",
       "    <tr>\n",
       "      <th>0</th>\n",
       "      <td>1-Jan-18</td>\n",
       "      <td>10531.70</td>\n",
       "      <td>10537.85</td>\n",
       "      <td>10423.10</td>\n",
       "      <td>10435.55</td>\n",
       "      <td>134532090</td>\n",
       "      <td>7546.56</td>\n",
       "    </tr>\n",
       "    <tr>\n",
       "      <th>1</th>\n",
       "      <td>2-Jan-18</td>\n",
       "      <td>10477.55</td>\n",
       "      <td>10495.20</td>\n",
       "      <td>10404.65</td>\n",
       "      <td>10442.20</td>\n",
       "      <td>158092430</td>\n",
       "      <td>8665.47</td>\n",
       "    </tr>\n",
       "    <tr>\n",
       "      <th>2</th>\n",
       "      <td>3-Jan-18</td>\n",
       "      <td>10482.65</td>\n",
       "      <td>10503.60</td>\n",
       "      <td>10429.55</td>\n",
       "      <td>10443.20</td>\n",
       "      <td>172516859</td>\n",
       "      <td>9541.60</td>\n",
       "    </tr>\n",
       "    <tr>\n",
       "      <th>3</th>\n",
       "      <td>4-Jan-18</td>\n",
       "      <td>10469.40</td>\n",
       "      <td>10513.00</td>\n",
       "      <td>10441.45</td>\n",
       "      <td>10504.80</td>\n",
       "      <td>180257392</td>\n",
       "      <td>9561.95</td>\n",
       "    </tr>\n",
       "    <tr>\n",
       "      <th>4</th>\n",
       "      <td>5-Jan-18</td>\n",
       "      <td>10534.25</td>\n",
       "      <td>10566.10</td>\n",
       "      <td>10520.10</td>\n",
       "      <td>10558.85</td>\n",
       "      <td>186469717</td>\n",
       "      <td>10306.22</td>\n",
       "    </tr>\n",
       "    <tr>\n",
       "      <th>...</th>\n",
       "      <td>...</td>\n",
       "      <td>...</td>\n",
       "      <td>...</td>\n",
       "      <td>...</td>\n",
       "      <td>...</td>\n",
       "      <td>...</td>\n",
       "      <td>...</td>\n",
       "    </tr>\n",
       "    <tr>\n",
       "      <th>241</th>\n",
       "      <td>24-Dec-18</td>\n",
       "      <td>10780.90</td>\n",
       "      <td>10782.30</td>\n",
       "      <td>10649.25</td>\n",
       "      <td>10663.50</td>\n",
       "      <td>230291344</td>\n",
       "      <td>10695.60</td>\n",
       "    </tr>\n",
       "    <tr>\n",
       "      <th>242</th>\n",
       "      <td>26-Dec-18</td>\n",
       "      <td>10635.45</td>\n",
       "      <td>10747.50</td>\n",
       "      <td>10534.55</td>\n",
       "      <td>10729.85</td>\n",
       "      <td>271942701</td>\n",
       "      <td>12831.99</td>\n",
       "    </tr>\n",
       "    <tr>\n",
       "      <th>243</th>\n",
       "      <td>27-Dec-18</td>\n",
       "      <td>10817.90</td>\n",
       "      <td>10834.20</td>\n",
       "      <td>10764.45</td>\n",
       "      <td>10779.80</td>\n",
       "      <td>470160392</td>\n",
       "      <td>19119.88</td>\n",
       "    </tr>\n",
       "    <tr>\n",
       "      <th>244</th>\n",
       "      <td>28-Dec-18</td>\n",
       "      <td>10820.95</td>\n",
       "      <td>10893.60</td>\n",
       "      <td>10817.15</td>\n",
       "      <td>10859.90</td>\n",
       "      <td>253086507</td>\n",
       "      <td>12615.01</td>\n",
       "    </tr>\n",
       "    <tr>\n",
       "      <th>245</th>\n",
       "      <td>31-Dec-18</td>\n",
       "      <td>10913.20</td>\n",
       "      <td>10923.55</td>\n",
       "      <td>10853.20</td>\n",
       "      <td>10862.55</td>\n",
       "      <td>186494657</td>\n",
       "      <td>10176.13</td>\n",
       "    </tr>\n",
       "  </tbody>\n",
       "</table>\n",
       "<p>246 rows × 7 columns</p>\n",
       "</div>"
      ],
      "text/plain": [
       "          Date      Open      High       Low     Close  Shares Traded  \\\n",
       "0     1-Jan-18  10531.70  10537.85  10423.10  10435.55      134532090   \n",
       "1     2-Jan-18  10477.55  10495.20  10404.65  10442.20      158092430   \n",
       "2     3-Jan-18  10482.65  10503.60  10429.55  10443.20      172516859   \n",
       "3     4-Jan-18  10469.40  10513.00  10441.45  10504.80      180257392   \n",
       "4     5-Jan-18  10534.25  10566.10  10520.10  10558.85      186469717   \n",
       "..         ...       ...       ...       ...       ...            ...   \n",
       "241  24-Dec-18  10780.90  10782.30  10649.25  10663.50      230291344   \n",
       "242  26-Dec-18  10635.45  10747.50  10534.55  10729.85      271942701   \n",
       "243  27-Dec-18  10817.90  10834.20  10764.45  10779.80      470160392   \n",
       "244  28-Dec-18  10820.95  10893.60  10817.15  10859.90      253086507   \n",
       "245  31-Dec-18  10913.20  10923.55  10853.20  10862.55      186494657   \n",
       "\n",
       "     Turnover (Rs. Cr)  \n",
       "0              7546.56  \n",
       "1              8665.47  \n",
       "2              9541.60  \n",
       "3              9561.95  \n",
       "4             10306.22  \n",
       "..                 ...  \n",
       "241           10695.60  \n",
       "242           12831.99  \n",
       "243           19119.88  \n",
       "244           12615.01  \n",
       "245           10176.13  \n",
       "\n",
       "[246 rows x 7 columns]"
      ]
     },
     "execution_count": 102,
     "metadata": {},
     "output_type": "execute_result"
    }
   ],
   "source": [
    "df = pd.read_csv(r\"C:\\Users\\admin\\Downloads\\niftydata\\Nifty-2018.csv\")\n",
    "df"
   ]
  },
  {
   "cell_type": "code",
   "execution_count": 106,
   "metadata": {},
   "outputs": [
    {
     "data": {
      "text/html": [
       "<div>\n",
       "<style scoped>\n",
       "    .dataframe tbody tr th:only-of-type {\n",
       "        vertical-align: middle;\n",
       "    }\n",
       "\n",
       "    .dataframe tbody tr th {\n",
       "        vertical-align: top;\n",
       "    }\n",
       "\n",
       "    .dataframe thead th {\n",
       "        text-align: right;\n",
       "    }\n",
       "</style>\n",
       "<table border=\"1\" class=\"dataframe\">\n",
       "  <thead>\n",
       "    <tr style=\"text-align: right;\">\n",
       "      <th></th>\n",
       "      <th>Date</th>\n",
       "      <th>Open</th>\n",
       "      <th>High</th>\n",
       "      <th>Low</th>\n",
       "      <th>Close</th>\n",
       "      <th>Shares Traded</th>\n",
       "      <th>Turnover (Rs. Cr)</th>\n",
       "    </tr>\n",
       "  </thead>\n",
       "  <tbody>\n",
       "    <tr>\n",
       "      <th>2018-01-01</th>\n",
       "      <td>1-Jan-18</td>\n",
       "      <td>10531.70</td>\n",
       "      <td>10537.85</td>\n",
       "      <td>10423.10</td>\n",
       "      <td>10435.55</td>\n",
       "      <td>134532090</td>\n",
       "      <td>7546.56</td>\n",
       "    </tr>\n",
       "    <tr>\n",
       "      <th>2018-01-02</th>\n",
       "      <td>2-Jan-18</td>\n",
       "      <td>10477.55</td>\n",
       "      <td>10495.20</td>\n",
       "      <td>10404.65</td>\n",
       "      <td>10442.20</td>\n",
       "      <td>158092430</td>\n",
       "      <td>8665.47</td>\n",
       "    </tr>\n",
       "    <tr>\n",
       "      <th>2018-01-03</th>\n",
       "      <td>3-Jan-18</td>\n",
       "      <td>10482.65</td>\n",
       "      <td>10503.60</td>\n",
       "      <td>10429.55</td>\n",
       "      <td>10443.20</td>\n",
       "      <td>172516859</td>\n",
       "      <td>9541.60</td>\n",
       "    </tr>\n",
       "    <tr>\n",
       "      <th>2018-01-04</th>\n",
       "      <td>4-Jan-18</td>\n",
       "      <td>10469.40</td>\n",
       "      <td>10513.00</td>\n",
       "      <td>10441.45</td>\n",
       "      <td>10504.80</td>\n",
       "      <td>180257392</td>\n",
       "      <td>9561.95</td>\n",
       "    </tr>\n",
       "    <tr>\n",
       "      <th>2018-01-05</th>\n",
       "      <td>5-Jan-18</td>\n",
       "      <td>10534.25</td>\n",
       "      <td>10566.10</td>\n",
       "      <td>10520.10</td>\n",
       "      <td>10558.85</td>\n",
       "      <td>186469717</td>\n",
       "      <td>10306.22</td>\n",
       "    </tr>\n",
       "    <tr>\n",
       "      <th>...</th>\n",
       "      <td>...</td>\n",
       "      <td>...</td>\n",
       "      <td>...</td>\n",
       "      <td>...</td>\n",
       "      <td>...</td>\n",
       "      <td>...</td>\n",
       "      <td>...</td>\n",
       "    </tr>\n",
       "    <tr>\n",
       "      <th>2018-12-24</th>\n",
       "      <td>24-Dec-18</td>\n",
       "      <td>10780.90</td>\n",
       "      <td>10782.30</td>\n",
       "      <td>10649.25</td>\n",
       "      <td>10663.50</td>\n",
       "      <td>230291344</td>\n",
       "      <td>10695.60</td>\n",
       "    </tr>\n",
       "    <tr>\n",
       "      <th>2018-12-26</th>\n",
       "      <td>26-Dec-18</td>\n",
       "      <td>10635.45</td>\n",
       "      <td>10747.50</td>\n",
       "      <td>10534.55</td>\n",
       "      <td>10729.85</td>\n",
       "      <td>271942701</td>\n",
       "      <td>12831.99</td>\n",
       "    </tr>\n",
       "    <tr>\n",
       "      <th>2018-12-27</th>\n",
       "      <td>27-Dec-18</td>\n",
       "      <td>10817.90</td>\n",
       "      <td>10834.20</td>\n",
       "      <td>10764.45</td>\n",
       "      <td>10779.80</td>\n",
       "      <td>470160392</td>\n",
       "      <td>19119.88</td>\n",
       "    </tr>\n",
       "    <tr>\n",
       "      <th>2018-12-28</th>\n",
       "      <td>28-Dec-18</td>\n",
       "      <td>10820.95</td>\n",
       "      <td>10893.60</td>\n",
       "      <td>10817.15</td>\n",
       "      <td>10859.90</td>\n",
       "      <td>253086507</td>\n",
       "      <td>12615.01</td>\n",
       "    </tr>\n",
       "    <tr>\n",
       "      <th>2018-12-31</th>\n",
       "      <td>31-Dec-18</td>\n",
       "      <td>10913.20</td>\n",
       "      <td>10923.55</td>\n",
       "      <td>10853.20</td>\n",
       "      <td>10862.55</td>\n",
       "      <td>186494657</td>\n",
       "      <td>10176.13</td>\n",
       "    </tr>\n",
       "  </tbody>\n",
       "</table>\n",
       "<p>246 rows × 7 columns</p>\n",
       "</div>"
      ],
      "text/plain": [
       "                 Date      Open      High       Low     Close  Shares Traded  \\\n",
       "2018-01-01   1-Jan-18  10531.70  10537.85  10423.10  10435.55      134532090   \n",
       "2018-01-02   2-Jan-18  10477.55  10495.20  10404.65  10442.20      158092430   \n",
       "2018-01-03   3-Jan-18  10482.65  10503.60  10429.55  10443.20      172516859   \n",
       "2018-01-04   4-Jan-18  10469.40  10513.00  10441.45  10504.80      180257392   \n",
       "2018-01-05   5-Jan-18  10534.25  10566.10  10520.10  10558.85      186469717   \n",
       "...               ...       ...       ...       ...       ...            ...   \n",
       "2018-12-24  24-Dec-18  10780.90  10782.30  10649.25  10663.50      230291344   \n",
       "2018-12-26  26-Dec-18  10635.45  10747.50  10534.55  10729.85      271942701   \n",
       "2018-12-27  27-Dec-18  10817.90  10834.20  10764.45  10779.80      470160392   \n",
       "2018-12-28  28-Dec-18  10820.95  10893.60  10817.15  10859.90      253086507   \n",
       "2018-12-31  31-Dec-18  10913.20  10923.55  10853.20  10862.55      186494657   \n",
       "\n",
       "            Turnover (Rs. Cr)  \n",
       "2018-01-01            7546.56  \n",
       "2018-01-02            8665.47  \n",
       "2018-01-03            9541.60  \n",
       "2018-01-04            9561.95  \n",
       "2018-01-05           10306.22  \n",
       "...                       ...  \n",
       "2018-12-24           10695.60  \n",
       "2018-12-26           12831.99  \n",
       "2018-12-27           19119.88  \n",
       "2018-12-28           12615.01  \n",
       "2018-12-31           10176.13  \n",
       "\n",
       "[246 rows x 7 columns]"
      ]
     },
     "execution_count": 106,
     "metadata": {},
     "output_type": "execute_result"
    }
   ],
   "source": [
    "df = df.set_index(pd.DatetimeIndex(df['Date'].values))\n",
    "df"
   ]
  },
  {
   "cell_type": "code",
   "execution_count": 122,
   "metadata": {},
   "outputs": [],
   "source": [
    "figure = go.Figure(\n",
    "    data=[\n",
    "        go.Candlestick(\n",
    "                        x = df.index,\n",
    "                        low = df['Low'],\n",
    "                        high = df['High'],\n",
    "                        close = df['Close'],\n",
    "                        open = df['Open'],\n",
    "                        increasing_line_color = 'blue',\n",
    "                        decreasing_line_color = 'red')])"
   ]
  },
  {
   "cell_type": "code",
   "execution_count": 126,
   "metadata": {},
   "outputs": [
    {
     "data": {
      "application/vnd.plotly.v1+json": {
       "config": {
        "plotlyServerURL": "https://plot.ly"
       },
       "data": [
        {
         "close": [
          10435.55,
          10442.2,
          10443.2,
          10504.8,
          10558.85,
          10623.6,
          10637,
          10632.2,
          10651.2,
          10681.25,
          10741.55,
          10700.45,
          10788.55,
          10817,
          10894.7,
          10966.2,
          11083.7,
          11086,
          11069.65,
          11130.4,
          11049.65,
          11027.7,
          11016.9,
          10760.6,
          10666.55,
          10498.25,
          10476.7,
          10576.85,
          10454.95,
          10539.75,
          10500.9,
          10545.5,
          10452.3,
          10378.4,
          10360.4,
          10397.45,
          10382.7,
          10491.05,
          10582.6,
          10554.3,
          10492.85,
          10458.35,
          10358.85,
          10249.25,
          10154.2,
          10242.65,
          10226.85,
          10421.4,
          10426.85,
          10410.9,
          10360.15,
          10195.15,
          10094.25,
          10124.35,
          10155.25,
          10114.75,
          9998.05,
          10130.65,
          10184.15,
          10113.7,
          10211.8,
          10245,
          10128.4,
          10325.15,
          10331.6,
          10379.35,
          10402.25,
          10417.15,
          10458.65,
          10480.6,
          10528.35,
          10548.7,
          10526.2,
          10565.3,
          10564.05,
          10584.7,
          10614.35,
          10570.55,
          10617.8,
          10692.3,
          10739.35,
          10718.05,
          10679.65,
          10618.25,
          10715.5,
          10717.8,
          10741.7,
          10716.55,
          10806.5,
          10806.6,
          10801.85,
          10741.1,
          10682.7,
          10596.4,
          10516.7,
          10536.7,
          10430.35,
          10513.85,
          10605.15,
          10688.65,
          10633.3,
          10614.35,
          10736.15,
          10696.2,
          10628.5,
          10593.15,
          10684.65,
          10768.35,
          10767.65,
          10786.95,
          10842.85,
          10856.7,
          10808.05,
          10817.7,
          10799.85,
          10710.45,
          10772.05,
          10741.1,
          10821.85,
          10762.45,
          10769.15,
          10671.4,
          10589.1,
          10714.3,
          10657.3,
          10699.9,
          10769.9,
          10749.75,
          10772.65,
          10852.9,
          10947.25,
          10948.3,
          11023.2,
          11018.9,
          10936.85,
          11008.05,
          10980.45,
          10957.1,
          11010.2,
          11084.75,
          11134.3,
          11132,
          11167.3,
          11278.35,
          11319.55,
          11356.5,
          11346.2,
          11244.7,
          11360.8,
          11387.1,
          11389.45,
          11450,
          11470.7,
          11429.5,
          11355.75,
          11435.1,
          11385.05,
          11470.75,
          11551.75,
          11570.9,
          11582.75,
          11557.1,
          11691.95,
          11738.5,
          11691.9,
          11676.8,
          11680.5,
          11582.35,
          11520.3,
          11476.95,
          11536.9,
          11589.1,
          11438.1,
          11287.5,
          11369.9,
          11515.2,
          11377.75,
          11278.9,
          11234.35,
          11143.1,
          10967.4,
          11067.45,
          11053.8,
          10977.55,
          10930.45,
          11008.3,
          10858.25,
          10599.25,
          10316.45,
          10348.05,
          10301.05,
          10460.1,
          10234.65,
          10472.5,
          10512.5,
          10584.75,
          10453.05,
          10303.55,
          10245.25,
          10146.8,
          10224.75,
          10124.9,
          10030,
          10250.85,
          10198.4,
          10386.6,
          10380.45,
          10553,
          10524,
          10530,
          10598.4,
          10585.2,
          10482.2,
          10582.5,
          10576.3,
          10616.7,
          10682.2,
          10763.4,
          10656.2,
          10600.05,
          10526.75,
          10628.6,
          10685.6,
          10728.85,
          10858.7,
          10876.75,
          10883.75,
          10869.5,
          10782.9,
          10601.15,
          10693.7,
          10488.45,
          10549.15,
          10737.6,
          10791.55,
          10805.45,
          10888.35,
          10908.7,
          10967.3,
          10951.7,
          10754,
          10663.5,
          10729.85,
          10779.8,
          10859.9,
          10862.55
         ],
         "decreasing": {
          "line": {
           "color": "red"
          }
         },
         "high": [
          10537.85,
          10495.2,
          10503.6,
          10513,
          10566.1,
          10631.2,
          10659.15,
          10655.5,
          10664.6,
          10690.4,
          10782.65,
          10762.35,
          10803,
          10887.5,
          10906.85,
          10975.1,
          11092.9,
          11110.1,
          11095.6,
          11171.55,
          11121.1,
          11058.5,
          11117.35,
          10954.95,
          10702.75,
          10594.15,
          10614,
          10637.8,
          10480.2,
          10555.5,
          10590.55,
          10618.1,
          10612.9,
          10489.35,
          10429.35,
          10426.1,
          10397.55,
          10499.1,
          10592.95,
          10631.65,
          10535.5,
          10525.5,
          10428.7,
          10441.35,
          10243.35,
          10270.35,
          10296.7,
          10433.65,
          10478.6,
          10420.35,
          10420,
          10346.3,
          10224.55,
          10155.65,
          10227.3,
          10207.85,
          10027.7,
          10143.5,
          10207.9,
          10158.35,
          10220.1,
          10255.35,
          10279.85,
          10331.8,
          10350.45,
          10397.7,
          10424.85,
          10428.15,
          10469.9,
          10519.9,
          10540.15,
          10560.45,
          10594.2,
          10572.2,
          10582.35,
          10638.35,
          10636.8,
          10612.6,
          10628.4,
          10719.8,
          10759,
          10784.65,
          10720.6,
          10700.45,
          10725.65,
          10758.55,
          10766.25,
          10785.55,
          10812.05,
          10834.85,
          10929.2,
          10790.45,
          10777.25,
          10674.95,
          10621.7,
          10558.6,
          10533.55,
          10535.15,
          10628.05,
          10709.8,
          10717.25,
          10648.7,
          10763.8,
          10764.75,
          10770.3,
          10633.15,
          10698.35,
          10818,
          10779.45,
          10850.55,
          10856.55,
          10893.25,
          10833.7,
          10834,
          10830.2,
          10789.45,
          10781.8,
          10809.6,
          10837,
          10831.05,
          10805.25,
          10785.5,
          10674.2,
          10723.05,
          10736.15,
          10713.3,
          10777.15,
          10786.05,
          10816.35,
          10860.35,
          10956.9,
          10976.65,
          11078.3,
          11071.35,
          11019.5,
          11018.5,
          11076.2,
          11006.5,
          11030.25,
          11093.4,
          11143.4,
          11157.15,
          11185.85,
          11283.4,
          11328.1,
          11366,
          11390.55,
          11328.9,
          11368,
          11427.65,
          11428.95,
          11459.95,
          11495.2,
          11478.75,
          11406.3,
          11452.45,
          11449.85,
          11486.45,
          11565.3,
          11581.75,
          11620.7,
          11604.6,
          11700.95,
          11760.2,
          11753.2,
          11698.8,
          11727.65,
          11751.8,
          11602.55,
          11542.65,
          11562.25,
          11603,
          11573,
          11479.4,
          11380.75,
          11523.25,
          11464.95,
          11411.45,
          11332.05,
          11346.8,
          11170.15,
          11080.6,
          11145.55,
          11089.45,
          11034.1,
          11035.65,
          10989.05,
          10754.7,
          10540.65,
          10398.35,
          10397.6,
          10482.35,
          10335.95,
          10492.45,
          10526.3,
          10604.9,
          10710.15,
          10380.1,
          10408.55,
          10222.1,
          10290.65,
          10166.6,
          10128.85,
          10275.3,
          10285.1,
          10396,
          10441.9,
          10606.95,
          10558.8,
          10600.25,
          10616.45,
          10619.55,
          10645.5,
          10596.25,
          10651.6,
          10646.5,
          10695.15,
          10774.7,
          10740.85,
          10671.3,
          10646.25,
          10637.8,
          10695.15,
          10757.8,
          10883.05,
          10922.45,
          10941.2,
          10890.95,
          10821.05,
          10722.65,
          10704.55,
          10558.85,
          10567.15,
          10752.2,
          10838.6,
          10815.75,
          10900.35,
          10915.4,
          10985.15,
          10962.55,
          10963.65,
          10782.3,
          10747.5,
          10834.2,
          10893.6,
          10923.55
         ],
         "increasing": {
          "line": {
           "color": "blue"
          }
         },
         "low": [
          10423.1,
          10404.65,
          10429.55,
          10441.45,
          10520.1,
          10588.55,
          10603.6,
          10592.7,
          10612.35,
          10597.1,
          10713.8,
          10687.85,
          10666.75,
          10782.4,
          10793.9,
          10881.4,
          10994.55,
          11046.15,
          11009.2,
          11075.95,
          11033.9,
          10979.3,
          10878.8,
          10736.1,
          10586.8,
          10276.3,
          10446.4,
          10479.55,
          10398.2,
          10485.4,
          10456.65,
          10511.05,
          10434.05,
          10302.75,
          10347.65,
          10349.6,
          10340.65,
          10396.65,
          10520.2,
          10537.25,
          10461.55,
          10447.15,
          10323.9,
          10215.9,
          10141.55,
          10146.4,
          10211.9,
          10295.45,
          10377.85,
          10336.3,
          10346.2,
          10180.25,
          10075.3,
          10049.1,
          10132.95,
          10105.4,
          9951.9,
          9958.55,
          10139.65,
          10096.9,
          10127.75,
          10171.05,
          10111.3,
          10227.45,
          10290.85,
          10328.5,
          10381.5,
          10355.6,
          10395.25,
          10451.45,
          10396.35,
          10495.65,
          10509.7,
          10546.2,
          10527.45,
          10514.95,
          10569,
          10536.45,
          10559.65,
          10647.55,
          10704.6,
          10689.8,
          10647.45,
          10601.6,
          10635.65,
          10689.4,
          10689.85,
          10705,
          10724.45,
          10774.75,
          10781.4,
          10699.7,
          10664.5,
          10589.1,
          10505.8,
          10490.55,
          10417.8,
          10419.8,
          10524,
          10640.55,
          10616.1,
          10558.45,
          10620.4,
          10681.5,
          10618.35,
          10550.9,
          10587.5,
          10722.6,
          10709.05,
          10777.05,
          10789.4,
          10842.65,
          10773.55,
          10755.4,
          10787.35,
          10701.2,
          10724.05,
          10725.9,
          10710.45,
          10753.05,
          10732.55,
          10652.4,
          10557.7,
          10612.35,
          10604.65,
          10630.25,
          10677.75,
          10726.25,
          10735.05,
          10807.15,
          10876.65,
          10923,
          10999.65,
          10999.75,
          10926.25,
          10925.6,
          10956.3,
          10935.45,
          10946.2,
          11010.95,
          11092.5,
          11113.25,
          11125.7,
          11210.25,
          11261.45,
          11267.75,
          11313.55,
          11234.95,
          11294.55,
          11370.6,
          11359.7,
          11379.3,
          11454.1,
          11419.65,
          11340.3,
          11370.8,
          11366.25,
          11431.8,
          11499.65,
          11539.6,
          11546.7,
          11532,
          11595.6,
          11710.5,
          11678.85,
          11639.7,
          11640.1,
          11567.4,
          11496.85,
          11393.85,
          11436.05,
          11484.4,
          11427.3,
          11274,
          11250.2,
          11430.55,
          11366.9,
          11268.95,
          11210.9,
          10866.45,
          10943.6,
          10882.85,
          10993.05,
          10953.35,
          10850.3,
          10821.55,
          10843.75,
          10547.25,
          10261.9,
          10198.4,
          10279.35,
          10318.25,
          10138.6,
          10322.15,
          10410.15,
          10525.3,
          10436.45,
          10249.6,
          10224,
          10102.35,
          10126.7,
          10079.3,
          10004.55,
          10020.35,
          10175.35,
          10105.1,
          10341.9,
          10457.7,
          10477,
          10491.45,
          10582.3,
          10544.85,
          10464.05,
          10440.55,
          10532.7,
          10557.5,
          10631.15,
          10688.8,
          10640.85,
          10562.35,
          10512,
          10489.75,
          10596.35,
          10699.85,
          10782.35,
          10835.1,
          10845.35,
          10833.35,
          10747.95,
          10588.25,
          10599.35,
          10474.95,
          10333.85,
          10560.8,
          10749.5,
          10752.1,
          10844.85,
          10819.1,
          10928,
          10880.05,
          10738.65,
          10649.25,
          10534.55,
          10764.45,
          10817.15,
          10853.2
         ],
         "open": [
          10531.7,
          10477.55,
          10482.65,
          10469.4,
          10534.25,
          10591.7,
          10645.1,
          10652.05,
          10637.05,
          10682.55,
          10718.5,
          10761.5,
          10702.45,
          10873.4,
          10829.2,
          10883.2,
          10997.4,
          11069.35,
          11095.6,
          11079.35,
          11120.85,
          11018.8,
          11044.55,
          10938.2,
          10604.3,
          10295.15,
          10607.2,
          10518.5,
          10416.5,
          10518.2,
          10585.75,
          10537.9,
          10596.2,
          10488.9,
          10391,
          10426,
          10354.35,
          10408.1,
          10526.55,
          10615.2,
          10488.95,
          10479.95,
          10428.3,
          10420.5,
          10232.95,
          10216.25,
          10271.3,
          10301.6,
          10389.5,
          10393.05,
          10405.45,
          10345.15,
          10215.35,
          10051.55,
          10181.95,
          10167.5,
          9968.8,
          9989.15,
          10188,
          10143.6,
          10151.65,
          10186.85,
          10274.6,
          10228.45,
          10322.75,
          10333.7,
          10412.9,
          10428.15,
          10410.65,
          10495.3,
          10398.3,
          10557.3,
          10578.9,
          10563.65,
          10560.35,
          10592.8,
          10578.1,
          10612.4,
          10586.5,
          10651.65,
          10705.75,
          10783.85,
          10720.15,
          10700.45,
          10653.15,
          10757.9,
          10693.35,
          10779.65,
          10741.95,
          10815.15,
          10812.6,
          10751.95,
          10775.6,
          10671.85,
          10616.7,
          10518.45,
          10521.1,
          10464.85,
          10533.05,
          10648.35,
          10689.4,
          10579,
          10670.1,
          10738.45,
          10765.95,
          10630.7,
          10603.45,
          10722.6,
          10736.4,
          10781.85,
          10816.15,
          10887.5,
          10832.9,
          10808.65,
          10830.2,
          10789.45,
          10734.65,
          10808.45,
          10742.7,
          10822.9,
          10742.7,
          10785.5,
          10660.8,
          10612.85,
          10732.35,
          10668.6,
          10715,
          10786.05,
          10744.15,
          10838.3,
          10902.75,
          10956.4,
          11006.95,
          11056.9,
          11018.95,
          10939.65,
          11060.2,
          10999.5,
          10963.5,
          11019.85,
          11109,
          11148.4,
          11132.95,
          11232.75,
          11296.65,
          11311.05,
          11359.8,
          11328.9,
          11297.8,
          11401.5,
          11423.15,
          11412.5,
          11493.25,
          11474.95,
          11369.6,
          11381.7,
          11397.15,
          11437.15,
          11502.1,
          11576.2,
          11620.7,
          11566.6,
          11605.85,
          11731.95,
          11744.95,
          11694.75,
          11675.85,
          11751.8,
          11598.75,
          11514.85,
          11514.15,
          11558.25,
          11570.25,
          11476.85,
          11340.1,
          11443.5,
          11464.95,
          11381.55,
          11326.65,
          11271.3,
          11164.4,
          10969.95,
          11145.55,
          11079.8,
          11008.1,
          10930.9,
          10982.7,
          10754.7,
          10514.1,
          10310.15,
          10390.3,
          10331.85,
          10169.8,
          10331.55,
          10524.2,
          10550.15,
          10688.7,
          10339.7,
          10405.85,
          10152.6,
          10278.15,
          10135.05,
          10122.35,
          10078.1,
          10239.4,
          10209.55,
          10441.7,
          10462.3,
          10558.75,
          10552,
          10614.45,
          10614.7,
          10607.8,
          10451.9,
          10634.9,
          10580.6,
          10644,
          10731.25,
          10740.1,
          10670.95,
          10612.65,
          10568.3,
          10621.45,
          10708.75,
          10808.7,
          10892.1,
          10930.7,
          10877.1,
          10820.45,
          10718.15,
          10644.8,
          10508.7,
          10350.05,
          10591,
          10810.75,
          10784.5,
          10853.2,
          10850.9,
          10930.55,
          10885.2,
          10944.25,
          10780.9,
          10635.45,
          10817.9,
          10820.95,
          10913.2
         ],
         "type": "candlestick",
         "x": [
          "2018-01-01T00:00:00",
          "2018-01-02T00:00:00",
          "2018-01-03T00:00:00",
          "2018-01-04T00:00:00",
          "2018-01-05T00:00:00",
          "2018-01-08T00:00:00",
          "2018-01-09T00:00:00",
          "2018-01-10T00:00:00",
          "2018-01-11T00:00:00",
          "2018-01-12T00:00:00",
          "2018-01-15T00:00:00",
          "2018-01-16T00:00:00",
          "2018-01-17T00:00:00",
          "2018-01-18T00:00:00",
          "2018-01-19T00:00:00",
          "2018-01-22T00:00:00",
          "2018-01-23T00:00:00",
          "2018-01-24T00:00:00",
          "2018-01-25T00:00:00",
          "2018-01-29T00:00:00",
          "2018-01-30T00:00:00",
          "2018-01-31T00:00:00",
          "2018-02-01T00:00:00",
          "2018-02-02T00:00:00",
          "2018-02-05T00:00:00",
          "2018-02-06T00:00:00",
          "2018-02-07T00:00:00",
          "2018-02-08T00:00:00",
          "2018-02-09T00:00:00",
          "2018-02-12T00:00:00",
          "2018-02-14T00:00:00",
          "2018-02-15T00:00:00",
          "2018-02-16T00:00:00",
          "2018-02-19T00:00:00",
          "2018-02-20T00:00:00",
          "2018-02-21T00:00:00",
          "2018-02-22T00:00:00",
          "2018-02-23T00:00:00",
          "2018-02-26T00:00:00",
          "2018-02-27T00:00:00",
          "2018-02-28T00:00:00",
          "2018-03-01T00:00:00",
          "2018-03-05T00:00:00",
          "2018-03-06T00:00:00",
          "2018-03-07T00:00:00",
          "2018-03-08T00:00:00",
          "2018-03-09T00:00:00",
          "2018-03-12T00:00:00",
          "2018-03-13T00:00:00",
          "2018-03-14T00:00:00",
          "2018-03-15T00:00:00",
          "2018-03-16T00:00:00",
          "2018-03-19T00:00:00",
          "2018-03-20T00:00:00",
          "2018-03-21T00:00:00",
          "2018-03-22T00:00:00",
          "2018-03-23T00:00:00",
          "2018-03-26T00:00:00",
          "2018-03-27T00:00:00",
          "2018-03-28T00:00:00",
          "2018-04-02T00:00:00",
          "2018-04-03T00:00:00",
          "2018-04-04T00:00:00",
          "2018-04-05T00:00:00",
          "2018-04-06T00:00:00",
          "2018-04-09T00:00:00",
          "2018-04-10T00:00:00",
          "2018-04-11T00:00:00",
          "2018-04-12T00:00:00",
          "2018-04-13T00:00:00",
          "2018-04-16T00:00:00",
          "2018-04-17T00:00:00",
          "2018-04-18T00:00:00",
          "2018-04-19T00:00:00",
          "2018-04-20T00:00:00",
          "2018-04-23T00:00:00",
          "2018-04-24T00:00:00",
          "2018-04-25T00:00:00",
          "2018-04-26T00:00:00",
          "2018-04-27T00:00:00",
          "2018-04-30T00:00:00",
          "2018-05-02T00:00:00",
          "2018-05-03T00:00:00",
          "2018-05-04T00:00:00",
          "2018-05-07T00:00:00",
          "2018-05-08T00:00:00",
          "2018-05-09T00:00:00",
          "2018-05-10T00:00:00",
          "2018-05-11T00:00:00",
          "2018-05-14T00:00:00",
          "2018-05-15T00:00:00",
          "2018-05-16T00:00:00",
          "2018-05-17T00:00:00",
          "2018-05-18T00:00:00",
          "2018-05-21T00:00:00",
          "2018-05-22T00:00:00",
          "2018-05-23T00:00:00",
          "2018-05-24T00:00:00",
          "2018-05-25T00:00:00",
          "2018-05-28T00:00:00",
          "2018-05-29T00:00:00",
          "2018-05-30T00:00:00",
          "2018-05-31T00:00:00",
          "2018-06-01T00:00:00",
          "2018-06-04T00:00:00",
          "2018-06-05T00:00:00",
          "2018-06-06T00:00:00",
          "2018-06-07T00:00:00",
          "2018-06-08T00:00:00",
          "2018-06-11T00:00:00",
          "2018-06-12T00:00:00",
          "2018-06-13T00:00:00",
          "2018-06-14T00:00:00",
          "2018-06-15T00:00:00",
          "2018-06-18T00:00:00",
          "2018-06-19T00:00:00",
          "2018-06-20T00:00:00",
          "2018-06-21T00:00:00",
          "2018-06-22T00:00:00",
          "2018-06-25T00:00:00",
          "2018-06-26T00:00:00",
          "2018-06-27T00:00:00",
          "2018-06-28T00:00:00",
          "2018-06-29T00:00:00",
          "2018-07-02T00:00:00",
          "2018-07-03T00:00:00",
          "2018-07-04T00:00:00",
          "2018-07-05T00:00:00",
          "2018-07-06T00:00:00",
          "2018-07-09T00:00:00",
          "2018-07-10T00:00:00",
          "2018-07-11T00:00:00",
          "2018-07-12T00:00:00",
          "2018-07-13T00:00:00",
          "2018-07-16T00:00:00",
          "2018-07-17T00:00:00",
          "2018-07-18T00:00:00",
          "2018-07-19T00:00:00",
          "2018-07-20T00:00:00",
          "2018-07-23T00:00:00",
          "2018-07-24T00:00:00",
          "2018-07-25T00:00:00",
          "2018-07-26T00:00:00",
          "2018-07-27T00:00:00",
          "2018-07-30T00:00:00",
          "2018-07-31T00:00:00",
          "2018-08-01T00:00:00",
          "2018-08-02T00:00:00",
          "2018-08-03T00:00:00",
          "2018-08-06T00:00:00",
          "2018-08-07T00:00:00",
          "2018-08-08T00:00:00",
          "2018-08-09T00:00:00",
          "2018-08-10T00:00:00",
          "2018-08-13T00:00:00",
          "2018-08-14T00:00:00",
          "2018-08-16T00:00:00",
          "2018-08-17T00:00:00",
          "2018-08-20T00:00:00",
          "2018-08-21T00:00:00",
          "2018-08-23T00:00:00",
          "2018-08-24T00:00:00",
          "2018-08-27T00:00:00",
          "2018-08-28T00:00:00",
          "2018-08-29T00:00:00",
          "2018-08-30T00:00:00",
          "2018-08-31T00:00:00",
          "2018-09-03T00:00:00",
          "2018-09-04T00:00:00",
          "2018-09-05T00:00:00",
          "2018-09-06T00:00:00",
          "2018-09-07T00:00:00",
          "2018-09-10T00:00:00",
          "2018-09-11T00:00:00",
          "2018-09-12T00:00:00",
          "2018-09-14T00:00:00",
          "2018-09-17T00:00:00",
          "2018-09-18T00:00:00",
          "2018-09-19T00:00:00",
          "2018-09-21T00:00:00",
          "2018-09-24T00:00:00",
          "2018-09-25T00:00:00",
          "2018-09-26T00:00:00",
          "2018-09-27T00:00:00",
          "2018-09-28T00:00:00",
          "2018-10-01T00:00:00",
          "2018-10-03T00:00:00",
          "2018-10-04T00:00:00",
          "2018-10-05T00:00:00",
          "2018-10-08T00:00:00",
          "2018-10-09T00:00:00",
          "2018-10-10T00:00:00",
          "2018-10-11T00:00:00",
          "2018-10-12T00:00:00",
          "2018-10-15T00:00:00",
          "2018-10-16T00:00:00",
          "2018-10-17T00:00:00",
          "2018-10-19T00:00:00",
          "2018-10-22T00:00:00",
          "2018-10-23T00:00:00",
          "2018-10-24T00:00:00",
          "2018-10-25T00:00:00",
          "2018-10-26T00:00:00",
          "2018-10-29T00:00:00",
          "2018-10-30T00:00:00",
          "2018-10-31T00:00:00",
          "2018-11-01T00:00:00",
          "2018-11-02T00:00:00",
          "2018-11-05T00:00:00",
          "2018-11-06T00:00:00",
          "2018-11-07T00:00:00",
          "2018-11-09T00:00:00",
          "2018-11-12T00:00:00",
          "2018-11-13T00:00:00",
          "2018-11-14T00:00:00",
          "2018-11-15T00:00:00",
          "2018-11-16T00:00:00",
          "2018-11-19T00:00:00",
          "2018-11-20T00:00:00",
          "2018-11-21T00:00:00",
          "2018-11-22T00:00:00",
          "2018-11-26T00:00:00",
          "2018-11-27T00:00:00",
          "2018-11-28T00:00:00",
          "2018-11-29T00:00:00",
          "2018-11-30T00:00:00",
          "2018-12-03T00:00:00",
          "2018-12-04T00:00:00",
          "2018-12-05T00:00:00",
          "2018-12-06T00:00:00",
          "2018-12-07T00:00:00",
          "2018-12-10T00:00:00",
          "2018-12-11T00:00:00",
          "2018-12-12T00:00:00",
          "2018-12-13T00:00:00",
          "2018-12-14T00:00:00",
          "2018-12-17T00:00:00",
          "2018-12-18T00:00:00",
          "2018-12-19T00:00:00",
          "2018-12-20T00:00:00",
          "2018-12-21T00:00:00",
          "2018-12-24T00:00:00",
          "2018-12-26T00:00:00",
          "2018-12-27T00:00:00",
          "2018-12-28T00:00:00",
          "2018-12-31T00:00:00"
         ]
        }
       ],
       "layout": {
        "template": {
         "data": {
          "bar": [
           {
            "error_x": {
             "color": "#2a3f5f"
            },
            "error_y": {
             "color": "#2a3f5f"
            },
            "marker": {
             "line": {
              "color": "#E5ECF6",
              "width": 0.5
             }
            },
            "type": "bar"
           }
          ],
          "barpolar": [
           {
            "marker": {
             "line": {
              "color": "#E5ECF6",
              "width": 0.5
             }
            },
            "type": "barpolar"
           }
          ],
          "carpet": [
           {
            "aaxis": {
             "endlinecolor": "#2a3f5f",
             "gridcolor": "white",
             "linecolor": "white",
             "minorgridcolor": "white",
             "startlinecolor": "#2a3f5f"
            },
            "baxis": {
             "endlinecolor": "#2a3f5f",
             "gridcolor": "white",
             "linecolor": "white",
             "minorgridcolor": "white",
             "startlinecolor": "#2a3f5f"
            },
            "type": "carpet"
           }
          ],
          "choropleth": [
           {
            "colorbar": {
             "outlinewidth": 0,
             "ticks": ""
            },
            "type": "choropleth"
           }
          ],
          "contour": [
           {
            "colorbar": {
             "outlinewidth": 0,
             "ticks": ""
            },
            "colorscale": [
             [
              0,
              "#0d0887"
             ],
             [
              0.1111111111111111,
              "#46039f"
             ],
             [
              0.2222222222222222,
              "#7201a8"
             ],
             [
              0.3333333333333333,
              "#9c179e"
             ],
             [
              0.4444444444444444,
              "#bd3786"
             ],
             [
              0.5555555555555556,
              "#d8576b"
             ],
             [
              0.6666666666666666,
              "#ed7953"
             ],
             [
              0.7777777777777778,
              "#fb9f3a"
             ],
             [
              0.8888888888888888,
              "#fdca26"
             ],
             [
              1,
              "#f0f921"
             ]
            ],
            "type": "contour"
           }
          ],
          "contourcarpet": [
           {
            "colorbar": {
             "outlinewidth": 0,
             "ticks": ""
            },
            "type": "contourcarpet"
           }
          ],
          "heatmap": [
           {
            "colorbar": {
             "outlinewidth": 0,
             "ticks": ""
            },
            "colorscale": [
             [
              0,
              "#0d0887"
             ],
             [
              0.1111111111111111,
              "#46039f"
             ],
             [
              0.2222222222222222,
              "#7201a8"
             ],
             [
              0.3333333333333333,
              "#9c179e"
             ],
             [
              0.4444444444444444,
              "#bd3786"
             ],
             [
              0.5555555555555556,
              "#d8576b"
             ],
             [
              0.6666666666666666,
              "#ed7953"
             ],
             [
              0.7777777777777778,
              "#fb9f3a"
             ],
             [
              0.8888888888888888,
              "#fdca26"
             ],
             [
              1,
              "#f0f921"
             ]
            ],
            "type": "heatmap"
           }
          ],
          "heatmapgl": [
           {
            "colorbar": {
             "outlinewidth": 0,
             "ticks": ""
            },
            "colorscale": [
             [
              0,
              "#0d0887"
             ],
             [
              0.1111111111111111,
              "#46039f"
             ],
             [
              0.2222222222222222,
              "#7201a8"
             ],
             [
              0.3333333333333333,
              "#9c179e"
             ],
             [
              0.4444444444444444,
              "#bd3786"
             ],
             [
              0.5555555555555556,
              "#d8576b"
             ],
             [
              0.6666666666666666,
              "#ed7953"
             ],
             [
              0.7777777777777778,
              "#fb9f3a"
             ],
             [
              0.8888888888888888,
              "#fdca26"
             ],
             [
              1,
              "#f0f921"
             ]
            ],
            "type": "heatmapgl"
           }
          ],
          "histogram": [
           {
            "marker": {
             "colorbar": {
              "outlinewidth": 0,
              "ticks": ""
             }
            },
            "type": "histogram"
           }
          ],
          "histogram2d": [
           {
            "colorbar": {
             "outlinewidth": 0,
             "ticks": ""
            },
            "colorscale": [
             [
              0,
              "#0d0887"
             ],
             [
              0.1111111111111111,
              "#46039f"
             ],
             [
              0.2222222222222222,
              "#7201a8"
             ],
             [
              0.3333333333333333,
              "#9c179e"
             ],
             [
              0.4444444444444444,
              "#bd3786"
             ],
             [
              0.5555555555555556,
              "#d8576b"
             ],
             [
              0.6666666666666666,
              "#ed7953"
             ],
             [
              0.7777777777777778,
              "#fb9f3a"
             ],
             [
              0.8888888888888888,
              "#fdca26"
             ],
             [
              1,
              "#f0f921"
             ]
            ],
            "type": "histogram2d"
           }
          ],
          "histogram2dcontour": [
           {
            "colorbar": {
             "outlinewidth": 0,
             "ticks": ""
            },
            "colorscale": [
             [
              0,
              "#0d0887"
             ],
             [
              0.1111111111111111,
              "#46039f"
             ],
             [
              0.2222222222222222,
              "#7201a8"
             ],
             [
              0.3333333333333333,
              "#9c179e"
             ],
             [
              0.4444444444444444,
              "#bd3786"
             ],
             [
              0.5555555555555556,
              "#d8576b"
             ],
             [
              0.6666666666666666,
              "#ed7953"
             ],
             [
              0.7777777777777778,
              "#fb9f3a"
             ],
             [
              0.8888888888888888,
              "#fdca26"
             ],
             [
              1,
              "#f0f921"
             ]
            ],
            "type": "histogram2dcontour"
           }
          ],
          "mesh3d": [
           {
            "colorbar": {
             "outlinewidth": 0,
             "ticks": ""
            },
            "type": "mesh3d"
           }
          ],
          "parcoords": [
           {
            "line": {
             "colorbar": {
              "outlinewidth": 0,
              "ticks": ""
             }
            },
            "type": "parcoords"
           }
          ],
          "pie": [
           {
            "automargin": true,
            "type": "pie"
           }
          ],
          "scatter": [
           {
            "marker": {
             "colorbar": {
              "outlinewidth": 0,
              "ticks": ""
             }
            },
            "type": "scatter"
           }
          ],
          "scatter3d": [
           {
            "line": {
             "colorbar": {
              "outlinewidth": 0,
              "ticks": ""
             }
            },
            "marker": {
             "colorbar": {
              "outlinewidth": 0,
              "ticks": ""
             }
            },
            "type": "scatter3d"
           }
          ],
          "scattercarpet": [
           {
            "marker": {
             "colorbar": {
              "outlinewidth": 0,
              "ticks": ""
             }
            },
            "type": "scattercarpet"
           }
          ],
          "scattergeo": [
           {
            "marker": {
             "colorbar": {
              "outlinewidth": 0,
              "ticks": ""
             }
            },
            "type": "scattergeo"
           }
          ],
          "scattergl": [
           {
            "marker": {
             "colorbar": {
              "outlinewidth": 0,
              "ticks": ""
             }
            },
            "type": "scattergl"
           }
          ],
          "scattermapbox": [
           {
            "marker": {
             "colorbar": {
              "outlinewidth": 0,
              "ticks": ""
             }
            },
            "type": "scattermapbox"
           }
          ],
          "scatterpolar": [
           {
            "marker": {
             "colorbar": {
              "outlinewidth": 0,
              "ticks": ""
             }
            },
            "type": "scatterpolar"
           }
          ],
          "scatterpolargl": [
           {
            "marker": {
             "colorbar": {
              "outlinewidth": 0,
              "ticks": ""
             }
            },
            "type": "scatterpolargl"
           }
          ],
          "scatterternary": [
           {
            "marker": {
             "colorbar": {
              "outlinewidth": 0,
              "ticks": ""
             }
            },
            "type": "scatterternary"
           }
          ],
          "surface": [
           {
            "colorbar": {
             "outlinewidth": 0,
             "ticks": ""
            },
            "colorscale": [
             [
              0,
              "#0d0887"
             ],
             [
              0.1111111111111111,
              "#46039f"
             ],
             [
              0.2222222222222222,
              "#7201a8"
             ],
             [
              0.3333333333333333,
              "#9c179e"
             ],
             [
              0.4444444444444444,
              "#bd3786"
             ],
             [
              0.5555555555555556,
              "#d8576b"
             ],
             [
              0.6666666666666666,
              "#ed7953"
             ],
             [
              0.7777777777777778,
              "#fb9f3a"
             ],
             [
              0.8888888888888888,
              "#fdca26"
             ],
             [
              1,
              "#f0f921"
             ]
            ],
            "type": "surface"
           }
          ],
          "table": [
           {
            "cells": {
             "fill": {
              "color": "#EBF0F8"
             },
             "line": {
              "color": "white"
             }
            },
            "header": {
             "fill": {
              "color": "#C8D4E3"
             },
             "line": {
              "color": "white"
             }
            },
            "type": "table"
           }
          ]
         },
         "layout": {
          "annotationdefaults": {
           "arrowcolor": "#2a3f5f",
           "arrowhead": 0,
           "arrowwidth": 1
          },
          "coloraxis": {
           "colorbar": {
            "outlinewidth": 0,
            "ticks": ""
           }
          },
          "colorscale": {
           "diverging": [
            [
             0,
             "#8e0152"
            ],
            [
             0.1,
             "#c51b7d"
            ],
            [
             0.2,
             "#de77ae"
            ],
            [
             0.3,
             "#f1b6da"
            ],
            [
             0.4,
             "#fde0ef"
            ],
            [
             0.5,
             "#f7f7f7"
            ],
            [
             0.6,
             "#e6f5d0"
            ],
            [
             0.7,
             "#b8e186"
            ],
            [
             0.8,
             "#7fbc41"
            ],
            [
             0.9,
             "#4d9221"
            ],
            [
             1,
             "#276419"
            ]
           ],
           "sequential": [
            [
             0,
             "#0d0887"
            ],
            [
             0.1111111111111111,
             "#46039f"
            ],
            [
             0.2222222222222222,
             "#7201a8"
            ],
            [
             0.3333333333333333,
             "#9c179e"
            ],
            [
             0.4444444444444444,
             "#bd3786"
            ],
            [
             0.5555555555555556,
             "#d8576b"
            ],
            [
             0.6666666666666666,
             "#ed7953"
            ],
            [
             0.7777777777777778,
             "#fb9f3a"
            ],
            [
             0.8888888888888888,
             "#fdca26"
            ],
            [
             1,
             "#f0f921"
            ]
           ],
           "sequentialminus": [
            [
             0,
             "#0d0887"
            ],
            [
             0.1111111111111111,
             "#46039f"
            ],
            [
             0.2222222222222222,
             "#7201a8"
            ],
            [
             0.3333333333333333,
             "#9c179e"
            ],
            [
             0.4444444444444444,
             "#bd3786"
            ],
            [
             0.5555555555555556,
             "#d8576b"
            ],
            [
             0.6666666666666666,
             "#ed7953"
            ],
            [
             0.7777777777777778,
             "#fb9f3a"
            ],
            [
             0.8888888888888888,
             "#fdca26"
            ],
            [
             1,
             "#f0f921"
            ]
           ]
          },
          "colorway": [
           "#636efa",
           "#EF553B",
           "#00cc96",
           "#ab63fa",
           "#FFA15A",
           "#19d3f3",
           "#FF6692",
           "#B6E880",
           "#FF97FF",
           "#FECB52"
          ],
          "font": {
           "color": "#2a3f5f"
          },
          "geo": {
           "bgcolor": "white",
           "lakecolor": "white",
           "landcolor": "#E5ECF6",
           "showlakes": true,
           "showland": true,
           "subunitcolor": "white"
          },
          "hoverlabel": {
           "align": "left"
          },
          "hovermode": "closest",
          "mapbox": {
           "style": "light"
          },
          "paper_bgcolor": "white",
          "plot_bgcolor": "#E5ECF6",
          "polar": {
           "angularaxis": {
            "gridcolor": "white",
            "linecolor": "white",
            "ticks": ""
           },
           "bgcolor": "#E5ECF6",
           "radialaxis": {
            "gridcolor": "white",
            "linecolor": "white",
            "ticks": ""
           }
          },
          "scene": {
           "xaxis": {
            "backgroundcolor": "#E5ECF6",
            "gridcolor": "white",
            "gridwidth": 2,
            "linecolor": "white",
            "showbackground": true,
            "ticks": "",
            "zerolinecolor": "white"
           },
           "yaxis": {
            "backgroundcolor": "#E5ECF6",
            "gridcolor": "white",
            "gridwidth": 2,
            "linecolor": "white",
            "showbackground": true,
            "ticks": "",
            "zerolinecolor": "white"
           },
           "zaxis": {
            "backgroundcolor": "#E5ECF6",
            "gridcolor": "white",
            "gridwidth": 2,
            "linecolor": "white",
            "showbackground": true,
            "ticks": "",
            "zerolinecolor": "white"
           }
          },
          "shapedefaults": {
           "line": {
            "color": "#2a3f5f"
           }
          },
          "ternary": {
           "aaxis": {
            "gridcolor": "white",
            "linecolor": "white",
            "ticks": ""
           },
           "baxis": {
            "gridcolor": "white",
            "linecolor": "white",
            "ticks": ""
           },
           "bgcolor": "#E5ECF6",
           "caxis": {
            "gridcolor": "white",
            "linecolor": "white",
            "ticks": ""
           }
          },
          "title": {
           "x": 0.05
          },
          "xaxis": {
           "automargin": true,
           "gridcolor": "white",
           "linecolor": "white",
           "ticks": "",
           "title": {
            "standoff": 15
           },
           "zerolinecolor": "white",
           "zerolinewidth": 2
          },
          "yaxis": {
           "automargin": true,
           "gridcolor": "white",
           "linecolor": "white",
           "ticks": "",
           "title": {
            "standoff": 15
           },
           "zerolinecolor": "white",
           "zerolinewidth": 2
          }
         }
        },
        "title": {
         "text": "Nifty"
        },
        "xaxis": {
         "title": {
          "text": "Month wise"
         }
        },
        "yaxis": {
         "title": {
          "text": "Nifty Index"
         }
        }
       }
      },
      "text/html": [
       "<div>\n",
       "        \n",
       "        \n",
       "            <div id=\"12d5b57f-abf6-40e1-87e5-9f4dfa98c84b\" class=\"plotly-graph-div\" style=\"height:525px; width:100%;\"></div>\n",
       "            <script type=\"text/javascript\">\n",
       "                require([\"plotly\"], function(Plotly) {\n",
       "                    window.PLOTLYENV=window.PLOTLYENV || {};\n",
       "                    \n",
       "                if (document.getElementById(\"12d5b57f-abf6-40e1-87e5-9f4dfa98c84b\")) {\n",
       "                    Plotly.newPlot(\n",
       "                        '12d5b57f-abf6-40e1-87e5-9f4dfa98c84b',\n",
       "                        [{\"close\": [10435.55, 10442.2, 10443.2, 10504.8, 10558.85, 10623.6, 10637.0, 10632.2, 10651.2, 10681.25, 10741.55, 10700.45, 10788.55, 10817.0, 10894.7, 10966.2, 11083.7, 11086.0, 11069.65, 11130.4, 11049.65, 11027.7, 11016.9, 10760.6, 10666.55, 10498.25, 10476.7, 10576.85, 10454.95, 10539.75, 10500.9, 10545.5, 10452.3, 10378.4, 10360.4, 10397.45, 10382.7, 10491.05, 10582.6, 10554.3, 10492.85, 10458.35, 10358.85, 10249.25, 10154.2, 10242.65, 10226.85, 10421.4, 10426.85, 10410.9, 10360.15, 10195.15, 10094.25, 10124.35, 10155.25, 10114.75, 9998.05, 10130.65, 10184.15, 10113.7, 10211.8, 10245.0, 10128.4, 10325.15, 10331.6, 10379.35, 10402.25, 10417.15, 10458.65, 10480.6, 10528.35, 10548.7, 10526.2, 10565.3, 10564.05, 10584.7, 10614.35, 10570.55, 10617.8, 10692.3, 10739.35, 10718.05, 10679.65, 10618.25, 10715.5, 10717.8, 10741.7, 10716.55, 10806.5, 10806.6, 10801.85, 10741.1, 10682.7, 10596.4, 10516.7, 10536.7, 10430.35, 10513.85, 10605.15, 10688.65, 10633.3, 10614.35, 10736.15, 10696.2, 10628.5, 10593.15, 10684.65, 10768.35, 10767.65, 10786.95, 10842.85, 10856.7, 10808.05, 10817.7, 10799.85, 10710.45, 10772.05, 10741.1, 10821.85, 10762.45, 10769.15, 10671.4, 10589.1, 10714.3, 10657.3, 10699.9, 10769.9, 10749.75, 10772.65, 10852.9, 10947.25, 10948.3, 11023.2, 11018.9, 10936.85, 11008.05, 10980.45, 10957.1, 11010.2, 11084.75, 11134.3, 11132.0, 11167.3, 11278.35, 11319.55, 11356.5, 11346.2, 11244.7, 11360.8, 11387.1, 11389.45, 11450.0, 11470.7, 11429.5, 11355.75, 11435.1, 11385.05, 11470.75, 11551.75, 11570.9, 11582.75, 11557.1, 11691.95, 11738.5, 11691.9, 11676.8, 11680.5, 11582.35, 11520.3, 11476.95, 11536.9, 11589.1, 11438.1, 11287.5, 11369.9, 11515.2, 11377.75, 11278.9, 11234.35, 11143.1, 10967.4, 11067.45, 11053.8, 10977.55, 10930.45, 11008.3, 10858.25, 10599.25, 10316.45, 10348.05, 10301.05, 10460.1, 10234.65, 10472.5, 10512.5, 10584.75, 10453.05, 10303.55, 10245.25, 10146.8, 10224.75, 10124.9, 10030.0, 10250.85, 10198.4, 10386.6, 10380.45, 10553.0, 10524.0, 10530.0, 10598.4, 10585.2, 10482.2, 10582.5, 10576.3, 10616.7, 10682.2, 10763.4, 10656.2, 10600.05, 10526.75, 10628.6, 10685.6, 10728.85, 10858.7, 10876.75, 10883.75, 10869.5, 10782.9, 10601.15, 10693.7, 10488.45, 10549.15, 10737.6, 10791.55, 10805.45, 10888.35, 10908.7, 10967.3, 10951.7, 10754.0, 10663.5, 10729.85, 10779.8, 10859.9, 10862.55], \"decreasing\": {\"line\": {\"color\": \"red\"}}, \"high\": [10537.85, 10495.2, 10503.6, 10513.0, 10566.1, 10631.2, 10659.15, 10655.5, 10664.6, 10690.4, 10782.65, 10762.35, 10803.0, 10887.5, 10906.85, 10975.1, 11092.9, 11110.1, 11095.6, 11171.55, 11121.1, 11058.5, 11117.35, 10954.95, 10702.75, 10594.15, 10614.0, 10637.8, 10480.2, 10555.5, 10590.55, 10618.1, 10612.9, 10489.35, 10429.35, 10426.1, 10397.55, 10499.1, 10592.95, 10631.65, 10535.5, 10525.5, 10428.7, 10441.35, 10243.35, 10270.35, 10296.7, 10433.65, 10478.6, 10420.35, 10420.0, 10346.3, 10224.55, 10155.65, 10227.3, 10207.85, 10027.7, 10143.5, 10207.9, 10158.35, 10220.1, 10255.35, 10279.85, 10331.8, 10350.45, 10397.7, 10424.85, 10428.15, 10469.9, 10519.9, 10540.15, 10560.45, 10594.2, 10572.2, 10582.35, 10638.35, 10636.8, 10612.6, 10628.4, 10719.8, 10759.0, 10784.65, 10720.6, 10700.45, 10725.65, 10758.55, 10766.25, 10785.55, 10812.05, 10834.85, 10929.2, 10790.45, 10777.25, 10674.95, 10621.7, 10558.6, 10533.55, 10535.15, 10628.05, 10709.8, 10717.25, 10648.7, 10763.8, 10764.75, 10770.3, 10633.15, 10698.35, 10818.0, 10779.45, 10850.55, 10856.55, 10893.25, 10833.7, 10834.0, 10830.2, 10789.45, 10781.8, 10809.6, 10837.0, 10831.05, 10805.25, 10785.5, 10674.2, 10723.05, 10736.15, 10713.3, 10777.15, 10786.05, 10816.35, 10860.35, 10956.9, 10976.65, 11078.3, 11071.35, 11019.5, 11018.5, 11076.2, 11006.5, 11030.25, 11093.4, 11143.4, 11157.15, 11185.85, 11283.4, 11328.1, 11366.0, 11390.55, 11328.9, 11368.0, 11427.65, 11428.95, 11459.95, 11495.2, 11478.75, 11406.3, 11452.45, 11449.85, 11486.45, 11565.3, 11581.75, 11620.7, 11604.6, 11700.95, 11760.2, 11753.2, 11698.8, 11727.65, 11751.8, 11602.55, 11542.65, 11562.25, 11603.0, 11573.0, 11479.4, 11380.75, 11523.25, 11464.95, 11411.45, 11332.05, 11346.8, 11170.15, 11080.6, 11145.55, 11089.45, 11034.1, 11035.65, 10989.05, 10754.7, 10540.65, 10398.35, 10397.6, 10482.35, 10335.95, 10492.45, 10526.3, 10604.9, 10710.15, 10380.1, 10408.55, 10222.1, 10290.65, 10166.6, 10128.85, 10275.3, 10285.1, 10396.0, 10441.9, 10606.95, 10558.8, 10600.25, 10616.45, 10619.55, 10645.5, 10596.25, 10651.6, 10646.5, 10695.15, 10774.7, 10740.85, 10671.3, 10646.25, 10637.8, 10695.15, 10757.8, 10883.05, 10922.45, 10941.2, 10890.95, 10821.05, 10722.65, 10704.55, 10558.85, 10567.15, 10752.2, 10838.6, 10815.75, 10900.35, 10915.4, 10985.15, 10962.55, 10963.65, 10782.3, 10747.5, 10834.2, 10893.6, 10923.55], \"increasing\": {\"line\": {\"color\": \"blue\"}}, \"low\": [10423.1, 10404.65, 10429.55, 10441.45, 10520.1, 10588.55, 10603.6, 10592.7, 10612.35, 10597.1, 10713.8, 10687.85, 10666.75, 10782.4, 10793.9, 10881.4, 10994.55, 11046.15, 11009.2, 11075.95, 11033.9, 10979.3, 10878.8, 10736.1, 10586.8, 10276.3, 10446.4, 10479.55, 10398.2, 10485.4, 10456.65, 10511.05, 10434.05, 10302.75, 10347.65, 10349.6, 10340.65, 10396.65, 10520.2, 10537.25, 10461.55, 10447.15, 10323.9, 10215.9, 10141.55, 10146.4, 10211.9, 10295.45, 10377.85, 10336.3, 10346.2, 10180.25, 10075.3, 10049.1, 10132.95, 10105.4, 9951.9, 9958.55, 10139.65, 10096.9, 10127.75, 10171.05, 10111.3, 10227.45, 10290.85, 10328.5, 10381.5, 10355.6, 10395.25, 10451.45, 10396.35, 10495.65, 10509.7, 10546.2, 10527.45, 10514.95, 10569.0, 10536.45, 10559.65, 10647.55, 10704.6, 10689.8, 10647.45, 10601.6, 10635.65, 10689.4, 10689.85, 10705.0, 10724.45, 10774.75, 10781.4, 10699.7, 10664.5, 10589.1, 10505.8, 10490.55, 10417.8, 10419.8, 10524.0, 10640.55, 10616.1, 10558.45, 10620.4, 10681.5, 10618.35, 10550.9, 10587.5, 10722.6, 10709.05, 10777.05, 10789.4, 10842.65, 10773.55, 10755.4, 10787.35, 10701.2, 10724.05, 10725.9, 10710.45, 10753.05, 10732.55, 10652.4, 10557.7, 10612.35, 10604.65, 10630.25, 10677.75, 10726.25, 10735.05, 10807.15, 10876.65, 10923.0, 10999.65, 10999.75, 10926.25, 10925.6, 10956.3, 10935.45, 10946.2, 11010.95, 11092.5, 11113.25, 11125.7, 11210.25, 11261.45, 11267.75, 11313.55, 11234.95, 11294.55, 11370.6, 11359.7, 11379.3, 11454.1, 11419.65, 11340.3, 11370.8, 11366.25, 11431.8, 11499.65, 11539.6, 11546.7, 11532.0, 11595.6, 11710.5, 11678.85, 11639.7, 11640.1, 11567.4, 11496.85, 11393.85, 11436.05, 11484.4, 11427.3, 11274.0, 11250.2, 11430.55, 11366.9, 11268.95, 11210.9, 10866.45, 10943.6, 10882.85, 10993.05, 10953.35, 10850.3, 10821.55, 10843.75, 10547.25, 10261.9, 10198.4, 10279.35, 10318.25, 10138.6, 10322.15, 10410.15, 10525.3, 10436.45, 10249.6, 10224.0, 10102.35, 10126.7, 10079.3, 10004.55, 10020.35, 10175.35, 10105.1, 10341.9, 10457.7, 10477.0, 10491.45, 10582.3, 10544.85, 10464.05, 10440.55, 10532.7, 10557.5, 10631.15, 10688.8, 10640.85, 10562.35, 10512.0, 10489.75, 10596.35, 10699.85, 10782.35, 10835.1, 10845.35, 10833.35, 10747.95, 10588.25, 10599.35, 10474.95, 10333.85, 10560.8, 10749.5, 10752.1, 10844.85, 10819.1, 10928.0, 10880.05, 10738.65, 10649.25, 10534.55, 10764.45, 10817.15, 10853.2], \"open\": [10531.7, 10477.55, 10482.65, 10469.4, 10534.25, 10591.7, 10645.1, 10652.05, 10637.05, 10682.55, 10718.5, 10761.5, 10702.45, 10873.4, 10829.2, 10883.2, 10997.4, 11069.35, 11095.6, 11079.35, 11120.85, 11018.8, 11044.55, 10938.2, 10604.3, 10295.15, 10607.2, 10518.5, 10416.5, 10518.2, 10585.75, 10537.9, 10596.2, 10488.9, 10391.0, 10426.0, 10354.35, 10408.1, 10526.55, 10615.2, 10488.95, 10479.95, 10428.3, 10420.5, 10232.95, 10216.25, 10271.3, 10301.6, 10389.5, 10393.05, 10405.45, 10345.15, 10215.35, 10051.55, 10181.95, 10167.5, 9968.8, 9989.15, 10188.0, 10143.6, 10151.65, 10186.85, 10274.6, 10228.45, 10322.75, 10333.7, 10412.9, 10428.15, 10410.65, 10495.3, 10398.3, 10557.3, 10578.9, 10563.65, 10560.35, 10592.8, 10578.1, 10612.4, 10586.5, 10651.65, 10705.75, 10783.85, 10720.15, 10700.45, 10653.15, 10757.9, 10693.35, 10779.65, 10741.95, 10815.15, 10812.6, 10751.95, 10775.6, 10671.85, 10616.7, 10518.45, 10521.1, 10464.85, 10533.05, 10648.35, 10689.4, 10579.0, 10670.1, 10738.45, 10765.95, 10630.7, 10603.45, 10722.6, 10736.4, 10781.85, 10816.15, 10887.5, 10832.9, 10808.65, 10830.2, 10789.45, 10734.65, 10808.45, 10742.7, 10822.9, 10742.7, 10785.5, 10660.8, 10612.85, 10732.35, 10668.6, 10715.0, 10786.05, 10744.15, 10838.3, 10902.75, 10956.4, 11006.95, 11056.9, 11018.95, 10939.65, 11060.2, 10999.5, 10963.5, 11019.85, 11109.0, 11148.4, 11132.95, 11232.75, 11296.65, 11311.05, 11359.8, 11328.9, 11297.8, 11401.5, 11423.15, 11412.5, 11493.25, 11474.95, 11369.6, 11381.7, 11397.15, 11437.15, 11502.1, 11576.2, 11620.7, 11566.6, 11605.85, 11731.95, 11744.95, 11694.75, 11675.85, 11751.8, 11598.75, 11514.85, 11514.15, 11558.25, 11570.25, 11476.85, 11340.1, 11443.5, 11464.95, 11381.55, 11326.65, 11271.3, 11164.4, 10969.95, 11145.55, 11079.8, 11008.1, 10930.9, 10982.7, 10754.7, 10514.1, 10310.15, 10390.3, 10331.85, 10169.8, 10331.55, 10524.2, 10550.15, 10688.7, 10339.7, 10405.85, 10152.6, 10278.15, 10135.05, 10122.35, 10078.1, 10239.4, 10209.55, 10441.7, 10462.3, 10558.75, 10552.0, 10614.45, 10614.7, 10607.8, 10451.9, 10634.9, 10580.6, 10644.0, 10731.25, 10740.1, 10670.95, 10612.65, 10568.3, 10621.45, 10708.75, 10808.7, 10892.1, 10930.7, 10877.1, 10820.45, 10718.15, 10644.8, 10508.7, 10350.05, 10591.0, 10810.75, 10784.5, 10853.2, 10850.9, 10930.55, 10885.2, 10944.25, 10780.9, 10635.45, 10817.9, 10820.95, 10913.2], \"type\": \"candlestick\", \"x\": [\"2018-01-01T00:00:00\", \"2018-01-02T00:00:00\", \"2018-01-03T00:00:00\", \"2018-01-04T00:00:00\", \"2018-01-05T00:00:00\", \"2018-01-08T00:00:00\", \"2018-01-09T00:00:00\", \"2018-01-10T00:00:00\", \"2018-01-11T00:00:00\", \"2018-01-12T00:00:00\", \"2018-01-15T00:00:00\", \"2018-01-16T00:00:00\", \"2018-01-17T00:00:00\", \"2018-01-18T00:00:00\", \"2018-01-19T00:00:00\", \"2018-01-22T00:00:00\", \"2018-01-23T00:00:00\", \"2018-01-24T00:00:00\", \"2018-01-25T00:00:00\", \"2018-01-29T00:00:00\", \"2018-01-30T00:00:00\", \"2018-01-31T00:00:00\", \"2018-02-01T00:00:00\", \"2018-02-02T00:00:00\", \"2018-02-05T00:00:00\", \"2018-02-06T00:00:00\", \"2018-02-07T00:00:00\", \"2018-02-08T00:00:00\", \"2018-02-09T00:00:00\", \"2018-02-12T00:00:00\", \"2018-02-14T00:00:00\", \"2018-02-15T00:00:00\", \"2018-02-16T00:00:00\", \"2018-02-19T00:00:00\", \"2018-02-20T00:00:00\", \"2018-02-21T00:00:00\", \"2018-02-22T00:00:00\", \"2018-02-23T00:00:00\", \"2018-02-26T00:00:00\", \"2018-02-27T00:00:00\", \"2018-02-28T00:00:00\", \"2018-03-01T00:00:00\", \"2018-03-05T00:00:00\", \"2018-03-06T00:00:00\", \"2018-03-07T00:00:00\", \"2018-03-08T00:00:00\", \"2018-03-09T00:00:00\", \"2018-03-12T00:00:00\", \"2018-03-13T00:00:00\", \"2018-03-14T00:00:00\", \"2018-03-15T00:00:00\", \"2018-03-16T00:00:00\", \"2018-03-19T00:00:00\", \"2018-03-20T00:00:00\", \"2018-03-21T00:00:00\", \"2018-03-22T00:00:00\", \"2018-03-23T00:00:00\", \"2018-03-26T00:00:00\", \"2018-03-27T00:00:00\", \"2018-03-28T00:00:00\", \"2018-04-02T00:00:00\", \"2018-04-03T00:00:00\", \"2018-04-04T00:00:00\", \"2018-04-05T00:00:00\", \"2018-04-06T00:00:00\", \"2018-04-09T00:00:00\", \"2018-04-10T00:00:00\", \"2018-04-11T00:00:00\", \"2018-04-12T00:00:00\", \"2018-04-13T00:00:00\", \"2018-04-16T00:00:00\", \"2018-04-17T00:00:00\", \"2018-04-18T00:00:00\", \"2018-04-19T00:00:00\", \"2018-04-20T00:00:00\", \"2018-04-23T00:00:00\", \"2018-04-24T00:00:00\", \"2018-04-25T00:00:00\", \"2018-04-26T00:00:00\", \"2018-04-27T00:00:00\", \"2018-04-30T00:00:00\", \"2018-05-02T00:00:00\", \"2018-05-03T00:00:00\", \"2018-05-04T00:00:00\", \"2018-05-07T00:00:00\", \"2018-05-08T00:00:00\", \"2018-05-09T00:00:00\", \"2018-05-10T00:00:00\", \"2018-05-11T00:00:00\", \"2018-05-14T00:00:00\", \"2018-05-15T00:00:00\", \"2018-05-16T00:00:00\", \"2018-05-17T00:00:00\", \"2018-05-18T00:00:00\", \"2018-05-21T00:00:00\", \"2018-05-22T00:00:00\", \"2018-05-23T00:00:00\", \"2018-05-24T00:00:00\", \"2018-05-25T00:00:00\", \"2018-05-28T00:00:00\", \"2018-05-29T00:00:00\", \"2018-05-30T00:00:00\", \"2018-05-31T00:00:00\", \"2018-06-01T00:00:00\", \"2018-06-04T00:00:00\", \"2018-06-05T00:00:00\", \"2018-06-06T00:00:00\", \"2018-06-07T00:00:00\", \"2018-06-08T00:00:00\", \"2018-06-11T00:00:00\", \"2018-06-12T00:00:00\", \"2018-06-13T00:00:00\", \"2018-06-14T00:00:00\", \"2018-06-15T00:00:00\", \"2018-06-18T00:00:00\", \"2018-06-19T00:00:00\", \"2018-06-20T00:00:00\", \"2018-06-21T00:00:00\", \"2018-06-22T00:00:00\", \"2018-06-25T00:00:00\", \"2018-06-26T00:00:00\", \"2018-06-27T00:00:00\", \"2018-06-28T00:00:00\", \"2018-06-29T00:00:00\", \"2018-07-02T00:00:00\", \"2018-07-03T00:00:00\", \"2018-07-04T00:00:00\", \"2018-07-05T00:00:00\", \"2018-07-06T00:00:00\", \"2018-07-09T00:00:00\", \"2018-07-10T00:00:00\", \"2018-07-11T00:00:00\", \"2018-07-12T00:00:00\", \"2018-07-13T00:00:00\", \"2018-07-16T00:00:00\", \"2018-07-17T00:00:00\", \"2018-07-18T00:00:00\", \"2018-07-19T00:00:00\", \"2018-07-20T00:00:00\", \"2018-07-23T00:00:00\", \"2018-07-24T00:00:00\", \"2018-07-25T00:00:00\", \"2018-07-26T00:00:00\", \"2018-07-27T00:00:00\", \"2018-07-30T00:00:00\", \"2018-07-31T00:00:00\", \"2018-08-01T00:00:00\", \"2018-08-02T00:00:00\", \"2018-08-03T00:00:00\", \"2018-08-06T00:00:00\", \"2018-08-07T00:00:00\", \"2018-08-08T00:00:00\", \"2018-08-09T00:00:00\", \"2018-08-10T00:00:00\", \"2018-08-13T00:00:00\", \"2018-08-14T00:00:00\", \"2018-08-16T00:00:00\", \"2018-08-17T00:00:00\", \"2018-08-20T00:00:00\", \"2018-08-21T00:00:00\", \"2018-08-23T00:00:00\", \"2018-08-24T00:00:00\", \"2018-08-27T00:00:00\", \"2018-08-28T00:00:00\", \"2018-08-29T00:00:00\", \"2018-08-30T00:00:00\", \"2018-08-31T00:00:00\", \"2018-09-03T00:00:00\", \"2018-09-04T00:00:00\", \"2018-09-05T00:00:00\", \"2018-09-06T00:00:00\", \"2018-09-07T00:00:00\", \"2018-09-10T00:00:00\", \"2018-09-11T00:00:00\", \"2018-09-12T00:00:00\", \"2018-09-14T00:00:00\", \"2018-09-17T00:00:00\", \"2018-09-18T00:00:00\", \"2018-09-19T00:00:00\", \"2018-09-21T00:00:00\", \"2018-09-24T00:00:00\", \"2018-09-25T00:00:00\", \"2018-09-26T00:00:00\", \"2018-09-27T00:00:00\", \"2018-09-28T00:00:00\", \"2018-10-01T00:00:00\", \"2018-10-03T00:00:00\", \"2018-10-04T00:00:00\", \"2018-10-05T00:00:00\", \"2018-10-08T00:00:00\", \"2018-10-09T00:00:00\", \"2018-10-10T00:00:00\", \"2018-10-11T00:00:00\", \"2018-10-12T00:00:00\", \"2018-10-15T00:00:00\", \"2018-10-16T00:00:00\", \"2018-10-17T00:00:00\", \"2018-10-19T00:00:00\", \"2018-10-22T00:00:00\", \"2018-10-23T00:00:00\", \"2018-10-24T00:00:00\", \"2018-10-25T00:00:00\", \"2018-10-26T00:00:00\", \"2018-10-29T00:00:00\", \"2018-10-30T00:00:00\", \"2018-10-31T00:00:00\", \"2018-11-01T00:00:00\", \"2018-11-02T00:00:00\", \"2018-11-05T00:00:00\", \"2018-11-06T00:00:00\", \"2018-11-07T00:00:00\", \"2018-11-09T00:00:00\", \"2018-11-12T00:00:00\", \"2018-11-13T00:00:00\", \"2018-11-14T00:00:00\", \"2018-11-15T00:00:00\", \"2018-11-16T00:00:00\", \"2018-11-19T00:00:00\", \"2018-11-20T00:00:00\", \"2018-11-21T00:00:00\", \"2018-11-22T00:00:00\", \"2018-11-26T00:00:00\", \"2018-11-27T00:00:00\", \"2018-11-28T00:00:00\", \"2018-11-29T00:00:00\", \"2018-11-30T00:00:00\", \"2018-12-03T00:00:00\", \"2018-12-04T00:00:00\", \"2018-12-05T00:00:00\", \"2018-12-06T00:00:00\", \"2018-12-07T00:00:00\", \"2018-12-10T00:00:00\", \"2018-12-11T00:00:00\", \"2018-12-12T00:00:00\", \"2018-12-13T00:00:00\", \"2018-12-14T00:00:00\", \"2018-12-17T00:00:00\", \"2018-12-18T00:00:00\", \"2018-12-19T00:00:00\", \"2018-12-20T00:00:00\", \"2018-12-21T00:00:00\", \"2018-12-24T00:00:00\", \"2018-12-26T00:00:00\", \"2018-12-27T00:00:00\", \"2018-12-28T00:00:00\", \"2018-12-31T00:00:00\"]}],\n",
       "                        {\"template\": {\"data\": {\"bar\": [{\"error_x\": {\"color\": \"#2a3f5f\"}, \"error_y\": {\"color\": \"#2a3f5f\"}, \"marker\": {\"line\": {\"color\": \"#E5ECF6\", \"width\": 0.5}}, \"type\": \"bar\"}], \"barpolar\": [{\"marker\": {\"line\": {\"color\": \"#E5ECF6\", \"width\": 0.5}}, \"type\": \"barpolar\"}], \"carpet\": [{\"aaxis\": {\"endlinecolor\": \"#2a3f5f\", \"gridcolor\": \"white\", \"linecolor\": \"white\", \"minorgridcolor\": \"white\", \"startlinecolor\": \"#2a3f5f\"}, \"baxis\": {\"endlinecolor\": \"#2a3f5f\", \"gridcolor\": \"white\", \"linecolor\": \"white\", \"minorgridcolor\": \"white\", \"startlinecolor\": \"#2a3f5f\"}, \"type\": \"carpet\"}], \"choropleth\": [{\"colorbar\": {\"outlinewidth\": 0, \"ticks\": \"\"}, \"type\": \"choropleth\"}], \"contour\": [{\"colorbar\": {\"outlinewidth\": 0, \"ticks\": \"\"}, \"colorscale\": [[0.0, \"#0d0887\"], [0.1111111111111111, \"#46039f\"], [0.2222222222222222, \"#7201a8\"], [0.3333333333333333, \"#9c179e\"], [0.4444444444444444, \"#bd3786\"], [0.5555555555555556, \"#d8576b\"], [0.6666666666666666, \"#ed7953\"], [0.7777777777777778, \"#fb9f3a\"], [0.8888888888888888, \"#fdca26\"], [1.0, \"#f0f921\"]], \"type\": \"contour\"}], \"contourcarpet\": [{\"colorbar\": {\"outlinewidth\": 0, \"ticks\": \"\"}, \"type\": \"contourcarpet\"}], \"heatmap\": [{\"colorbar\": {\"outlinewidth\": 0, \"ticks\": \"\"}, \"colorscale\": [[0.0, \"#0d0887\"], [0.1111111111111111, \"#46039f\"], [0.2222222222222222, \"#7201a8\"], [0.3333333333333333, \"#9c179e\"], [0.4444444444444444, \"#bd3786\"], [0.5555555555555556, \"#d8576b\"], [0.6666666666666666, \"#ed7953\"], [0.7777777777777778, \"#fb9f3a\"], [0.8888888888888888, \"#fdca26\"], [1.0, \"#f0f921\"]], \"type\": \"heatmap\"}], \"heatmapgl\": [{\"colorbar\": {\"outlinewidth\": 0, \"ticks\": \"\"}, \"colorscale\": [[0.0, \"#0d0887\"], [0.1111111111111111, \"#46039f\"], [0.2222222222222222, \"#7201a8\"], [0.3333333333333333, \"#9c179e\"], [0.4444444444444444, \"#bd3786\"], [0.5555555555555556, \"#d8576b\"], [0.6666666666666666, \"#ed7953\"], [0.7777777777777778, \"#fb9f3a\"], [0.8888888888888888, \"#fdca26\"], [1.0, \"#f0f921\"]], \"type\": \"heatmapgl\"}], \"histogram\": [{\"marker\": {\"colorbar\": {\"outlinewidth\": 0, \"ticks\": \"\"}}, \"type\": \"histogram\"}], \"histogram2d\": [{\"colorbar\": {\"outlinewidth\": 0, \"ticks\": \"\"}, \"colorscale\": [[0.0, \"#0d0887\"], [0.1111111111111111, \"#46039f\"], [0.2222222222222222, \"#7201a8\"], [0.3333333333333333, \"#9c179e\"], [0.4444444444444444, \"#bd3786\"], [0.5555555555555556, \"#d8576b\"], [0.6666666666666666, \"#ed7953\"], [0.7777777777777778, \"#fb9f3a\"], [0.8888888888888888, \"#fdca26\"], [1.0, \"#f0f921\"]], \"type\": \"histogram2d\"}], \"histogram2dcontour\": [{\"colorbar\": {\"outlinewidth\": 0, \"ticks\": \"\"}, \"colorscale\": [[0.0, \"#0d0887\"], [0.1111111111111111, \"#46039f\"], [0.2222222222222222, \"#7201a8\"], [0.3333333333333333, \"#9c179e\"], [0.4444444444444444, \"#bd3786\"], [0.5555555555555556, \"#d8576b\"], [0.6666666666666666, \"#ed7953\"], [0.7777777777777778, \"#fb9f3a\"], [0.8888888888888888, \"#fdca26\"], [1.0, \"#f0f921\"]], \"type\": \"histogram2dcontour\"}], \"mesh3d\": [{\"colorbar\": {\"outlinewidth\": 0, \"ticks\": \"\"}, \"type\": \"mesh3d\"}], \"parcoords\": [{\"line\": {\"colorbar\": {\"outlinewidth\": 0, \"ticks\": \"\"}}, \"type\": \"parcoords\"}], \"pie\": [{\"automargin\": true, \"type\": \"pie\"}], \"scatter\": [{\"marker\": {\"colorbar\": {\"outlinewidth\": 0, \"ticks\": \"\"}}, \"type\": \"scatter\"}], \"scatter3d\": [{\"line\": {\"colorbar\": {\"outlinewidth\": 0, \"ticks\": \"\"}}, \"marker\": {\"colorbar\": {\"outlinewidth\": 0, \"ticks\": \"\"}}, \"type\": \"scatter3d\"}], \"scattercarpet\": [{\"marker\": {\"colorbar\": {\"outlinewidth\": 0, \"ticks\": \"\"}}, \"type\": \"scattercarpet\"}], \"scattergeo\": [{\"marker\": {\"colorbar\": {\"outlinewidth\": 0, \"ticks\": \"\"}}, \"type\": \"scattergeo\"}], \"scattergl\": [{\"marker\": {\"colorbar\": {\"outlinewidth\": 0, \"ticks\": \"\"}}, \"type\": \"scattergl\"}], \"scattermapbox\": [{\"marker\": {\"colorbar\": {\"outlinewidth\": 0, \"ticks\": \"\"}}, \"type\": \"scattermapbox\"}], \"scatterpolar\": [{\"marker\": {\"colorbar\": {\"outlinewidth\": 0, \"ticks\": \"\"}}, \"type\": \"scatterpolar\"}], \"scatterpolargl\": [{\"marker\": {\"colorbar\": {\"outlinewidth\": 0, \"ticks\": \"\"}}, \"type\": \"scatterpolargl\"}], \"scatterternary\": [{\"marker\": {\"colorbar\": {\"outlinewidth\": 0, \"ticks\": \"\"}}, \"type\": \"scatterternary\"}], \"surface\": [{\"colorbar\": {\"outlinewidth\": 0, \"ticks\": \"\"}, \"colorscale\": [[0.0, \"#0d0887\"], [0.1111111111111111, \"#46039f\"], [0.2222222222222222, \"#7201a8\"], [0.3333333333333333, \"#9c179e\"], [0.4444444444444444, \"#bd3786\"], [0.5555555555555556, \"#d8576b\"], [0.6666666666666666, \"#ed7953\"], [0.7777777777777778, \"#fb9f3a\"], [0.8888888888888888, \"#fdca26\"], [1.0, \"#f0f921\"]], \"type\": \"surface\"}], \"table\": [{\"cells\": {\"fill\": {\"color\": \"#EBF0F8\"}, \"line\": {\"color\": \"white\"}}, \"header\": {\"fill\": {\"color\": \"#C8D4E3\"}, \"line\": {\"color\": \"white\"}}, \"type\": \"table\"}]}, \"layout\": {\"annotationdefaults\": {\"arrowcolor\": \"#2a3f5f\", \"arrowhead\": 0, \"arrowwidth\": 1}, \"coloraxis\": {\"colorbar\": {\"outlinewidth\": 0, \"ticks\": \"\"}}, \"colorscale\": {\"diverging\": [[0, \"#8e0152\"], [0.1, \"#c51b7d\"], [0.2, \"#de77ae\"], [0.3, \"#f1b6da\"], [0.4, \"#fde0ef\"], [0.5, \"#f7f7f7\"], [0.6, \"#e6f5d0\"], [0.7, \"#b8e186\"], [0.8, \"#7fbc41\"], [0.9, \"#4d9221\"], [1, \"#276419\"]], \"sequential\": [[0.0, \"#0d0887\"], [0.1111111111111111, \"#46039f\"], [0.2222222222222222, \"#7201a8\"], [0.3333333333333333, \"#9c179e\"], [0.4444444444444444, \"#bd3786\"], [0.5555555555555556, \"#d8576b\"], [0.6666666666666666, \"#ed7953\"], [0.7777777777777778, \"#fb9f3a\"], [0.8888888888888888, \"#fdca26\"], [1.0, \"#f0f921\"]], \"sequentialminus\": [[0.0, \"#0d0887\"], [0.1111111111111111, \"#46039f\"], [0.2222222222222222, \"#7201a8\"], [0.3333333333333333, \"#9c179e\"], [0.4444444444444444, \"#bd3786\"], [0.5555555555555556, \"#d8576b\"], [0.6666666666666666, \"#ed7953\"], [0.7777777777777778, \"#fb9f3a\"], [0.8888888888888888, \"#fdca26\"], [1.0, \"#f0f921\"]]}, \"colorway\": [\"#636efa\", \"#EF553B\", \"#00cc96\", \"#ab63fa\", \"#FFA15A\", \"#19d3f3\", \"#FF6692\", \"#B6E880\", \"#FF97FF\", \"#FECB52\"], \"font\": {\"color\": \"#2a3f5f\"}, \"geo\": {\"bgcolor\": \"white\", \"lakecolor\": \"white\", \"landcolor\": \"#E5ECF6\", \"showlakes\": true, \"showland\": true, \"subunitcolor\": \"white\"}, \"hoverlabel\": {\"align\": \"left\"}, \"hovermode\": \"closest\", \"mapbox\": {\"style\": \"light\"}, \"paper_bgcolor\": \"white\", \"plot_bgcolor\": \"#E5ECF6\", \"polar\": {\"angularaxis\": {\"gridcolor\": \"white\", \"linecolor\": \"white\", \"ticks\": \"\"}, \"bgcolor\": \"#E5ECF6\", \"radialaxis\": {\"gridcolor\": \"white\", \"linecolor\": \"white\", \"ticks\": \"\"}}, \"scene\": {\"xaxis\": {\"backgroundcolor\": \"#E5ECF6\", \"gridcolor\": \"white\", \"gridwidth\": 2, \"linecolor\": \"white\", \"showbackground\": true, \"ticks\": \"\", \"zerolinecolor\": \"white\"}, \"yaxis\": {\"backgroundcolor\": \"#E5ECF6\", \"gridcolor\": \"white\", \"gridwidth\": 2, \"linecolor\": \"white\", \"showbackground\": true, \"ticks\": \"\", \"zerolinecolor\": \"white\"}, \"zaxis\": {\"backgroundcolor\": \"#E5ECF6\", \"gridcolor\": \"white\", \"gridwidth\": 2, \"linecolor\": \"white\", \"showbackground\": true, \"ticks\": \"\", \"zerolinecolor\": \"white\"}}, \"shapedefaults\": {\"line\": {\"color\": \"#2a3f5f\"}}, \"ternary\": {\"aaxis\": {\"gridcolor\": \"white\", \"linecolor\": \"white\", \"ticks\": \"\"}, \"baxis\": {\"gridcolor\": \"white\", \"linecolor\": \"white\", \"ticks\": \"\"}, \"bgcolor\": \"#E5ECF6\", \"caxis\": {\"gridcolor\": \"white\", \"linecolor\": \"white\", \"ticks\": \"\"}}, \"title\": {\"x\": 0.05}, \"xaxis\": {\"automargin\": true, \"gridcolor\": \"white\", \"linecolor\": \"white\", \"ticks\": \"\", \"title\": {\"standoff\": 15}, \"zerolinecolor\": \"white\", \"zerolinewidth\": 2}, \"yaxis\": {\"automargin\": true, \"gridcolor\": \"white\", \"linecolor\": \"white\", \"ticks\": \"\", \"title\": {\"standoff\": 15}, \"zerolinecolor\": \"white\", \"zerolinewidth\": 2}}}, \"title\": {\"text\": \"Nifty\"}, \"xaxis\": {\"title\": {\"text\": \"Month wise\"}}, \"yaxis\": {\"title\": {\"text\": \"Nifty Index\"}}},\n",
       "                        {\"responsive\": true}\n",
       "                    ).then(function(){\n",
       "                            \n",
       "var gd = document.getElementById('12d5b57f-abf6-40e1-87e5-9f4dfa98c84b');\n",
       "var x = new MutationObserver(function (mutations, observer) {{\n",
       "        var display = window.getComputedStyle(gd).display;\n",
       "        if (!display || display === 'none') {{\n",
       "            console.log([gd, 'removed!']);\n",
       "            Plotly.purge(gd);\n",
       "            observer.disconnect();\n",
       "        }}\n",
       "}});\n",
       "\n",
       "// Listen for the removal of the full notebook cells\n",
       "var notebookContainer = gd.closest('#notebook-container');\n",
       "if (notebookContainer) {{\n",
       "    x.observe(notebookContainer, {childList: true});\n",
       "}}\n",
       "\n",
       "// Listen for the clearing of the current output cell\n",
       "var outputEl = gd.closest('.output');\n",
       "if (outputEl) {{\n",
       "    x.observe(outputEl, {childList: true});\n",
       "}}\n",
       "\n",
       "                        })\n",
       "                };\n",
       "                });\n",
       "            </script>\n",
       "        </div>"
      ]
     },
     "metadata": {},
     "output_type": "display_data"
    }
   ],
   "source": [
    "figure.update_layout(title = 'Nifty', yaxis_title = 'Nifty Index', xaxis_title = 'Month wise')"
   ]
  },
  {
   "cell_type": "code",
   "execution_count": 127,
   "metadata": {},
   "outputs": [
    {
     "data": {
      "application/vnd.plotly.v1+json": {
       "config": {
        "plotlyServerURL": "https://plot.ly"
       },
       "data": [
        {
         "close": [
          10435.55,
          10442.2,
          10443.2,
          10504.8,
          10558.85,
          10623.6,
          10637,
          10632.2,
          10651.2,
          10681.25,
          10741.55,
          10700.45,
          10788.55,
          10817,
          10894.7,
          10966.2,
          11083.7,
          11086,
          11069.65,
          11130.4,
          11049.65,
          11027.7,
          11016.9,
          10760.6,
          10666.55,
          10498.25,
          10476.7,
          10576.85,
          10454.95,
          10539.75,
          10500.9,
          10545.5,
          10452.3,
          10378.4,
          10360.4,
          10397.45,
          10382.7,
          10491.05,
          10582.6,
          10554.3,
          10492.85,
          10458.35,
          10358.85,
          10249.25,
          10154.2,
          10242.65,
          10226.85,
          10421.4,
          10426.85,
          10410.9,
          10360.15,
          10195.15,
          10094.25,
          10124.35,
          10155.25,
          10114.75,
          9998.05,
          10130.65,
          10184.15,
          10113.7,
          10211.8,
          10245,
          10128.4,
          10325.15,
          10331.6,
          10379.35,
          10402.25,
          10417.15,
          10458.65,
          10480.6,
          10528.35,
          10548.7,
          10526.2,
          10565.3,
          10564.05,
          10584.7,
          10614.35,
          10570.55,
          10617.8,
          10692.3,
          10739.35,
          10718.05,
          10679.65,
          10618.25,
          10715.5,
          10717.8,
          10741.7,
          10716.55,
          10806.5,
          10806.6,
          10801.85,
          10741.1,
          10682.7,
          10596.4,
          10516.7,
          10536.7,
          10430.35,
          10513.85,
          10605.15,
          10688.65,
          10633.3,
          10614.35,
          10736.15,
          10696.2,
          10628.5,
          10593.15,
          10684.65,
          10768.35,
          10767.65,
          10786.95,
          10842.85,
          10856.7,
          10808.05,
          10817.7,
          10799.85,
          10710.45,
          10772.05,
          10741.1,
          10821.85,
          10762.45,
          10769.15,
          10671.4,
          10589.1,
          10714.3,
          10657.3,
          10699.9,
          10769.9,
          10749.75,
          10772.65,
          10852.9,
          10947.25,
          10948.3,
          11023.2,
          11018.9,
          10936.85,
          11008.05,
          10980.45,
          10957.1,
          11010.2,
          11084.75,
          11134.3,
          11132,
          11167.3,
          11278.35,
          11319.55,
          11356.5,
          11346.2,
          11244.7,
          11360.8,
          11387.1,
          11389.45,
          11450,
          11470.7,
          11429.5,
          11355.75,
          11435.1,
          11385.05,
          11470.75,
          11551.75,
          11570.9,
          11582.75,
          11557.1,
          11691.95,
          11738.5,
          11691.9,
          11676.8,
          11680.5,
          11582.35,
          11520.3,
          11476.95,
          11536.9,
          11589.1,
          11438.1,
          11287.5,
          11369.9,
          11515.2,
          11377.75,
          11278.9,
          11234.35,
          11143.1,
          10967.4,
          11067.45,
          11053.8,
          10977.55,
          10930.45,
          11008.3,
          10858.25,
          10599.25,
          10316.45,
          10348.05,
          10301.05,
          10460.1,
          10234.65,
          10472.5,
          10512.5,
          10584.75,
          10453.05,
          10303.55,
          10245.25,
          10146.8,
          10224.75,
          10124.9,
          10030,
          10250.85,
          10198.4,
          10386.6,
          10380.45,
          10553,
          10524,
          10530,
          10598.4,
          10585.2,
          10482.2,
          10582.5,
          10576.3,
          10616.7,
          10682.2,
          10763.4,
          10656.2,
          10600.05,
          10526.75,
          10628.6,
          10685.6,
          10728.85,
          10858.7,
          10876.75,
          10883.75,
          10869.5,
          10782.9,
          10601.15,
          10693.7,
          10488.45,
          10549.15,
          10737.6,
          10791.55,
          10805.45,
          10888.35,
          10908.7,
          10967.3,
          10951.7,
          10754,
          10663.5,
          10729.85,
          10779.8,
          10859.9,
          10862.55
         ],
         "decreasing": {
          "line": {
           "color": "red"
          }
         },
         "high": [
          10537.85,
          10495.2,
          10503.6,
          10513,
          10566.1,
          10631.2,
          10659.15,
          10655.5,
          10664.6,
          10690.4,
          10782.65,
          10762.35,
          10803,
          10887.5,
          10906.85,
          10975.1,
          11092.9,
          11110.1,
          11095.6,
          11171.55,
          11121.1,
          11058.5,
          11117.35,
          10954.95,
          10702.75,
          10594.15,
          10614,
          10637.8,
          10480.2,
          10555.5,
          10590.55,
          10618.1,
          10612.9,
          10489.35,
          10429.35,
          10426.1,
          10397.55,
          10499.1,
          10592.95,
          10631.65,
          10535.5,
          10525.5,
          10428.7,
          10441.35,
          10243.35,
          10270.35,
          10296.7,
          10433.65,
          10478.6,
          10420.35,
          10420,
          10346.3,
          10224.55,
          10155.65,
          10227.3,
          10207.85,
          10027.7,
          10143.5,
          10207.9,
          10158.35,
          10220.1,
          10255.35,
          10279.85,
          10331.8,
          10350.45,
          10397.7,
          10424.85,
          10428.15,
          10469.9,
          10519.9,
          10540.15,
          10560.45,
          10594.2,
          10572.2,
          10582.35,
          10638.35,
          10636.8,
          10612.6,
          10628.4,
          10719.8,
          10759,
          10784.65,
          10720.6,
          10700.45,
          10725.65,
          10758.55,
          10766.25,
          10785.55,
          10812.05,
          10834.85,
          10929.2,
          10790.45,
          10777.25,
          10674.95,
          10621.7,
          10558.6,
          10533.55,
          10535.15,
          10628.05,
          10709.8,
          10717.25,
          10648.7,
          10763.8,
          10764.75,
          10770.3,
          10633.15,
          10698.35,
          10818,
          10779.45,
          10850.55,
          10856.55,
          10893.25,
          10833.7,
          10834,
          10830.2,
          10789.45,
          10781.8,
          10809.6,
          10837,
          10831.05,
          10805.25,
          10785.5,
          10674.2,
          10723.05,
          10736.15,
          10713.3,
          10777.15,
          10786.05,
          10816.35,
          10860.35,
          10956.9,
          10976.65,
          11078.3,
          11071.35,
          11019.5,
          11018.5,
          11076.2,
          11006.5,
          11030.25,
          11093.4,
          11143.4,
          11157.15,
          11185.85,
          11283.4,
          11328.1,
          11366,
          11390.55,
          11328.9,
          11368,
          11427.65,
          11428.95,
          11459.95,
          11495.2,
          11478.75,
          11406.3,
          11452.45,
          11449.85,
          11486.45,
          11565.3,
          11581.75,
          11620.7,
          11604.6,
          11700.95,
          11760.2,
          11753.2,
          11698.8,
          11727.65,
          11751.8,
          11602.55,
          11542.65,
          11562.25,
          11603,
          11573,
          11479.4,
          11380.75,
          11523.25,
          11464.95,
          11411.45,
          11332.05,
          11346.8,
          11170.15,
          11080.6,
          11145.55,
          11089.45,
          11034.1,
          11035.65,
          10989.05,
          10754.7,
          10540.65,
          10398.35,
          10397.6,
          10482.35,
          10335.95,
          10492.45,
          10526.3,
          10604.9,
          10710.15,
          10380.1,
          10408.55,
          10222.1,
          10290.65,
          10166.6,
          10128.85,
          10275.3,
          10285.1,
          10396,
          10441.9,
          10606.95,
          10558.8,
          10600.25,
          10616.45,
          10619.55,
          10645.5,
          10596.25,
          10651.6,
          10646.5,
          10695.15,
          10774.7,
          10740.85,
          10671.3,
          10646.25,
          10637.8,
          10695.15,
          10757.8,
          10883.05,
          10922.45,
          10941.2,
          10890.95,
          10821.05,
          10722.65,
          10704.55,
          10558.85,
          10567.15,
          10752.2,
          10838.6,
          10815.75,
          10900.35,
          10915.4,
          10985.15,
          10962.55,
          10963.65,
          10782.3,
          10747.5,
          10834.2,
          10893.6,
          10923.55
         ],
         "increasing": {
          "line": {
           "color": "blue"
          }
         },
         "low": [
          10423.1,
          10404.65,
          10429.55,
          10441.45,
          10520.1,
          10588.55,
          10603.6,
          10592.7,
          10612.35,
          10597.1,
          10713.8,
          10687.85,
          10666.75,
          10782.4,
          10793.9,
          10881.4,
          10994.55,
          11046.15,
          11009.2,
          11075.95,
          11033.9,
          10979.3,
          10878.8,
          10736.1,
          10586.8,
          10276.3,
          10446.4,
          10479.55,
          10398.2,
          10485.4,
          10456.65,
          10511.05,
          10434.05,
          10302.75,
          10347.65,
          10349.6,
          10340.65,
          10396.65,
          10520.2,
          10537.25,
          10461.55,
          10447.15,
          10323.9,
          10215.9,
          10141.55,
          10146.4,
          10211.9,
          10295.45,
          10377.85,
          10336.3,
          10346.2,
          10180.25,
          10075.3,
          10049.1,
          10132.95,
          10105.4,
          9951.9,
          9958.55,
          10139.65,
          10096.9,
          10127.75,
          10171.05,
          10111.3,
          10227.45,
          10290.85,
          10328.5,
          10381.5,
          10355.6,
          10395.25,
          10451.45,
          10396.35,
          10495.65,
          10509.7,
          10546.2,
          10527.45,
          10514.95,
          10569,
          10536.45,
          10559.65,
          10647.55,
          10704.6,
          10689.8,
          10647.45,
          10601.6,
          10635.65,
          10689.4,
          10689.85,
          10705,
          10724.45,
          10774.75,
          10781.4,
          10699.7,
          10664.5,
          10589.1,
          10505.8,
          10490.55,
          10417.8,
          10419.8,
          10524,
          10640.55,
          10616.1,
          10558.45,
          10620.4,
          10681.5,
          10618.35,
          10550.9,
          10587.5,
          10722.6,
          10709.05,
          10777.05,
          10789.4,
          10842.65,
          10773.55,
          10755.4,
          10787.35,
          10701.2,
          10724.05,
          10725.9,
          10710.45,
          10753.05,
          10732.55,
          10652.4,
          10557.7,
          10612.35,
          10604.65,
          10630.25,
          10677.75,
          10726.25,
          10735.05,
          10807.15,
          10876.65,
          10923,
          10999.65,
          10999.75,
          10926.25,
          10925.6,
          10956.3,
          10935.45,
          10946.2,
          11010.95,
          11092.5,
          11113.25,
          11125.7,
          11210.25,
          11261.45,
          11267.75,
          11313.55,
          11234.95,
          11294.55,
          11370.6,
          11359.7,
          11379.3,
          11454.1,
          11419.65,
          11340.3,
          11370.8,
          11366.25,
          11431.8,
          11499.65,
          11539.6,
          11546.7,
          11532,
          11595.6,
          11710.5,
          11678.85,
          11639.7,
          11640.1,
          11567.4,
          11496.85,
          11393.85,
          11436.05,
          11484.4,
          11427.3,
          11274,
          11250.2,
          11430.55,
          11366.9,
          11268.95,
          11210.9,
          10866.45,
          10943.6,
          10882.85,
          10993.05,
          10953.35,
          10850.3,
          10821.55,
          10843.75,
          10547.25,
          10261.9,
          10198.4,
          10279.35,
          10318.25,
          10138.6,
          10322.15,
          10410.15,
          10525.3,
          10436.45,
          10249.6,
          10224,
          10102.35,
          10126.7,
          10079.3,
          10004.55,
          10020.35,
          10175.35,
          10105.1,
          10341.9,
          10457.7,
          10477,
          10491.45,
          10582.3,
          10544.85,
          10464.05,
          10440.55,
          10532.7,
          10557.5,
          10631.15,
          10688.8,
          10640.85,
          10562.35,
          10512,
          10489.75,
          10596.35,
          10699.85,
          10782.35,
          10835.1,
          10845.35,
          10833.35,
          10747.95,
          10588.25,
          10599.35,
          10474.95,
          10333.85,
          10560.8,
          10749.5,
          10752.1,
          10844.85,
          10819.1,
          10928,
          10880.05,
          10738.65,
          10649.25,
          10534.55,
          10764.45,
          10817.15,
          10853.2
         ],
         "open": [
          10531.7,
          10477.55,
          10482.65,
          10469.4,
          10534.25,
          10591.7,
          10645.1,
          10652.05,
          10637.05,
          10682.55,
          10718.5,
          10761.5,
          10702.45,
          10873.4,
          10829.2,
          10883.2,
          10997.4,
          11069.35,
          11095.6,
          11079.35,
          11120.85,
          11018.8,
          11044.55,
          10938.2,
          10604.3,
          10295.15,
          10607.2,
          10518.5,
          10416.5,
          10518.2,
          10585.75,
          10537.9,
          10596.2,
          10488.9,
          10391,
          10426,
          10354.35,
          10408.1,
          10526.55,
          10615.2,
          10488.95,
          10479.95,
          10428.3,
          10420.5,
          10232.95,
          10216.25,
          10271.3,
          10301.6,
          10389.5,
          10393.05,
          10405.45,
          10345.15,
          10215.35,
          10051.55,
          10181.95,
          10167.5,
          9968.8,
          9989.15,
          10188,
          10143.6,
          10151.65,
          10186.85,
          10274.6,
          10228.45,
          10322.75,
          10333.7,
          10412.9,
          10428.15,
          10410.65,
          10495.3,
          10398.3,
          10557.3,
          10578.9,
          10563.65,
          10560.35,
          10592.8,
          10578.1,
          10612.4,
          10586.5,
          10651.65,
          10705.75,
          10783.85,
          10720.15,
          10700.45,
          10653.15,
          10757.9,
          10693.35,
          10779.65,
          10741.95,
          10815.15,
          10812.6,
          10751.95,
          10775.6,
          10671.85,
          10616.7,
          10518.45,
          10521.1,
          10464.85,
          10533.05,
          10648.35,
          10689.4,
          10579,
          10670.1,
          10738.45,
          10765.95,
          10630.7,
          10603.45,
          10722.6,
          10736.4,
          10781.85,
          10816.15,
          10887.5,
          10832.9,
          10808.65,
          10830.2,
          10789.45,
          10734.65,
          10808.45,
          10742.7,
          10822.9,
          10742.7,
          10785.5,
          10660.8,
          10612.85,
          10732.35,
          10668.6,
          10715,
          10786.05,
          10744.15,
          10838.3,
          10902.75,
          10956.4,
          11006.95,
          11056.9,
          11018.95,
          10939.65,
          11060.2,
          10999.5,
          10963.5,
          11019.85,
          11109,
          11148.4,
          11132.95,
          11232.75,
          11296.65,
          11311.05,
          11359.8,
          11328.9,
          11297.8,
          11401.5,
          11423.15,
          11412.5,
          11493.25,
          11474.95,
          11369.6,
          11381.7,
          11397.15,
          11437.15,
          11502.1,
          11576.2,
          11620.7,
          11566.6,
          11605.85,
          11731.95,
          11744.95,
          11694.75,
          11675.85,
          11751.8,
          11598.75,
          11514.85,
          11514.15,
          11558.25,
          11570.25,
          11476.85,
          11340.1,
          11443.5,
          11464.95,
          11381.55,
          11326.65,
          11271.3,
          11164.4,
          10969.95,
          11145.55,
          11079.8,
          11008.1,
          10930.9,
          10982.7,
          10754.7,
          10514.1,
          10310.15,
          10390.3,
          10331.85,
          10169.8,
          10331.55,
          10524.2,
          10550.15,
          10688.7,
          10339.7,
          10405.85,
          10152.6,
          10278.15,
          10135.05,
          10122.35,
          10078.1,
          10239.4,
          10209.55,
          10441.7,
          10462.3,
          10558.75,
          10552,
          10614.45,
          10614.7,
          10607.8,
          10451.9,
          10634.9,
          10580.6,
          10644,
          10731.25,
          10740.1,
          10670.95,
          10612.65,
          10568.3,
          10621.45,
          10708.75,
          10808.7,
          10892.1,
          10930.7,
          10877.1,
          10820.45,
          10718.15,
          10644.8,
          10508.7,
          10350.05,
          10591,
          10810.75,
          10784.5,
          10853.2,
          10850.9,
          10930.55,
          10885.2,
          10944.25,
          10780.9,
          10635.45,
          10817.9,
          10820.95,
          10913.2
         ],
         "type": "candlestick",
         "x": [
          "2018-01-01T00:00:00",
          "2018-01-02T00:00:00",
          "2018-01-03T00:00:00",
          "2018-01-04T00:00:00",
          "2018-01-05T00:00:00",
          "2018-01-08T00:00:00",
          "2018-01-09T00:00:00",
          "2018-01-10T00:00:00",
          "2018-01-11T00:00:00",
          "2018-01-12T00:00:00",
          "2018-01-15T00:00:00",
          "2018-01-16T00:00:00",
          "2018-01-17T00:00:00",
          "2018-01-18T00:00:00",
          "2018-01-19T00:00:00",
          "2018-01-22T00:00:00",
          "2018-01-23T00:00:00",
          "2018-01-24T00:00:00",
          "2018-01-25T00:00:00",
          "2018-01-29T00:00:00",
          "2018-01-30T00:00:00",
          "2018-01-31T00:00:00",
          "2018-02-01T00:00:00",
          "2018-02-02T00:00:00",
          "2018-02-05T00:00:00",
          "2018-02-06T00:00:00",
          "2018-02-07T00:00:00",
          "2018-02-08T00:00:00",
          "2018-02-09T00:00:00",
          "2018-02-12T00:00:00",
          "2018-02-14T00:00:00",
          "2018-02-15T00:00:00",
          "2018-02-16T00:00:00",
          "2018-02-19T00:00:00",
          "2018-02-20T00:00:00",
          "2018-02-21T00:00:00",
          "2018-02-22T00:00:00",
          "2018-02-23T00:00:00",
          "2018-02-26T00:00:00",
          "2018-02-27T00:00:00",
          "2018-02-28T00:00:00",
          "2018-03-01T00:00:00",
          "2018-03-05T00:00:00",
          "2018-03-06T00:00:00",
          "2018-03-07T00:00:00",
          "2018-03-08T00:00:00",
          "2018-03-09T00:00:00",
          "2018-03-12T00:00:00",
          "2018-03-13T00:00:00",
          "2018-03-14T00:00:00",
          "2018-03-15T00:00:00",
          "2018-03-16T00:00:00",
          "2018-03-19T00:00:00",
          "2018-03-20T00:00:00",
          "2018-03-21T00:00:00",
          "2018-03-22T00:00:00",
          "2018-03-23T00:00:00",
          "2018-03-26T00:00:00",
          "2018-03-27T00:00:00",
          "2018-03-28T00:00:00",
          "2018-04-02T00:00:00",
          "2018-04-03T00:00:00",
          "2018-04-04T00:00:00",
          "2018-04-05T00:00:00",
          "2018-04-06T00:00:00",
          "2018-04-09T00:00:00",
          "2018-04-10T00:00:00",
          "2018-04-11T00:00:00",
          "2018-04-12T00:00:00",
          "2018-04-13T00:00:00",
          "2018-04-16T00:00:00",
          "2018-04-17T00:00:00",
          "2018-04-18T00:00:00",
          "2018-04-19T00:00:00",
          "2018-04-20T00:00:00",
          "2018-04-23T00:00:00",
          "2018-04-24T00:00:00",
          "2018-04-25T00:00:00",
          "2018-04-26T00:00:00",
          "2018-04-27T00:00:00",
          "2018-04-30T00:00:00",
          "2018-05-02T00:00:00",
          "2018-05-03T00:00:00",
          "2018-05-04T00:00:00",
          "2018-05-07T00:00:00",
          "2018-05-08T00:00:00",
          "2018-05-09T00:00:00",
          "2018-05-10T00:00:00",
          "2018-05-11T00:00:00",
          "2018-05-14T00:00:00",
          "2018-05-15T00:00:00",
          "2018-05-16T00:00:00",
          "2018-05-17T00:00:00",
          "2018-05-18T00:00:00",
          "2018-05-21T00:00:00",
          "2018-05-22T00:00:00",
          "2018-05-23T00:00:00",
          "2018-05-24T00:00:00",
          "2018-05-25T00:00:00",
          "2018-05-28T00:00:00",
          "2018-05-29T00:00:00",
          "2018-05-30T00:00:00",
          "2018-05-31T00:00:00",
          "2018-06-01T00:00:00",
          "2018-06-04T00:00:00",
          "2018-06-05T00:00:00",
          "2018-06-06T00:00:00",
          "2018-06-07T00:00:00",
          "2018-06-08T00:00:00",
          "2018-06-11T00:00:00",
          "2018-06-12T00:00:00",
          "2018-06-13T00:00:00",
          "2018-06-14T00:00:00",
          "2018-06-15T00:00:00",
          "2018-06-18T00:00:00",
          "2018-06-19T00:00:00",
          "2018-06-20T00:00:00",
          "2018-06-21T00:00:00",
          "2018-06-22T00:00:00",
          "2018-06-25T00:00:00",
          "2018-06-26T00:00:00",
          "2018-06-27T00:00:00",
          "2018-06-28T00:00:00",
          "2018-06-29T00:00:00",
          "2018-07-02T00:00:00",
          "2018-07-03T00:00:00",
          "2018-07-04T00:00:00",
          "2018-07-05T00:00:00",
          "2018-07-06T00:00:00",
          "2018-07-09T00:00:00",
          "2018-07-10T00:00:00",
          "2018-07-11T00:00:00",
          "2018-07-12T00:00:00",
          "2018-07-13T00:00:00",
          "2018-07-16T00:00:00",
          "2018-07-17T00:00:00",
          "2018-07-18T00:00:00",
          "2018-07-19T00:00:00",
          "2018-07-20T00:00:00",
          "2018-07-23T00:00:00",
          "2018-07-24T00:00:00",
          "2018-07-25T00:00:00",
          "2018-07-26T00:00:00",
          "2018-07-27T00:00:00",
          "2018-07-30T00:00:00",
          "2018-07-31T00:00:00",
          "2018-08-01T00:00:00",
          "2018-08-02T00:00:00",
          "2018-08-03T00:00:00",
          "2018-08-06T00:00:00",
          "2018-08-07T00:00:00",
          "2018-08-08T00:00:00",
          "2018-08-09T00:00:00",
          "2018-08-10T00:00:00",
          "2018-08-13T00:00:00",
          "2018-08-14T00:00:00",
          "2018-08-16T00:00:00",
          "2018-08-17T00:00:00",
          "2018-08-20T00:00:00",
          "2018-08-21T00:00:00",
          "2018-08-23T00:00:00",
          "2018-08-24T00:00:00",
          "2018-08-27T00:00:00",
          "2018-08-28T00:00:00",
          "2018-08-29T00:00:00",
          "2018-08-30T00:00:00",
          "2018-08-31T00:00:00",
          "2018-09-03T00:00:00",
          "2018-09-04T00:00:00",
          "2018-09-05T00:00:00",
          "2018-09-06T00:00:00",
          "2018-09-07T00:00:00",
          "2018-09-10T00:00:00",
          "2018-09-11T00:00:00",
          "2018-09-12T00:00:00",
          "2018-09-14T00:00:00",
          "2018-09-17T00:00:00",
          "2018-09-18T00:00:00",
          "2018-09-19T00:00:00",
          "2018-09-21T00:00:00",
          "2018-09-24T00:00:00",
          "2018-09-25T00:00:00",
          "2018-09-26T00:00:00",
          "2018-09-27T00:00:00",
          "2018-09-28T00:00:00",
          "2018-10-01T00:00:00",
          "2018-10-03T00:00:00",
          "2018-10-04T00:00:00",
          "2018-10-05T00:00:00",
          "2018-10-08T00:00:00",
          "2018-10-09T00:00:00",
          "2018-10-10T00:00:00",
          "2018-10-11T00:00:00",
          "2018-10-12T00:00:00",
          "2018-10-15T00:00:00",
          "2018-10-16T00:00:00",
          "2018-10-17T00:00:00",
          "2018-10-19T00:00:00",
          "2018-10-22T00:00:00",
          "2018-10-23T00:00:00",
          "2018-10-24T00:00:00",
          "2018-10-25T00:00:00",
          "2018-10-26T00:00:00",
          "2018-10-29T00:00:00",
          "2018-10-30T00:00:00",
          "2018-10-31T00:00:00",
          "2018-11-01T00:00:00",
          "2018-11-02T00:00:00",
          "2018-11-05T00:00:00",
          "2018-11-06T00:00:00",
          "2018-11-07T00:00:00",
          "2018-11-09T00:00:00",
          "2018-11-12T00:00:00",
          "2018-11-13T00:00:00",
          "2018-11-14T00:00:00",
          "2018-11-15T00:00:00",
          "2018-11-16T00:00:00",
          "2018-11-19T00:00:00",
          "2018-11-20T00:00:00",
          "2018-11-21T00:00:00",
          "2018-11-22T00:00:00",
          "2018-11-26T00:00:00",
          "2018-11-27T00:00:00",
          "2018-11-28T00:00:00",
          "2018-11-29T00:00:00",
          "2018-11-30T00:00:00",
          "2018-12-03T00:00:00",
          "2018-12-04T00:00:00",
          "2018-12-05T00:00:00",
          "2018-12-06T00:00:00",
          "2018-12-07T00:00:00",
          "2018-12-10T00:00:00",
          "2018-12-11T00:00:00",
          "2018-12-12T00:00:00",
          "2018-12-13T00:00:00",
          "2018-12-14T00:00:00",
          "2018-12-17T00:00:00",
          "2018-12-18T00:00:00",
          "2018-12-19T00:00:00",
          "2018-12-20T00:00:00",
          "2018-12-21T00:00:00",
          "2018-12-24T00:00:00",
          "2018-12-26T00:00:00",
          "2018-12-27T00:00:00",
          "2018-12-28T00:00:00",
          "2018-12-31T00:00:00"
         ]
        }
       ],
       "layout": {
        "template": {
         "data": {
          "bar": [
           {
            "error_x": {
             "color": "#2a3f5f"
            },
            "error_y": {
             "color": "#2a3f5f"
            },
            "marker": {
             "line": {
              "color": "#E5ECF6",
              "width": 0.5
             }
            },
            "type": "bar"
           }
          ],
          "barpolar": [
           {
            "marker": {
             "line": {
              "color": "#E5ECF6",
              "width": 0.5
             }
            },
            "type": "barpolar"
           }
          ],
          "carpet": [
           {
            "aaxis": {
             "endlinecolor": "#2a3f5f",
             "gridcolor": "white",
             "linecolor": "white",
             "minorgridcolor": "white",
             "startlinecolor": "#2a3f5f"
            },
            "baxis": {
             "endlinecolor": "#2a3f5f",
             "gridcolor": "white",
             "linecolor": "white",
             "minorgridcolor": "white",
             "startlinecolor": "#2a3f5f"
            },
            "type": "carpet"
           }
          ],
          "choropleth": [
           {
            "colorbar": {
             "outlinewidth": 0,
             "ticks": ""
            },
            "type": "choropleth"
           }
          ],
          "contour": [
           {
            "colorbar": {
             "outlinewidth": 0,
             "ticks": ""
            },
            "colorscale": [
             [
              0,
              "#0d0887"
             ],
             [
              0.1111111111111111,
              "#46039f"
             ],
             [
              0.2222222222222222,
              "#7201a8"
             ],
             [
              0.3333333333333333,
              "#9c179e"
             ],
             [
              0.4444444444444444,
              "#bd3786"
             ],
             [
              0.5555555555555556,
              "#d8576b"
             ],
             [
              0.6666666666666666,
              "#ed7953"
             ],
             [
              0.7777777777777778,
              "#fb9f3a"
             ],
             [
              0.8888888888888888,
              "#fdca26"
             ],
             [
              1,
              "#f0f921"
             ]
            ],
            "type": "contour"
           }
          ],
          "contourcarpet": [
           {
            "colorbar": {
             "outlinewidth": 0,
             "ticks": ""
            },
            "type": "contourcarpet"
           }
          ],
          "heatmap": [
           {
            "colorbar": {
             "outlinewidth": 0,
             "ticks": ""
            },
            "colorscale": [
             [
              0,
              "#0d0887"
             ],
             [
              0.1111111111111111,
              "#46039f"
             ],
             [
              0.2222222222222222,
              "#7201a8"
             ],
             [
              0.3333333333333333,
              "#9c179e"
             ],
             [
              0.4444444444444444,
              "#bd3786"
             ],
             [
              0.5555555555555556,
              "#d8576b"
             ],
             [
              0.6666666666666666,
              "#ed7953"
             ],
             [
              0.7777777777777778,
              "#fb9f3a"
             ],
             [
              0.8888888888888888,
              "#fdca26"
             ],
             [
              1,
              "#f0f921"
             ]
            ],
            "type": "heatmap"
           }
          ],
          "heatmapgl": [
           {
            "colorbar": {
             "outlinewidth": 0,
             "ticks": ""
            },
            "colorscale": [
             [
              0,
              "#0d0887"
             ],
             [
              0.1111111111111111,
              "#46039f"
             ],
             [
              0.2222222222222222,
              "#7201a8"
             ],
             [
              0.3333333333333333,
              "#9c179e"
             ],
             [
              0.4444444444444444,
              "#bd3786"
             ],
             [
              0.5555555555555556,
              "#d8576b"
             ],
             [
              0.6666666666666666,
              "#ed7953"
             ],
             [
              0.7777777777777778,
              "#fb9f3a"
             ],
             [
              0.8888888888888888,
              "#fdca26"
             ],
             [
              1,
              "#f0f921"
             ]
            ],
            "type": "heatmapgl"
           }
          ],
          "histogram": [
           {
            "marker": {
             "colorbar": {
              "outlinewidth": 0,
              "ticks": ""
             }
            },
            "type": "histogram"
           }
          ],
          "histogram2d": [
           {
            "colorbar": {
             "outlinewidth": 0,
             "ticks": ""
            },
            "colorscale": [
             [
              0,
              "#0d0887"
             ],
             [
              0.1111111111111111,
              "#46039f"
             ],
             [
              0.2222222222222222,
              "#7201a8"
             ],
             [
              0.3333333333333333,
              "#9c179e"
             ],
             [
              0.4444444444444444,
              "#bd3786"
             ],
             [
              0.5555555555555556,
              "#d8576b"
             ],
             [
              0.6666666666666666,
              "#ed7953"
             ],
             [
              0.7777777777777778,
              "#fb9f3a"
             ],
             [
              0.8888888888888888,
              "#fdca26"
             ],
             [
              1,
              "#f0f921"
             ]
            ],
            "type": "histogram2d"
           }
          ],
          "histogram2dcontour": [
           {
            "colorbar": {
             "outlinewidth": 0,
             "ticks": ""
            },
            "colorscale": [
             [
              0,
              "#0d0887"
             ],
             [
              0.1111111111111111,
              "#46039f"
             ],
             [
              0.2222222222222222,
              "#7201a8"
             ],
             [
              0.3333333333333333,
              "#9c179e"
             ],
             [
              0.4444444444444444,
              "#bd3786"
             ],
             [
              0.5555555555555556,
              "#d8576b"
             ],
             [
              0.6666666666666666,
              "#ed7953"
             ],
             [
              0.7777777777777778,
              "#fb9f3a"
             ],
             [
              0.8888888888888888,
              "#fdca26"
             ],
             [
              1,
              "#f0f921"
             ]
            ],
            "type": "histogram2dcontour"
           }
          ],
          "mesh3d": [
           {
            "colorbar": {
             "outlinewidth": 0,
             "ticks": ""
            },
            "type": "mesh3d"
           }
          ],
          "parcoords": [
           {
            "line": {
             "colorbar": {
              "outlinewidth": 0,
              "ticks": ""
             }
            },
            "type": "parcoords"
           }
          ],
          "pie": [
           {
            "automargin": true,
            "type": "pie"
           }
          ],
          "scatter": [
           {
            "marker": {
             "colorbar": {
              "outlinewidth": 0,
              "ticks": ""
             }
            },
            "type": "scatter"
           }
          ],
          "scatter3d": [
           {
            "line": {
             "colorbar": {
              "outlinewidth": 0,
              "ticks": ""
             }
            },
            "marker": {
             "colorbar": {
              "outlinewidth": 0,
              "ticks": ""
             }
            },
            "type": "scatter3d"
           }
          ],
          "scattercarpet": [
           {
            "marker": {
             "colorbar": {
              "outlinewidth": 0,
              "ticks": ""
             }
            },
            "type": "scattercarpet"
           }
          ],
          "scattergeo": [
           {
            "marker": {
             "colorbar": {
              "outlinewidth": 0,
              "ticks": ""
             }
            },
            "type": "scattergeo"
           }
          ],
          "scattergl": [
           {
            "marker": {
             "colorbar": {
              "outlinewidth": 0,
              "ticks": ""
             }
            },
            "type": "scattergl"
           }
          ],
          "scattermapbox": [
           {
            "marker": {
             "colorbar": {
              "outlinewidth": 0,
              "ticks": ""
             }
            },
            "type": "scattermapbox"
           }
          ],
          "scatterpolar": [
           {
            "marker": {
             "colorbar": {
              "outlinewidth": 0,
              "ticks": ""
             }
            },
            "type": "scatterpolar"
           }
          ],
          "scatterpolargl": [
           {
            "marker": {
             "colorbar": {
              "outlinewidth": 0,
              "ticks": ""
             }
            },
            "type": "scatterpolargl"
           }
          ],
          "scatterternary": [
           {
            "marker": {
             "colorbar": {
              "outlinewidth": 0,
              "ticks": ""
             }
            },
            "type": "scatterternary"
           }
          ],
          "surface": [
           {
            "colorbar": {
             "outlinewidth": 0,
             "ticks": ""
            },
            "colorscale": [
             [
              0,
              "#0d0887"
             ],
             [
              0.1111111111111111,
              "#46039f"
             ],
             [
              0.2222222222222222,
              "#7201a8"
             ],
             [
              0.3333333333333333,
              "#9c179e"
             ],
             [
              0.4444444444444444,
              "#bd3786"
             ],
             [
              0.5555555555555556,
              "#d8576b"
             ],
             [
              0.6666666666666666,
              "#ed7953"
             ],
             [
              0.7777777777777778,
              "#fb9f3a"
             ],
             [
              0.8888888888888888,
              "#fdca26"
             ],
             [
              1,
              "#f0f921"
             ]
            ],
            "type": "surface"
           }
          ],
          "table": [
           {
            "cells": {
             "fill": {
              "color": "#EBF0F8"
             },
             "line": {
              "color": "white"
             }
            },
            "header": {
             "fill": {
              "color": "#C8D4E3"
             },
             "line": {
              "color": "white"
             }
            },
            "type": "table"
           }
          ]
         },
         "layout": {
          "annotationdefaults": {
           "arrowcolor": "#2a3f5f",
           "arrowhead": 0,
           "arrowwidth": 1
          },
          "coloraxis": {
           "colorbar": {
            "outlinewidth": 0,
            "ticks": ""
           }
          },
          "colorscale": {
           "diverging": [
            [
             0,
             "#8e0152"
            ],
            [
             0.1,
             "#c51b7d"
            ],
            [
             0.2,
             "#de77ae"
            ],
            [
             0.3,
             "#f1b6da"
            ],
            [
             0.4,
             "#fde0ef"
            ],
            [
             0.5,
             "#f7f7f7"
            ],
            [
             0.6,
             "#e6f5d0"
            ],
            [
             0.7,
             "#b8e186"
            ],
            [
             0.8,
             "#7fbc41"
            ],
            [
             0.9,
             "#4d9221"
            ],
            [
             1,
             "#276419"
            ]
           ],
           "sequential": [
            [
             0,
             "#0d0887"
            ],
            [
             0.1111111111111111,
             "#46039f"
            ],
            [
             0.2222222222222222,
             "#7201a8"
            ],
            [
             0.3333333333333333,
             "#9c179e"
            ],
            [
             0.4444444444444444,
             "#bd3786"
            ],
            [
             0.5555555555555556,
             "#d8576b"
            ],
            [
             0.6666666666666666,
             "#ed7953"
            ],
            [
             0.7777777777777778,
             "#fb9f3a"
            ],
            [
             0.8888888888888888,
             "#fdca26"
            ],
            [
             1,
             "#f0f921"
            ]
           ],
           "sequentialminus": [
            [
             0,
             "#0d0887"
            ],
            [
             0.1111111111111111,
             "#46039f"
            ],
            [
             0.2222222222222222,
             "#7201a8"
            ],
            [
             0.3333333333333333,
             "#9c179e"
            ],
            [
             0.4444444444444444,
             "#bd3786"
            ],
            [
             0.5555555555555556,
             "#d8576b"
            ],
            [
             0.6666666666666666,
             "#ed7953"
            ],
            [
             0.7777777777777778,
             "#fb9f3a"
            ],
            [
             0.8888888888888888,
             "#fdca26"
            ],
            [
             1,
             "#f0f921"
            ]
           ]
          },
          "colorway": [
           "#636efa",
           "#EF553B",
           "#00cc96",
           "#ab63fa",
           "#FFA15A",
           "#19d3f3",
           "#FF6692",
           "#B6E880",
           "#FF97FF",
           "#FECB52"
          ],
          "font": {
           "color": "#2a3f5f"
          },
          "geo": {
           "bgcolor": "white",
           "lakecolor": "white",
           "landcolor": "#E5ECF6",
           "showlakes": true,
           "showland": true,
           "subunitcolor": "white"
          },
          "hoverlabel": {
           "align": "left"
          },
          "hovermode": "closest",
          "mapbox": {
           "style": "light"
          },
          "paper_bgcolor": "white",
          "plot_bgcolor": "#E5ECF6",
          "polar": {
           "angularaxis": {
            "gridcolor": "white",
            "linecolor": "white",
            "ticks": ""
           },
           "bgcolor": "#E5ECF6",
           "radialaxis": {
            "gridcolor": "white",
            "linecolor": "white",
            "ticks": ""
           }
          },
          "scene": {
           "xaxis": {
            "backgroundcolor": "#E5ECF6",
            "gridcolor": "white",
            "gridwidth": 2,
            "linecolor": "white",
            "showbackground": true,
            "ticks": "",
            "zerolinecolor": "white"
           },
           "yaxis": {
            "backgroundcolor": "#E5ECF6",
            "gridcolor": "white",
            "gridwidth": 2,
            "linecolor": "white",
            "showbackground": true,
            "ticks": "",
            "zerolinecolor": "white"
           },
           "zaxis": {
            "backgroundcolor": "#E5ECF6",
            "gridcolor": "white",
            "gridwidth": 2,
            "linecolor": "white",
            "showbackground": true,
            "ticks": "",
            "zerolinecolor": "white"
           }
          },
          "shapedefaults": {
           "line": {
            "color": "#2a3f5f"
           }
          },
          "ternary": {
           "aaxis": {
            "gridcolor": "white",
            "linecolor": "white",
            "ticks": ""
           },
           "baxis": {
            "gridcolor": "white",
            "linecolor": "white",
            "ticks": ""
           },
           "bgcolor": "#E5ECF6",
           "caxis": {
            "gridcolor": "white",
            "linecolor": "white",
            "ticks": ""
           }
          },
          "title": {
           "x": 0.05
          },
          "xaxis": {
           "automargin": true,
           "gridcolor": "white",
           "linecolor": "white",
           "ticks": "",
           "title": {
            "standoff": 15
           },
           "zerolinecolor": "white",
           "zerolinewidth": 2
          },
          "yaxis": {
           "automargin": true,
           "gridcolor": "white",
           "linecolor": "white",
           "ticks": "",
           "title": {
            "standoff": 15
           },
           "zerolinecolor": "white",
           "zerolinewidth": 2
          }
         }
        },
        "title": {
         "text": "Nifty"
        },
        "xaxis": {
         "title": {
          "text": "Month wise"
         }
        },
        "yaxis": {
         "title": {
          "text": "Nifty Index"
         }
        }
       }
      },
      "text/html": [
       "<div>\n",
       "        \n",
       "        \n",
       "            <div id=\"9eaed30d-6d0f-4689-a3c7-9bcede9c3222\" class=\"plotly-graph-div\" style=\"height:525px; width:100%;\"></div>\n",
       "            <script type=\"text/javascript\">\n",
       "                require([\"plotly\"], function(Plotly) {\n",
       "                    window.PLOTLYENV=window.PLOTLYENV || {};\n",
       "                    \n",
       "                if (document.getElementById(\"9eaed30d-6d0f-4689-a3c7-9bcede9c3222\")) {\n",
       "                    Plotly.newPlot(\n",
       "                        '9eaed30d-6d0f-4689-a3c7-9bcede9c3222',\n",
       "                        [{\"close\": [10435.55, 10442.2, 10443.2, 10504.8, 10558.85, 10623.6, 10637.0, 10632.2, 10651.2, 10681.25, 10741.55, 10700.45, 10788.55, 10817.0, 10894.7, 10966.2, 11083.7, 11086.0, 11069.65, 11130.4, 11049.65, 11027.7, 11016.9, 10760.6, 10666.55, 10498.25, 10476.7, 10576.85, 10454.95, 10539.75, 10500.9, 10545.5, 10452.3, 10378.4, 10360.4, 10397.45, 10382.7, 10491.05, 10582.6, 10554.3, 10492.85, 10458.35, 10358.85, 10249.25, 10154.2, 10242.65, 10226.85, 10421.4, 10426.85, 10410.9, 10360.15, 10195.15, 10094.25, 10124.35, 10155.25, 10114.75, 9998.05, 10130.65, 10184.15, 10113.7, 10211.8, 10245.0, 10128.4, 10325.15, 10331.6, 10379.35, 10402.25, 10417.15, 10458.65, 10480.6, 10528.35, 10548.7, 10526.2, 10565.3, 10564.05, 10584.7, 10614.35, 10570.55, 10617.8, 10692.3, 10739.35, 10718.05, 10679.65, 10618.25, 10715.5, 10717.8, 10741.7, 10716.55, 10806.5, 10806.6, 10801.85, 10741.1, 10682.7, 10596.4, 10516.7, 10536.7, 10430.35, 10513.85, 10605.15, 10688.65, 10633.3, 10614.35, 10736.15, 10696.2, 10628.5, 10593.15, 10684.65, 10768.35, 10767.65, 10786.95, 10842.85, 10856.7, 10808.05, 10817.7, 10799.85, 10710.45, 10772.05, 10741.1, 10821.85, 10762.45, 10769.15, 10671.4, 10589.1, 10714.3, 10657.3, 10699.9, 10769.9, 10749.75, 10772.65, 10852.9, 10947.25, 10948.3, 11023.2, 11018.9, 10936.85, 11008.05, 10980.45, 10957.1, 11010.2, 11084.75, 11134.3, 11132.0, 11167.3, 11278.35, 11319.55, 11356.5, 11346.2, 11244.7, 11360.8, 11387.1, 11389.45, 11450.0, 11470.7, 11429.5, 11355.75, 11435.1, 11385.05, 11470.75, 11551.75, 11570.9, 11582.75, 11557.1, 11691.95, 11738.5, 11691.9, 11676.8, 11680.5, 11582.35, 11520.3, 11476.95, 11536.9, 11589.1, 11438.1, 11287.5, 11369.9, 11515.2, 11377.75, 11278.9, 11234.35, 11143.1, 10967.4, 11067.45, 11053.8, 10977.55, 10930.45, 11008.3, 10858.25, 10599.25, 10316.45, 10348.05, 10301.05, 10460.1, 10234.65, 10472.5, 10512.5, 10584.75, 10453.05, 10303.55, 10245.25, 10146.8, 10224.75, 10124.9, 10030.0, 10250.85, 10198.4, 10386.6, 10380.45, 10553.0, 10524.0, 10530.0, 10598.4, 10585.2, 10482.2, 10582.5, 10576.3, 10616.7, 10682.2, 10763.4, 10656.2, 10600.05, 10526.75, 10628.6, 10685.6, 10728.85, 10858.7, 10876.75, 10883.75, 10869.5, 10782.9, 10601.15, 10693.7, 10488.45, 10549.15, 10737.6, 10791.55, 10805.45, 10888.35, 10908.7, 10967.3, 10951.7, 10754.0, 10663.5, 10729.85, 10779.8, 10859.9, 10862.55], \"decreasing\": {\"line\": {\"color\": \"red\"}}, \"high\": [10537.85, 10495.2, 10503.6, 10513.0, 10566.1, 10631.2, 10659.15, 10655.5, 10664.6, 10690.4, 10782.65, 10762.35, 10803.0, 10887.5, 10906.85, 10975.1, 11092.9, 11110.1, 11095.6, 11171.55, 11121.1, 11058.5, 11117.35, 10954.95, 10702.75, 10594.15, 10614.0, 10637.8, 10480.2, 10555.5, 10590.55, 10618.1, 10612.9, 10489.35, 10429.35, 10426.1, 10397.55, 10499.1, 10592.95, 10631.65, 10535.5, 10525.5, 10428.7, 10441.35, 10243.35, 10270.35, 10296.7, 10433.65, 10478.6, 10420.35, 10420.0, 10346.3, 10224.55, 10155.65, 10227.3, 10207.85, 10027.7, 10143.5, 10207.9, 10158.35, 10220.1, 10255.35, 10279.85, 10331.8, 10350.45, 10397.7, 10424.85, 10428.15, 10469.9, 10519.9, 10540.15, 10560.45, 10594.2, 10572.2, 10582.35, 10638.35, 10636.8, 10612.6, 10628.4, 10719.8, 10759.0, 10784.65, 10720.6, 10700.45, 10725.65, 10758.55, 10766.25, 10785.55, 10812.05, 10834.85, 10929.2, 10790.45, 10777.25, 10674.95, 10621.7, 10558.6, 10533.55, 10535.15, 10628.05, 10709.8, 10717.25, 10648.7, 10763.8, 10764.75, 10770.3, 10633.15, 10698.35, 10818.0, 10779.45, 10850.55, 10856.55, 10893.25, 10833.7, 10834.0, 10830.2, 10789.45, 10781.8, 10809.6, 10837.0, 10831.05, 10805.25, 10785.5, 10674.2, 10723.05, 10736.15, 10713.3, 10777.15, 10786.05, 10816.35, 10860.35, 10956.9, 10976.65, 11078.3, 11071.35, 11019.5, 11018.5, 11076.2, 11006.5, 11030.25, 11093.4, 11143.4, 11157.15, 11185.85, 11283.4, 11328.1, 11366.0, 11390.55, 11328.9, 11368.0, 11427.65, 11428.95, 11459.95, 11495.2, 11478.75, 11406.3, 11452.45, 11449.85, 11486.45, 11565.3, 11581.75, 11620.7, 11604.6, 11700.95, 11760.2, 11753.2, 11698.8, 11727.65, 11751.8, 11602.55, 11542.65, 11562.25, 11603.0, 11573.0, 11479.4, 11380.75, 11523.25, 11464.95, 11411.45, 11332.05, 11346.8, 11170.15, 11080.6, 11145.55, 11089.45, 11034.1, 11035.65, 10989.05, 10754.7, 10540.65, 10398.35, 10397.6, 10482.35, 10335.95, 10492.45, 10526.3, 10604.9, 10710.15, 10380.1, 10408.55, 10222.1, 10290.65, 10166.6, 10128.85, 10275.3, 10285.1, 10396.0, 10441.9, 10606.95, 10558.8, 10600.25, 10616.45, 10619.55, 10645.5, 10596.25, 10651.6, 10646.5, 10695.15, 10774.7, 10740.85, 10671.3, 10646.25, 10637.8, 10695.15, 10757.8, 10883.05, 10922.45, 10941.2, 10890.95, 10821.05, 10722.65, 10704.55, 10558.85, 10567.15, 10752.2, 10838.6, 10815.75, 10900.35, 10915.4, 10985.15, 10962.55, 10963.65, 10782.3, 10747.5, 10834.2, 10893.6, 10923.55], \"increasing\": {\"line\": {\"color\": \"blue\"}}, \"low\": [10423.1, 10404.65, 10429.55, 10441.45, 10520.1, 10588.55, 10603.6, 10592.7, 10612.35, 10597.1, 10713.8, 10687.85, 10666.75, 10782.4, 10793.9, 10881.4, 10994.55, 11046.15, 11009.2, 11075.95, 11033.9, 10979.3, 10878.8, 10736.1, 10586.8, 10276.3, 10446.4, 10479.55, 10398.2, 10485.4, 10456.65, 10511.05, 10434.05, 10302.75, 10347.65, 10349.6, 10340.65, 10396.65, 10520.2, 10537.25, 10461.55, 10447.15, 10323.9, 10215.9, 10141.55, 10146.4, 10211.9, 10295.45, 10377.85, 10336.3, 10346.2, 10180.25, 10075.3, 10049.1, 10132.95, 10105.4, 9951.9, 9958.55, 10139.65, 10096.9, 10127.75, 10171.05, 10111.3, 10227.45, 10290.85, 10328.5, 10381.5, 10355.6, 10395.25, 10451.45, 10396.35, 10495.65, 10509.7, 10546.2, 10527.45, 10514.95, 10569.0, 10536.45, 10559.65, 10647.55, 10704.6, 10689.8, 10647.45, 10601.6, 10635.65, 10689.4, 10689.85, 10705.0, 10724.45, 10774.75, 10781.4, 10699.7, 10664.5, 10589.1, 10505.8, 10490.55, 10417.8, 10419.8, 10524.0, 10640.55, 10616.1, 10558.45, 10620.4, 10681.5, 10618.35, 10550.9, 10587.5, 10722.6, 10709.05, 10777.05, 10789.4, 10842.65, 10773.55, 10755.4, 10787.35, 10701.2, 10724.05, 10725.9, 10710.45, 10753.05, 10732.55, 10652.4, 10557.7, 10612.35, 10604.65, 10630.25, 10677.75, 10726.25, 10735.05, 10807.15, 10876.65, 10923.0, 10999.65, 10999.75, 10926.25, 10925.6, 10956.3, 10935.45, 10946.2, 11010.95, 11092.5, 11113.25, 11125.7, 11210.25, 11261.45, 11267.75, 11313.55, 11234.95, 11294.55, 11370.6, 11359.7, 11379.3, 11454.1, 11419.65, 11340.3, 11370.8, 11366.25, 11431.8, 11499.65, 11539.6, 11546.7, 11532.0, 11595.6, 11710.5, 11678.85, 11639.7, 11640.1, 11567.4, 11496.85, 11393.85, 11436.05, 11484.4, 11427.3, 11274.0, 11250.2, 11430.55, 11366.9, 11268.95, 11210.9, 10866.45, 10943.6, 10882.85, 10993.05, 10953.35, 10850.3, 10821.55, 10843.75, 10547.25, 10261.9, 10198.4, 10279.35, 10318.25, 10138.6, 10322.15, 10410.15, 10525.3, 10436.45, 10249.6, 10224.0, 10102.35, 10126.7, 10079.3, 10004.55, 10020.35, 10175.35, 10105.1, 10341.9, 10457.7, 10477.0, 10491.45, 10582.3, 10544.85, 10464.05, 10440.55, 10532.7, 10557.5, 10631.15, 10688.8, 10640.85, 10562.35, 10512.0, 10489.75, 10596.35, 10699.85, 10782.35, 10835.1, 10845.35, 10833.35, 10747.95, 10588.25, 10599.35, 10474.95, 10333.85, 10560.8, 10749.5, 10752.1, 10844.85, 10819.1, 10928.0, 10880.05, 10738.65, 10649.25, 10534.55, 10764.45, 10817.15, 10853.2], \"open\": [10531.7, 10477.55, 10482.65, 10469.4, 10534.25, 10591.7, 10645.1, 10652.05, 10637.05, 10682.55, 10718.5, 10761.5, 10702.45, 10873.4, 10829.2, 10883.2, 10997.4, 11069.35, 11095.6, 11079.35, 11120.85, 11018.8, 11044.55, 10938.2, 10604.3, 10295.15, 10607.2, 10518.5, 10416.5, 10518.2, 10585.75, 10537.9, 10596.2, 10488.9, 10391.0, 10426.0, 10354.35, 10408.1, 10526.55, 10615.2, 10488.95, 10479.95, 10428.3, 10420.5, 10232.95, 10216.25, 10271.3, 10301.6, 10389.5, 10393.05, 10405.45, 10345.15, 10215.35, 10051.55, 10181.95, 10167.5, 9968.8, 9989.15, 10188.0, 10143.6, 10151.65, 10186.85, 10274.6, 10228.45, 10322.75, 10333.7, 10412.9, 10428.15, 10410.65, 10495.3, 10398.3, 10557.3, 10578.9, 10563.65, 10560.35, 10592.8, 10578.1, 10612.4, 10586.5, 10651.65, 10705.75, 10783.85, 10720.15, 10700.45, 10653.15, 10757.9, 10693.35, 10779.65, 10741.95, 10815.15, 10812.6, 10751.95, 10775.6, 10671.85, 10616.7, 10518.45, 10521.1, 10464.85, 10533.05, 10648.35, 10689.4, 10579.0, 10670.1, 10738.45, 10765.95, 10630.7, 10603.45, 10722.6, 10736.4, 10781.85, 10816.15, 10887.5, 10832.9, 10808.65, 10830.2, 10789.45, 10734.65, 10808.45, 10742.7, 10822.9, 10742.7, 10785.5, 10660.8, 10612.85, 10732.35, 10668.6, 10715.0, 10786.05, 10744.15, 10838.3, 10902.75, 10956.4, 11006.95, 11056.9, 11018.95, 10939.65, 11060.2, 10999.5, 10963.5, 11019.85, 11109.0, 11148.4, 11132.95, 11232.75, 11296.65, 11311.05, 11359.8, 11328.9, 11297.8, 11401.5, 11423.15, 11412.5, 11493.25, 11474.95, 11369.6, 11381.7, 11397.15, 11437.15, 11502.1, 11576.2, 11620.7, 11566.6, 11605.85, 11731.95, 11744.95, 11694.75, 11675.85, 11751.8, 11598.75, 11514.85, 11514.15, 11558.25, 11570.25, 11476.85, 11340.1, 11443.5, 11464.95, 11381.55, 11326.65, 11271.3, 11164.4, 10969.95, 11145.55, 11079.8, 11008.1, 10930.9, 10982.7, 10754.7, 10514.1, 10310.15, 10390.3, 10331.85, 10169.8, 10331.55, 10524.2, 10550.15, 10688.7, 10339.7, 10405.85, 10152.6, 10278.15, 10135.05, 10122.35, 10078.1, 10239.4, 10209.55, 10441.7, 10462.3, 10558.75, 10552.0, 10614.45, 10614.7, 10607.8, 10451.9, 10634.9, 10580.6, 10644.0, 10731.25, 10740.1, 10670.95, 10612.65, 10568.3, 10621.45, 10708.75, 10808.7, 10892.1, 10930.7, 10877.1, 10820.45, 10718.15, 10644.8, 10508.7, 10350.05, 10591.0, 10810.75, 10784.5, 10853.2, 10850.9, 10930.55, 10885.2, 10944.25, 10780.9, 10635.45, 10817.9, 10820.95, 10913.2], \"type\": \"candlestick\", \"x\": [\"2018-01-01T00:00:00\", \"2018-01-02T00:00:00\", \"2018-01-03T00:00:00\", \"2018-01-04T00:00:00\", \"2018-01-05T00:00:00\", \"2018-01-08T00:00:00\", \"2018-01-09T00:00:00\", \"2018-01-10T00:00:00\", \"2018-01-11T00:00:00\", \"2018-01-12T00:00:00\", \"2018-01-15T00:00:00\", \"2018-01-16T00:00:00\", \"2018-01-17T00:00:00\", \"2018-01-18T00:00:00\", \"2018-01-19T00:00:00\", \"2018-01-22T00:00:00\", \"2018-01-23T00:00:00\", \"2018-01-24T00:00:00\", \"2018-01-25T00:00:00\", \"2018-01-29T00:00:00\", \"2018-01-30T00:00:00\", \"2018-01-31T00:00:00\", \"2018-02-01T00:00:00\", \"2018-02-02T00:00:00\", \"2018-02-05T00:00:00\", \"2018-02-06T00:00:00\", \"2018-02-07T00:00:00\", \"2018-02-08T00:00:00\", \"2018-02-09T00:00:00\", \"2018-02-12T00:00:00\", \"2018-02-14T00:00:00\", \"2018-02-15T00:00:00\", \"2018-02-16T00:00:00\", \"2018-02-19T00:00:00\", \"2018-02-20T00:00:00\", \"2018-02-21T00:00:00\", \"2018-02-22T00:00:00\", \"2018-02-23T00:00:00\", \"2018-02-26T00:00:00\", \"2018-02-27T00:00:00\", \"2018-02-28T00:00:00\", \"2018-03-01T00:00:00\", \"2018-03-05T00:00:00\", \"2018-03-06T00:00:00\", \"2018-03-07T00:00:00\", \"2018-03-08T00:00:00\", \"2018-03-09T00:00:00\", \"2018-03-12T00:00:00\", \"2018-03-13T00:00:00\", \"2018-03-14T00:00:00\", \"2018-03-15T00:00:00\", \"2018-03-16T00:00:00\", \"2018-03-19T00:00:00\", \"2018-03-20T00:00:00\", \"2018-03-21T00:00:00\", \"2018-03-22T00:00:00\", \"2018-03-23T00:00:00\", \"2018-03-26T00:00:00\", \"2018-03-27T00:00:00\", \"2018-03-28T00:00:00\", \"2018-04-02T00:00:00\", \"2018-04-03T00:00:00\", \"2018-04-04T00:00:00\", \"2018-04-05T00:00:00\", \"2018-04-06T00:00:00\", \"2018-04-09T00:00:00\", \"2018-04-10T00:00:00\", \"2018-04-11T00:00:00\", \"2018-04-12T00:00:00\", \"2018-04-13T00:00:00\", \"2018-04-16T00:00:00\", \"2018-04-17T00:00:00\", \"2018-04-18T00:00:00\", \"2018-04-19T00:00:00\", \"2018-04-20T00:00:00\", \"2018-04-23T00:00:00\", \"2018-04-24T00:00:00\", \"2018-04-25T00:00:00\", \"2018-04-26T00:00:00\", \"2018-04-27T00:00:00\", \"2018-04-30T00:00:00\", \"2018-05-02T00:00:00\", \"2018-05-03T00:00:00\", \"2018-05-04T00:00:00\", \"2018-05-07T00:00:00\", \"2018-05-08T00:00:00\", \"2018-05-09T00:00:00\", \"2018-05-10T00:00:00\", \"2018-05-11T00:00:00\", \"2018-05-14T00:00:00\", \"2018-05-15T00:00:00\", \"2018-05-16T00:00:00\", \"2018-05-17T00:00:00\", \"2018-05-18T00:00:00\", \"2018-05-21T00:00:00\", \"2018-05-22T00:00:00\", \"2018-05-23T00:00:00\", \"2018-05-24T00:00:00\", \"2018-05-25T00:00:00\", \"2018-05-28T00:00:00\", \"2018-05-29T00:00:00\", \"2018-05-30T00:00:00\", \"2018-05-31T00:00:00\", \"2018-06-01T00:00:00\", \"2018-06-04T00:00:00\", \"2018-06-05T00:00:00\", \"2018-06-06T00:00:00\", \"2018-06-07T00:00:00\", \"2018-06-08T00:00:00\", \"2018-06-11T00:00:00\", \"2018-06-12T00:00:00\", \"2018-06-13T00:00:00\", \"2018-06-14T00:00:00\", \"2018-06-15T00:00:00\", \"2018-06-18T00:00:00\", \"2018-06-19T00:00:00\", \"2018-06-20T00:00:00\", \"2018-06-21T00:00:00\", \"2018-06-22T00:00:00\", \"2018-06-25T00:00:00\", \"2018-06-26T00:00:00\", \"2018-06-27T00:00:00\", \"2018-06-28T00:00:00\", \"2018-06-29T00:00:00\", \"2018-07-02T00:00:00\", \"2018-07-03T00:00:00\", \"2018-07-04T00:00:00\", \"2018-07-05T00:00:00\", \"2018-07-06T00:00:00\", \"2018-07-09T00:00:00\", \"2018-07-10T00:00:00\", \"2018-07-11T00:00:00\", \"2018-07-12T00:00:00\", \"2018-07-13T00:00:00\", \"2018-07-16T00:00:00\", \"2018-07-17T00:00:00\", \"2018-07-18T00:00:00\", \"2018-07-19T00:00:00\", \"2018-07-20T00:00:00\", \"2018-07-23T00:00:00\", \"2018-07-24T00:00:00\", \"2018-07-25T00:00:00\", \"2018-07-26T00:00:00\", \"2018-07-27T00:00:00\", \"2018-07-30T00:00:00\", \"2018-07-31T00:00:00\", \"2018-08-01T00:00:00\", \"2018-08-02T00:00:00\", \"2018-08-03T00:00:00\", \"2018-08-06T00:00:00\", \"2018-08-07T00:00:00\", \"2018-08-08T00:00:00\", \"2018-08-09T00:00:00\", \"2018-08-10T00:00:00\", \"2018-08-13T00:00:00\", \"2018-08-14T00:00:00\", \"2018-08-16T00:00:00\", \"2018-08-17T00:00:00\", \"2018-08-20T00:00:00\", \"2018-08-21T00:00:00\", \"2018-08-23T00:00:00\", \"2018-08-24T00:00:00\", \"2018-08-27T00:00:00\", \"2018-08-28T00:00:00\", \"2018-08-29T00:00:00\", \"2018-08-30T00:00:00\", \"2018-08-31T00:00:00\", \"2018-09-03T00:00:00\", \"2018-09-04T00:00:00\", \"2018-09-05T00:00:00\", \"2018-09-06T00:00:00\", \"2018-09-07T00:00:00\", \"2018-09-10T00:00:00\", \"2018-09-11T00:00:00\", \"2018-09-12T00:00:00\", \"2018-09-14T00:00:00\", \"2018-09-17T00:00:00\", \"2018-09-18T00:00:00\", \"2018-09-19T00:00:00\", \"2018-09-21T00:00:00\", \"2018-09-24T00:00:00\", \"2018-09-25T00:00:00\", \"2018-09-26T00:00:00\", \"2018-09-27T00:00:00\", \"2018-09-28T00:00:00\", \"2018-10-01T00:00:00\", \"2018-10-03T00:00:00\", \"2018-10-04T00:00:00\", \"2018-10-05T00:00:00\", \"2018-10-08T00:00:00\", \"2018-10-09T00:00:00\", \"2018-10-10T00:00:00\", \"2018-10-11T00:00:00\", \"2018-10-12T00:00:00\", \"2018-10-15T00:00:00\", \"2018-10-16T00:00:00\", \"2018-10-17T00:00:00\", \"2018-10-19T00:00:00\", \"2018-10-22T00:00:00\", \"2018-10-23T00:00:00\", \"2018-10-24T00:00:00\", \"2018-10-25T00:00:00\", \"2018-10-26T00:00:00\", \"2018-10-29T00:00:00\", \"2018-10-30T00:00:00\", \"2018-10-31T00:00:00\", \"2018-11-01T00:00:00\", \"2018-11-02T00:00:00\", \"2018-11-05T00:00:00\", \"2018-11-06T00:00:00\", \"2018-11-07T00:00:00\", \"2018-11-09T00:00:00\", \"2018-11-12T00:00:00\", \"2018-11-13T00:00:00\", \"2018-11-14T00:00:00\", \"2018-11-15T00:00:00\", \"2018-11-16T00:00:00\", \"2018-11-19T00:00:00\", \"2018-11-20T00:00:00\", \"2018-11-21T00:00:00\", \"2018-11-22T00:00:00\", \"2018-11-26T00:00:00\", \"2018-11-27T00:00:00\", \"2018-11-28T00:00:00\", \"2018-11-29T00:00:00\", \"2018-11-30T00:00:00\", \"2018-12-03T00:00:00\", \"2018-12-04T00:00:00\", \"2018-12-05T00:00:00\", \"2018-12-06T00:00:00\", \"2018-12-07T00:00:00\", \"2018-12-10T00:00:00\", \"2018-12-11T00:00:00\", \"2018-12-12T00:00:00\", \"2018-12-13T00:00:00\", \"2018-12-14T00:00:00\", \"2018-12-17T00:00:00\", \"2018-12-18T00:00:00\", \"2018-12-19T00:00:00\", \"2018-12-20T00:00:00\", \"2018-12-21T00:00:00\", \"2018-12-24T00:00:00\", \"2018-12-26T00:00:00\", \"2018-12-27T00:00:00\", \"2018-12-28T00:00:00\", \"2018-12-31T00:00:00\"]}],\n",
       "                        {\"template\": {\"data\": {\"bar\": [{\"error_x\": {\"color\": \"#2a3f5f\"}, \"error_y\": {\"color\": \"#2a3f5f\"}, \"marker\": {\"line\": {\"color\": \"#E5ECF6\", \"width\": 0.5}}, \"type\": \"bar\"}], \"barpolar\": [{\"marker\": {\"line\": {\"color\": \"#E5ECF6\", \"width\": 0.5}}, \"type\": \"barpolar\"}], \"carpet\": [{\"aaxis\": {\"endlinecolor\": \"#2a3f5f\", \"gridcolor\": \"white\", \"linecolor\": \"white\", \"minorgridcolor\": \"white\", \"startlinecolor\": \"#2a3f5f\"}, \"baxis\": {\"endlinecolor\": \"#2a3f5f\", \"gridcolor\": \"white\", \"linecolor\": \"white\", \"minorgridcolor\": \"white\", \"startlinecolor\": \"#2a3f5f\"}, \"type\": \"carpet\"}], \"choropleth\": [{\"colorbar\": {\"outlinewidth\": 0, \"ticks\": \"\"}, \"type\": \"choropleth\"}], \"contour\": [{\"colorbar\": {\"outlinewidth\": 0, \"ticks\": \"\"}, \"colorscale\": [[0.0, \"#0d0887\"], [0.1111111111111111, \"#46039f\"], [0.2222222222222222, \"#7201a8\"], [0.3333333333333333, \"#9c179e\"], [0.4444444444444444, \"#bd3786\"], [0.5555555555555556, \"#d8576b\"], [0.6666666666666666, \"#ed7953\"], [0.7777777777777778, \"#fb9f3a\"], [0.8888888888888888, \"#fdca26\"], [1.0, \"#f0f921\"]], \"type\": \"contour\"}], \"contourcarpet\": [{\"colorbar\": {\"outlinewidth\": 0, \"ticks\": \"\"}, \"type\": \"contourcarpet\"}], \"heatmap\": [{\"colorbar\": {\"outlinewidth\": 0, \"ticks\": \"\"}, \"colorscale\": [[0.0, \"#0d0887\"], [0.1111111111111111, \"#46039f\"], [0.2222222222222222, \"#7201a8\"], [0.3333333333333333, \"#9c179e\"], [0.4444444444444444, \"#bd3786\"], [0.5555555555555556, \"#d8576b\"], [0.6666666666666666, \"#ed7953\"], [0.7777777777777778, \"#fb9f3a\"], [0.8888888888888888, \"#fdca26\"], [1.0, \"#f0f921\"]], \"type\": \"heatmap\"}], \"heatmapgl\": [{\"colorbar\": {\"outlinewidth\": 0, \"ticks\": \"\"}, \"colorscale\": [[0.0, \"#0d0887\"], [0.1111111111111111, \"#46039f\"], [0.2222222222222222, \"#7201a8\"], [0.3333333333333333, \"#9c179e\"], [0.4444444444444444, \"#bd3786\"], [0.5555555555555556, \"#d8576b\"], [0.6666666666666666, \"#ed7953\"], [0.7777777777777778, \"#fb9f3a\"], [0.8888888888888888, \"#fdca26\"], [1.0, \"#f0f921\"]], \"type\": \"heatmapgl\"}], \"histogram\": [{\"marker\": {\"colorbar\": {\"outlinewidth\": 0, \"ticks\": \"\"}}, \"type\": \"histogram\"}], \"histogram2d\": [{\"colorbar\": {\"outlinewidth\": 0, \"ticks\": \"\"}, \"colorscale\": [[0.0, \"#0d0887\"], [0.1111111111111111, \"#46039f\"], [0.2222222222222222, \"#7201a8\"], [0.3333333333333333, \"#9c179e\"], [0.4444444444444444, \"#bd3786\"], [0.5555555555555556, \"#d8576b\"], [0.6666666666666666, \"#ed7953\"], [0.7777777777777778, \"#fb9f3a\"], [0.8888888888888888, \"#fdca26\"], [1.0, \"#f0f921\"]], \"type\": \"histogram2d\"}], \"histogram2dcontour\": [{\"colorbar\": {\"outlinewidth\": 0, \"ticks\": \"\"}, \"colorscale\": [[0.0, \"#0d0887\"], [0.1111111111111111, \"#46039f\"], [0.2222222222222222, \"#7201a8\"], [0.3333333333333333, \"#9c179e\"], [0.4444444444444444, \"#bd3786\"], [0.5555555555555556, \"#d8576b\"], [0.6666666666666666, \"#ed7953\"], [0.7777777777777778, \"#fb9f3a\"], [0.8888888888888888, \"#fdca26\"], [1.0, \"#f0f921\"]], \"type\": \"histogram2dcontour\"}], \"mesh3d\": [{\"colorbar\": {\"outlinewidth\": 0, \"ticks\": \"\"}, \"type\": \"mesh3d\"}], \"parcoords\": [{\"line\": {\"colorbar\": {\"outlinewidth\": 0, \"ticks\": \"\"}}, \"type\": \"parcoords\"}], \"pie\": [{\"automargin\": true, \"type\": \"pie\"}], \"scatter\": [{\"marker\": {\"colorbar\": {\"outlinewidth\": 0, \"ticks\": \"\"}}, \"type\": \"scatter\"}], \"scatter3d\": [{\"line\": {\"colorbar\": {\"outlinewidth\": 0, \"ticks\": \"\"}}, \"marker\": {\"colorbar\": {\"outlinewidth\": 0, \"ticks\": \"\"}}, \"type\": \"scatter3d\"}], \"scattercarpet\": [{\"marker\": {\"colorbar\": {\"outlinewidth\": 0, \"ticks\": \"\"}}, \"type\": \"scattercarpet\"}], \"scattergeo\": [{\"marker\": {\"colorbar\": {\"outlinewidth\": 0, \"ticks\": \"\"}}, \"type\": \"scattergeo\"}], \"scattergl\": [{\"marker\": {\"colorbar\": {\"outlinewidth\": 0, \"ticks\": \"\"}}, \"type\": \"scattergl\"}], \"scattermapbox\": [{\"marker\": {\"colorbar\": {\"outlinewidth\": 0, \"ticks\": \"\"}}, \"type\": \"scattermapbox\"}], \"scatterpolar\": [{\"marker\": {\"colorbar\": {\"outlinewidth\": 0, \"ticks\": \"\"}}, \"type\": \"scatterpolar\"}], \"scatterpolargl\": [{\"marker\": {\"colorbar\": {\"outlinewidth\": 0, \"ticks\": \"\"}}, \"type\": \"scatterpolargl\"}], \"scatterternary\": [{\"marker\": {\"colorbar\": {\"outlinewidth\": 0, \"ticks\": \"\"}}, \"type\": \"scatterternary\"}], \"surface\": [{\"colorbar\": {\"outlinewidth\": 0, \"ticks\": \"\"}, \"colorscale\": [[0.0, \"#0d0887\"], [0.1111111111111111, \"#46039f\"], [0.2222222222222222, \"#7201a8\"], [0.3333333333333333, \"#9c179e\"], [0.4444444444444444, \"#bd3786\"], [0.5555555555555556, \"#d8576b\"], [0.6666666666666666, \"#ed7953\"], [0.7777777777777778, \"#fb9f3a\"], [0.8888888888888888, \"#fdca26\"], [1.0, \"#f0f921\"]], \"type\": \"surface\"}], \"table\": [{\"cells\": {\"fill\": {\"color\": \"#EBF0F8\"}, \"line\": {\"color\": \"white\"}}, \"header\": {\"fill\": {\"color\": \"#C8D4E3\"}, \"line\": {\"color\": \"white\"}}, \"type\": \"table\"}]}, \"layout\": {\"annotationdefaults\": {\"arrowcolor\": \"#2a3f5f\", \"arrowhead\": 0, \"arrowwidth\": 1}, \"coloraxis\": {\"colorbar\": {\"outlinewidth\": 0, \"ticks\": \"\"}}, \"colorscale\": {\"diverging\": [[0, \"#8e0152\"], [0.1, \"#c51b7d\"], [0.2, \"#de77ae\"], [0.3, \"#f1b6da\"], [0.4, \"#fde0ef\"], [0.5, \"#f7f7f7\"], [0.6, \"#e6f5d0\"], [0.7, \"#b8e186\"], [0.8, \"#7fbc41\"], [0.9, \"#4d9221\"], [1, \"#276419\"]], \"sequential\": [[0.0, \"#0d0887\"], [0.1111111111111111, \"#46039f\"], [0.2222222222222222, \"#7201a8\"], [0.3333333333333333, \"#9c179e\"], [0.4444444444444444, \"#bd3786\"], [0.5555555555555556, \"#d8576b\"], [0.6666666666666666, \"#ed7953\"], [0.7777777777777778, \"#fb9f3a\"], [0.8888888888888888, \"#fdca26\"], [1.0, \"#f0f921\"]], \"sequentialminus\": [[0.0, \"#0d0887\"], [0.1111111111111111, \"#46039f\"], [0.2222222222222222, \"#7201a8\"], [0.3333333333333333, \"#9c179e\"], [0.4444444444444444, \"#bd3786\"], [0.5555555555555556, \"#d8576b\"], [0.6666666666666666, \"#ed7953\"], [0.7777777777777778, \"#fb9f3a\"], [0.8888888888888888, \"#fdca26\"], [1.0, \"#f0f921\"]]}, \"colorway\": [\"#636efa\", \"#EF553B\", \"#00cc96\", \"#ab63fa\", \"#FFA15A\", \"#19d3f3\", \"#FF6692\", \"#B6E880\", \"#FF97FF\", \"#FECB52\"], \"font\": {\"color\": \"#2a3f5f\"}, \"geo\": {\"bgcolor\": \"white\", \"lakecolor\": \"white\", \"landcolor\": \"#E5ECF6\", \"showlakes\": true, \"showland\": true, \"subunitcolor\": \"white\"}, \"hoverlabel\": {\"align\": \"left\"}, \"hovermode\": \"closest\", \"mapbox\": {\"style\": \"light\"}, \"paper_bgcolor\": \"white\", \"plot_bgcolor\": \"#E5ECF6\", \"polar\": {\"angularaxis\": {\"gridcolor\": \"white\", \"linecolor\": \"white\", \"ticks\": \"\"}, \"bgcolor\": \"#E5ECF6\", \"radialaxis\": {\"gridcolor\": \"white\", \"linecolor\": \"white\", \"ticks\": \"\"}}, \"scene\": {\"xaxis\": {\"backgroundcolor\": \"#E5ECF6\", \"gridcolor\": \"white\", \"gridwidth\": 2, \"linecolor\": \"white\", \"showbackground\": true, \"ticks\": \"\", \"zerolinecolor\": \"white\"}, \"yaxis\": {\"backgroundcolor\": \"#E5ECF6\", \"gridcolor\": \"white\", \"gridwidth\": 2, \"linecolor\": \"white\", \"showbackground\": true, \"ticks\": \"\", \"zerolinecolor\": \"white\"}, \"zaxis\": {\"backgroundcolor\": \"#E5ECF6\", \"gridcolor\": \"white\", \"gridwidth\": 2, \"linecolor\": \"white\", \"showbackground\": true, \"ticks\": \"\", \"zerolinecolor\": \"white\"}}, \"shapedefaults\": {\"line\": {\"color\": \"#2a3f5f\"}}, \"ternary\": {\"aaxis\": {\"gridcolor\": \"white\", \"linecolor\": \"white\", \"ticks\": \"\"}, \"baxis\": {\"gridcolor\": \"white\", \"linecolor\": \"white\", \"ticks\": \"\"}, \"bgcolor\": \"#E5ECF6\", \"caxis\": {\"gridcolor\": \"white\", \"linecolor\": \"white\", \"ticks\": \"\"}}, \"title\": {\"x\": 0.05}, \"xaxis\": {\"automargin\": true, \"gridcolor\": \"white\", \"linecolor\": \"white\", \"ticks\": \"\", \"title\": {\"standoff\": 15}, \"zerolinecolor\": \"white\", \"zerolinewidth\": 2}, \"yaxis\": {\"automargin\": true, \"gridcolor\": \"white\", \"linecolor\": \"white\", \"ticks\": \"\", \"title\": {\"standoff\": 15}, \"zerolinecolor\": \"white\", \"zerolinewidth\": 2}}}, \"title\": {\"text\": \"Nifty\"}, \"xaxis\": {\"title\": {\"text\": \"Month wise\"}}, \"yaxis\": {\"title\": {\"text\": \"Nifty Index\"}}},\n",
       "                        {\"responsive\": true}\n",
       "                    ).then(function(){\n",
       "                            \n",
       "var gd = document.getElementById('9eaed30d-6d0f-4689-a3c7-9bcede9c3222');\n",
       "var x = new MutationObserver(function (mutations, observer) {{\n",
       "        var display = window.getComputedStyle(gd).display;\n",
       "        if (!display || display === 'none') {{\n",
       "            console.log([gd, 'removed!']);\n",
       "            Plotly.purge(gd);\n",
       "            observer.disconnect();\n",
       "        }}\n",
       "}});\n",
       "\n",
       "// Listen for the removal of the full notebook cells\n",
       "var notebookContainer = gd.closest('#notebook-container');\n",
       "if (notebookContainer) {{\n",
       "    x.observe(notebookContainer, {childList: true});\n",
       "}}\n",
       "\n",
       "// Listen for the clearing of the current output cell\n",
       "var outputEl = gd.closest('.output');\n",
       "if (outputEl) {{\n",
       "    x.observe(outputEl, {childList: true});\n",
       "}}\n",
       "\n",
       "                        })\n",
       "                };\n",
       "                });\n",
       "            </script>\n",
       "        </div>"
      ]
     },
     "metadata": {},
     "output_type": "display_data"
    }
   ],
   "source": [
    "figure.show()"
   ]
  },
  {
   "cell_type": "code",
   "execution_count": 147,
   "metadata": {},
   "outputs": [],
   "source": [
    "#Description: This program uses the MACD crossover to buy/sell the stock"
   ]
  },
  {
   "cell_type": "code",
   "execution_count": 1,
   "metadata": {},
   "outputs": [],
   "source": [
    "#import the Libreries\n",
    "import pandas as pd\n",
    "import numpy as np\n",
    "import matplotlib.pyplot as plt\n",
    "plt.style.use('fivethirtyeight')"
   ]
  },
  {
   "cell_type": "code",
   "execution_count": 2,
   "metadata": {},
   "outputs": [],
   "source": [
    "#Load & Store the data into dataframe\n",
    "df = pd.read_csv(r'C:\\Users\\admin\\Downloads\\niftydata\\Nifty-2018.csv')"
   ]
  },
  {
   "cell_type": "code",
   "execution_count": 3,
   "metadata": {},
   "outputs": [],
   "source": [
    "#Set the Date as index\n",
    "df = df.set_index(pd.DatetimeIndex(df['Date'].values))"
   ]
  },
  {
   "cell_type": "code",
   "execution_count": 4,
   "metadata": {},
   "outputs": [
    {
     "data": {
      "text/html": [
       "<div>\n",
       "<style scoped>\n",
       "    .dataframe tbody tr th:only-of-type {\n",
       "        vertical-align: middle;\n",
       "    }\n",
       "\n",
       "    .dataframe tbody tr th {\n",
       "        vertical-align: top;\n",
       "    }\n",
       "\n",
       "    .dataframe thead th {\n",
       "        text-align: right;\n",
       "    }\n",
       "</style>\n",
       "<table border=\"1\" class=\"dataframe\">\n",
       "  <thead>\n",
       "    <tr style=\"text-align: right;\">\n",
       "      <th></th>\n",
       "      <th>Date</th>\n",
       "      <th>Open</th>\n",
       "      <th>High</th>\n",
       "      <th>Low</th>\n",
       "      <th>Close</th>\n",
       "      <th>Shares Traded</th>\n",
       "      <th>Turnover (Rs. Cr)</th>\n",
       "    </tr>\n",
       "  </thead>\n",
       "  <tbody>\n",
       "    <tr>\n",
       "      <th>2018-01-01</th>\n",
       "      <td>1-Jan-18</td>\n",
       "      <td>10531.70</td>\n",
       "      <td>10537.85</td>\n",
       "      <td>10423.10</td>\n",
       "      <td>10435.55</td>\n",
       "      <td>134532090</td>\n",
       "      <td>7546.56</td>\n",
       "    </tr>\n",
       "    <tr>\n",
       "      <th>2018-01-02</th>\n",
       "      <td>2-Jan-18</td>\n",
       "      <td>10477.55</td>\n",
       "      <td>10495.20</td>\n",
       "      <td>10404.65</td>\n",
       "      <td>10442.20</td>\n",
       "      <td>158092430</td>\n",
       "      <td>8665.47</td>\n",
       "    </tr>\n",
       "    <tr>\n",
       "      <th>2018-01-03</th>\n",
       "      <td>3-Jan-18</td>\n",
       "      <td>10482.65</td>\n",
       "      <td>10503.60</td>\n",
       "      <td>10429.55</td>\n",
       "      <td>10443.20</td>\n",
       "      <td>172516859</td>\n",
       "      <td>9541.60</td>\n",
       "    </tr>\n",
       "    <tr>\n",
       "      <th>2018-01-04</th>\n",
       "      <td>4-Jan-18</td>\n",
       "      <td>10469.40</td>\n",
       "      <td>10513.00</td>\n",
       "      <td>10441.45</td>\n",
       "      <td>10504.80</td>\n",
       "      <td>180257392</td>\n",
       "      <td>9561.95</td>\n",
       "    </tr>\n",
       "    <tr>\n",
       "      <th>2018-01-05</th>\n",
       "      <td>5-Jan-18</td>\n",
       "      <td>10534.25</td>\n",
       "      <td>10566.10</td>\n",
       "      <td>10520.10</td>\n",
       "      <td>10558.85</td>\n",
       "      <td>186469717</td>\n",
       "      <td>10306.22</td>\n",
       "    </tr>\n",
       "    <tr>\n",
       "      <th>...</th>\n",
       "      <td>...</td>\n",
       "      <td>...</td>\n",
       "      <td>...</td>\n",
       "      <td>...</td>\n",
       "      <td>...</td>\n",
       "      <td>...</td>\n",
       "      <td>...</td>\n",
       "    </tr>\n",
       "    <tr>\n",
       "      <th>2018-12-24</th>\n",
       "      <td>24-Dec-18</td>\n",
       "      <td>10780.90</td>\n",
       "      <td>10782.30</td>\n",
       "      <td>10649.25</td>\n",
       "      <td>10663.50</td>\n",
       "      <td>230291344</td>\n",
       "      <td>10695.60</td>\n",
       "    </tr>\n",
       "    <tr>\n",
       "      <th>2018-12-26</th>\n",
       "      <td>26-Dec-18</td>\n",
       "      <td>10635.45</td>\n",
       "      <td>10747.50</td>\n",
       "      <td>10534.55</td>\n",
       "      <td>10729.85</td>\n",
       "      <td>271942701</td>\n",
       "      <td>12831.99</td>\n",
       "    </tr>\n",
       "    <tr>\n",
       "      <th>2018-12-27</th>\n",
       "      <td>27-Dec-18</td>\n",
       "      <td>10817.90</td>\n",
       "      <td>10834.20</td>\n",
       "      <td>10764.45</td>\n",
       "      <td>10779.80</td>\n",
       "      <td>470160392</td>\n",
       "      <td>19119.88</td>\n",
       "    </tr>\n",
       "    <tr>\n",
       "      <th>2018-12-28</th>\n",
       "      <td>28-Dec-18</td>\n",
       "      <td>10820.95</td>\n",
       "      <td>10893.60</td>\n",
       "      <td>10817.15</td>\n",
       "      <td>10859.90</td>\n",
       "      <td>253086507</td>\n",
       "      <td>12615.01</td>\n",
       "    </tr>\n",
       "    <tr>\n",
       "      <th>2018-12-31</th>\n",
       "      <td>31-Dec-18</td>\n",
       "      <td>10913.20</td>\n",
       "      <td>10923.55</td>\n",
       "      <td>10853.20</td>\n",
       "      <td>10862.55</td>\n",
       "      <td>186494657</td>\n",
       "      <td>10176.13</td>\n",
       "    </tr>\n",
       "  </tbody>\n",
       "</table>\n",
       "<p>246 rows × 7 columns</p>\n",
       "</div>"
      ],
      "text/plain": [
       "                 Date      Open      High       Low     Close  Shares Traded  \\\n",
       "2018-01-01   1-Jan-18  10531.70  10537.85  10423.10  10435.55      134532090   \n",
       "2018-01-02   2-Jan-18  10477.55  10495.20  10404.65  10442.20      158092430   \n",
       "2018-01-03   3-Jan-18  10482.65  10503.60  10429.55  10443.20      172516859   \n",
       "2018-01-04   4-Jan-18  10469.40  10513.00  10441.45  10504.80      180257392   \n",
       "2018-01-05   5-Jan-18  10534.25  10566.10  10520.10  10558.85      186469717   \n",
       "...               ...       ...       ...       ...       ...            ...   \n",
       "2018-12-24  24-Dec-18  10780.90  10782.30  10649.25  10663.50      230291344   \n",
       "2018-12-26  26-Dec-18  10635.45  10747.50  10534.55  10729.85      271942701   \n",
       "2018-12-27  27-Dec-18  10817.90  10834.20  10764.45  10779.80      470160392   \n",
       "2018-12-28  28-Dec-18  10820.95  10893.60  10817.15  10859.90      253086507   \n",
       "2018-12-31  31-Dec-18  10913.20  10923.55  10853.20  10862.55      186494657   \n",
       "\n",
       "            Turnover (Rs. Cr)  \n",
       "2018-01-01            7546.56  \n",
       "2018-01-02            8665.47  \n",
       "2018-01-03            9541.60  \n",
       "2018-01-04            9561.95  \n",
       "2018-01-05           10306.22  \n",
       "...                       ...  \n",
       "2018-12-24           10695.60  \n",
       "2018-12-26           12831.99  \n",
       "2018-12-27           19119.88  \n",
       "2018-12-28           12615.01  \n",
       "2018-12-31           10176.13  \n",
       "\n",
       "[246 rows x 7 columns]"
      ]
     },
     "execution_count": 4,
     "metadata": {},
     "output_type": "execute_result"
    }
   ],
   "source": [
    "#show the data\n",
    "df"
   ]
  },
  {
   "cell_type": "code",
   "execution_count": 5,
   "metadata": {},
   "outputs": [
    {
     "data": {
      "text/plain": [
       "Text(0, 0.5, 'Nifty Index')"
      ]
     },
     "execution_count": 5,
     "metadata": {},
     "output_type": "execute_result"
    },
    {
     "data": {
      "image/png": "[encoded data removed]",
      "text/plain": [
       "<Figure size 878.4x324 with 1 Axes>"
      ]
     },
     "metadata": {},
     "output_type": "display_data"
    }
   ],
   "source": [
    "#Visually show the Index\n",
    "plt.figure(figsize=(12.2,4.5))\n",
    "plt.plot(df['Close'],label = 'Close')\n",
    "plt.xticks(rotation=45)\n",
    "plt.title('Close Price History')\n",
    "plt.xlabel('Date')\n",
    "plt.ylabel('Nifty Index')"
   ]
  },
  {
   "cell_type": "code",
   "execution_count": 6,
   "metadata": {},
   "outputs": [],
   "source": [
    "#Calculate the MACD and signal line indicators\n",
    "#Calculate the shortterm EMA\n",
    "ShortEMA = df.Close.ewm(span=12, adjust= False).mean()\n",
    "#Calculate the Longterm EMA\n",
    "LongEMA = df.Close.ewm(span=26, adjust= False).mean()\n",
    "#Calculate the MACD line\n",
    "MACD = ShortEMA - LongEMA\n",
    "#Calculate the Signal line\n",
    "Signal = MACD.ewm(span=9,adjust=False).mean()"
   ]
  },
  {
   "cell_type": "code",
   "execution_count": 7,
   "metadata": {},
   "outputs": [
    {
     "data": {
      "image/png": "[encoded data removed]",
      "text/plain": [
       "<Figure size 878.4x324 with 1 Axes>"
      ]
     },
     "metadata": {},
     "output_type": "display_data"
    }
   ],
   "source": [
    "#Plot the chart\n",
    "plt.figure(figsize=(12.2, 4.5))\n",
    "plt.plot(df.index, MACD, label = 'Nifty MACD', color = 'red')\n",
    "plt.plot(df.index, Signal, label = 'Signal Line', color = 'blue')\n",
    "plt.xticks(rotation=45)\n",
    "plt.legend(loc = 'upper left')\n",
    "plt.show()"
   ]
  },
  {
   "cell_type": "code",
   "execution_count": 8,
   "metadata": {},
   "outputs": [
    {
     "data": {
      "text/html": [
       "<div>\n",
       "<style scoped>\n",
       "    .dataframe tbody tr th:only-of-type {\n",
       "        vertical-align: middle;\n",
       "    }\n",
       "\n",
       "    .dataframe tbody tr th {\n",
       "        vertical-align: top;\n",
       "    }\n",
       "\n",
       "    .dataframe thead th {\n",
       "        text-align: right;\n",
       "    }\n",
       "</style>\n",
       "<table border=\"1\" class=\"dataframe\">\n",
       "  <thead>\n",
       "    <tr style=\"text-align: right;\">\n",
       "      <th></th>\n",
       "      <th>Date</th>\n",
       "      <th>Open</th>\n",
       "      <th>High</th>\n",
       "      <th>Low</th>\n",
       "      <th>Close</th>\n",
       "      <th>Shares Traded</th>\n",
       "      <th>Turnover (Rs. Cr)</th>\n",
       "      <th>MACD</th>\n",
       "      <th>signal line</th>\n",
       "    </tr>\n",
       "  </thead>\n",
       "  <tbody>\n",
       "    <tr>\n",
       "      <th>2018-01-01</th>\n",
       "      <td>1-Jan-18</td>\n",
       "      <td>10531.70</td>\n",
       "      <td>10537.85</td>\n",
       "      <td>10423.10</td>\n",
       "      <td>10435.55</td>\n",
       "      <td>134532090</td>\n",
       "      <td>7546.56</td>\n",
       "      <td>0.000000</td>\n",
       "      <td>0.000000</td>\n",
       "    </tr>\n",
       "    <tr>\n",
       "      <th>2018-01-02</th>\n",
       "      <td>2-Jan-18</td>\n",
       "      <td>10477.55</td>\n",
       "      <td>10495.20</td>\n",
       "      <td>10404.65</td>\n",
       "      <td>10442.20</td>\n",
       "      <td>158092430</td>\n",
       "      <td>8665.47</td>\n",
       "      <td>0.530484</td>\n",
       "      <td>0.106097</td>\n",
       "    </tr>\n",
       "    <tr>\n",
       "      <th>2018-01-03</th>\n",
       "      <td>3-Jan-18</td>\n",
       "      <td>10482.65</td>\n",
       "      <td>10503.60</td>\n",
       "      <td>10429.55</td>\n",
       "      <td>10443.20</td>\n",
       "      <td>172516859</td>\n",
       "      <td>9541.60</td>\n",
       "      <td>1.019833</td>\n",
       "      <td>0.288844</td>\n",
       "    </tr>\n",
       "    <tr>\n",
       "      <th>2018-01-04</th>\n",
       "      <td>4-Jan-18</td>\n",
       "      <td>10469.40</td>\n",
       "      <td>10513.00</td>\n",
       "      <td>10441.45</td>\n",
       "      <td>10504.80</td>\n",
       "      <td>180257392</td>\n",
       "      <td>9561.95</td>\n",
       "      <td>6.305563</td>\n",
       "      <td>1.492188</td>\n",
       "    </tr>\n",
       "    <tr>\n",
       "      <th>2018-01-05</th>\n",
       "      <td>5-Jan-18</td>\n",
       "      <td>10534.25</td>\n",
       "      <td>10566.10</td>\n",
       "      <td>10520.10</td>\n",
       "      <td>10558.85</td>\n",
       "      <td>186469717</td>\n",
       "      <td>10306.22</td>\n",
       "      <td>14.686628</td>\n",
       "      <td>4.131076</td>\n",
       "    </tr>\n",
       "    <tr>\n",
       "      <th>...</th>\n",
       "      <td>...</td>\n",
       "      <td>...</td>\n",
       "      <td>...</td>\n",
       "      <td>...</td>\n",
       "      <td>...</td>\n",
       "      <td>...</td>\n",
       "      <td>...</td>\n",
       "      <td>...</td>\n",
       "      <td>...</td>\n",
       "    </tr>\n",
       "    <tr>\n",
       "      <th>2018-12-24</th>\n",
       "      <td>24-Dec-18</td>\n",
       "      <td>10780.90</td>\n",
       "      <td>10782.30</td>\n",
       "      <td>10649.25</td>\n",
       "      <td>10663.50</td>\n",
       "      <td>230291344</td>\n",
       "      <td>10695.60</td>\n",
       "      <td>48.819569</td>\n",
       "      <td>53.889902</td>\n",
       "    </tr>\n",
       "    <tr>\n",
       "      <th>2018-12-26</th>\n",
       "      <td>26-Dec-18</td>\n",
       "      <td>10635.45</td>\n",
       "      <td>10747.50</td>\n",
       "      <td>10534.55</td>\n",
       "      <td>10729.85</td>\n",
       "      <td>271942701</td>\n",
       "      <td>12831.99</td>\n",
       "      <td>40.635051</td>\n",
       "      <td>51.238932</td>\n",
       "    </tr>\n",
       "    <tr>\n",
       "      <th>2018-12-27</th>\n",
       "      <td>27-Dec-18</td>\n",
       "      <td>10817.90</td>\n",
       "      <td>10834.20</td>\n",
       "      <td>10764.45</td>\n",
       "      <td>10779.80</td>\n",
       "      <td>470160392</td>\n",
       "      <td>19119.88</td>\n",
       "      <td>37.744217</td>\n",
       "      <td>48.539989</td>\n",
       "    </tr>\n",
       "    <tr>\n",
       "      <th>2018-12-28</th>\n",
       "      <td>28-Dec-18</td>\n",
       "      <td>10820.95</td>\n",
       "      <td>10893.60</td>\n",
       "      <td>10817.15</td>\n",
       "      <td>10859.90</td>\n",
       "      <td>253086507</td>\n",
       "      <td>12615.01</td>\n",
       "      <td>41.438928</td>\n",
       "      <td>47.119777</td>\n",
       "    </tr>\n",
       "    <tr>\n",
       "      <th>2018-12-31</th>\n",
       "      <td>31-Dec-18</td>\n",
       "      <td>10913.20</td>\n",
       "      <td>10923.55</td>\n",
       "      <td>10853.20</td>\n",
       "      <td>10862.55</td>\n",
       "      <td>186494657</td>\n",
       "      <td>10176.13</td>\n",
       "      <td>44.072803</td>\n",
       "      <td>46.510382</td>\n",
       "    </tr>\n",
       "  </tbody>\n",
       "</table>\n",
       "<p>246 rows × 9 columns</p>\n",
       "</div>"
      ],
      "text/plain": [
       "                 Date      Open      High       Low     Close  Shares Traded  \\\n",
       "2018-01-01   1-Jan-18  10531.70  10537.85  10423.10  10435.55      134532090   \n",
       "2018-01-02   2-Jan-18  10477.55  10495.20  10404.65  10442.20      158092430   \n",
       "2018-01-03   3-Jan-18  10482.65  10503.60  10429.55  10443.20      172516859   \n",
       "2018-01-04   4-Jan-18  10469.40  10513.00  10441.45  10504.80      180257392   \n",
       "2018-01-05   5-Jan-18  10534.25  10566.10  10520.10  10558.85      186469717   \n",
       "...               ...       ...       ...       ...       ...            ...   \n",
       "2018-12-24  24-Dec-18  10780.90  10782.30  10649.25  10663.50      230291344   \n",
       "2018-12-26  26-Dec-18  10635.45  10747.50  10534.55  10729.85      271942701   \n",
       "2018-12-27  27-Dec-18  10817.90  10834.20  10764.45  10779.80      470160392   \n",
       "2018-12-28  28-Dec-18  10820.95  10893.60  10817.15  10859.90      253086507   \n",
       "2018-12-31  31-Dec-18  10913.20  10923.55  10853.20  10862.55      186494657   \n",
       "\n",
       "            Turnover (Rs. Cr)       MACD  signal line  \n",
       "2018-01-01            7546.56   0.000000     0.000000  \n",
       "2018-01-02            8665.47   0.530484     0.106097  \n",
       "2018-01-03            9541.60   1.019833     0.288844  \n",
       "2018-01-04            9561.95   6.305563     1.492188  \n",
       "2018-01-05           10306.22  14.686628     4.131076  \n",
       "...                       ...        ...          ...  \n",
       "2018-12-24           10695.60  48.819569    53.889902  \n",
       "2018-12-26           12831.99  40.635051    51.238932  \n",
       "2018-12-27           19119.88  37.744217    48.539989  \n",
       "2018-12-28           12615.01  41.438928    47.119777  \n",
       "2018-12-31           10176.13  44.072803    46.510382  \n",
       "\n",
       "[246 rows x 9 columns]"
      ]
     },
     "execution_count": 8,
     "metadata": {},
     "output_type": "execute_result"
    }
   ],
   "source": [
    "#Create new column for the data\n",
    "df['MACD'] = MACD\n",
    "df['signal line'] = Signal\n",
    "#Show the data\n",
    "df"
   ]
  },
  {
   "cell_type": "code",
   "execution_count": 12,
   "metadata": {},
   "outputs": [],
   "source": [
    "# Create a function for signal when to buy and sell\n",
    "def buy_sell (Signal):\n",
    "    Buy = []\n",
    "    Sell = []\n",
    "    flag = -1\n",
    "    \n",
    "    for i in range(0,len(Signal)):\n",
    "        if Signal['MACD'][i] > Signal['signal line'][i]:\n",
    "            Sell.append(np.nan)\n",
    "            if flag != 1:\n",
    "                Buy.append(Signal['Close'][i])\n",
    "                flag = 1\n",
    "            else:\n",
    "                Buy.append(np.nan)\n",
    "        elif Signal['MACD'][i] < Signal['signal line'][i]:\n",
    "            Buy.append(np.nan)\n",
    "            if flag != 0:\n",
    "                Sell.append(Signal['Close'][i])\n",
    "                flag = 0\n",
    "            else:\n",
    "                Sell.append(np.nan)\n",
    "        else:\n",
    "            Buy.append(np.nan)\n",
    "            Sell.append(np.nan)\n",
    "    return(Buy,Sell)"
   ]
  },
  {
   "cell_type": "code",
   "execution_count": 13,
   "metadata": {},
   "outputs": [],
   "source": [
    "#Create Buy and Sell Column\n",
    "a = buy_sell(df)\n",
    "df['Buy_signal_price'] = a[0]\n",
    "df['Sell_signal_price'] = a[1]"
   ]
  },
  {
   "cell_type": "code",
   "execution_count": 14,
   "metadata": {},
   "outputs": [
    {
     "data": {
      "text/html": [
       "<div>\n",
       "<style scoped>\n",
       "    .dataframe tbody tr th:only-of-type {\n",
       "        vertical-align: middle;\n",
       "    }\n",
       "\n",
       "    .dataframe tbody tr th {\n",
       "        vertical-align: top;\n",
       "    }\n",
       "\n",
       "    .dataframe thead th {\n",
       "        text-align: right;\n",
       "    }\n",
       "</style>\n",
       "<table border=\"1\" class=\"dataframe\">\n",
       "  <thead>\n",
       "    <tr style=\"text-align: right;\">\n",
       "      <th></th>\n",
       "      <th>Date</th>\n",
       "      <th>Open</th>\n",
       "      <th>High</th>\n",
       "      <th>Low</th>\n",
       "      <th>Close</th>\n",
       "      <th>Shares Traded</th>\n",
       "      <th>Turnover (Rs. Cr)</th>\n",
       "      <th>MACD</th>\n",
       "      <th>signal line</th>\n",
       "      <th>Buy_signal_price</th>\n",
       "      <th>Sell_signal_price</th>\n",
       "    </tr>\n",
       "  </thead>\n",
       "  <tbody>\n",
       "    <tr>\n",
       "      <th>2018-01-01</th>\n",
       "      <td>1-Jan-18</td>\n",
       "      <td>10531.70</td>\n",
       "      <td>10537.85</td>\n",
       "      <td>10423.10</td>\n",
       "      <td>10435.55</td>\n",
       "      <td>134532090</td>\n",
       "      <td>7546.56</td>\n",
       "      <td>0.000000</td>\n",
       "      <td>0.000000</td>\n",
       "      <td>NaN</td>\n",
       "      <td>NaN</td>\n",
       "    </tr>\n",
       "    <tr>\n",
       "      <th>2018-01-02</th>\n",
       "      <td>2-Jan-18</td>\n",
       "      <td>10477.55</td>\n",
       "      <td>10495.20</td>\n",
       "      <td>10404.65</td>\n",
       "      <td>10442.20</td>\n",
       "      <td>158092430</td>\n",
       "      <td>8665.47</td>\n",
       "      <td>0.530484</td>\n",
       "      <td>0.106097</td>\n",
       "      <td>10442.2</td>\n",
       "      <td>NaN</td>\n",
       "    </tr>\n",
       "    <tr>\n",
       "      <th>2018-01-03</th>\n",
       "      <td>3-Jan-18</td>\n",
       "      <td>10482.65</td>\n",
       "      <td>10503.60</td>\n",
       "      <td>10429.55</td>\n",
       "      <td>10443.20</td>\n",
       "      <td>172516859</td>\n",
       "      <td>9541.60</td>\n",
       "      <td>1.019833</td>\n",
       "      <td>0.288844</td>\n",
       "      <td>NaN</td>\n",
       "      <td>NaN</td>\n",
       "    </tr>\n",
       "    <tr>\n",
       "      <th>2018-01-04</th>\n",
       "      <td>4-Jan-18</td>\n",
       "      <td>10469.40</td>\n",
       "      <td>10513.00</td>\n",
       "      <td>10441.45</td>\n",
       "      <td>10504.80</td>\n",
       "      <td>180257392</td>\n",
       "      <td>9561.95</td>\n",
       "      <td>6.305563</td>\n",
       "      <td>1.492188</td>\n",
       "      <td>NaN</td>\n",
       "      <td>NaN</td>\n",
       "    </tr>\n",
       "    <tr>\n",
       "      <th>2018-01-05</th>\n",
       "      <td>5-Jan-18</td>\n",
       "      <td>10534.25</td>\n",
       "      <td>10566.10</td>\n",
       "      <td>10520.10</td>\n",
       "      <td>10558.85</td>\n",
       "      <td>186469717</td>\n",
       "      <td>10306.22</td>\n",
       "      <td>14.686628</td>\n",
       "      <td>4.131076</td>\n",
       "      <td>NaN</td>\n",
       "      <td>NaN</td>\n",
       "    </tr>\n",
       "    <tr>\n",
       "      <th>...</th>\n",
       "      <td>...</td>\n",
       "      <td>...</td>\n",
       "      <td>...</td>\n",
       "      <td>...</td>\n",
       "      <td>...</td>\n",
       "      <td>...</td>\n",
       "      <td>...</td>\n",
       "      <td>...</td>\n",
       "      <td>...</td>\n",
       "      <td>...</td>\n",
       "      <td>...</td>\n",
       "    </tr>\n",
       "    <tr>\n",
       "      <th>2018-12-24</th>\n",
       "      <td>24-Dec-18</td>\n",
       "      <td>10780.90</td>\n",
       "      <td>10782.30</td>\n",
       "      <td>10649.25</td>\n",
       "      <td>10663.50</td>\n",
       "      <td>230291344</td>\n",
       "      <td>10695.60</td>\n",
       "      <td>48.819569</td>\n",
       "      <td>53.889902</td>\n",
       "      <td>NaN</td>\n",
       "      <td>10663.5</td>\n",
       "    </tr>\n",
       "    <tr>\n",
       "      <th>2018-12-26</th>\n",
       "      <td>26-Dec-18</td>\n",
       "      <td>10635.45</td>\n",
       "      <td>10747.50</td>\n",
       "      <td>10534.55</td>\n",
       "      <td>10729.85</td>\n",
       "      <td>271942701</td>\n",
       "      <td>12831.99</td>\n",
       "      <td>40.635051</td>\n",
       "      <td>51.238932</td>\n",
       "      <td>NaN</td>\n",
       "      <td>NaN</td>\n",
       "    </tr>\n",
       "    <tr>\n",
       "      <th>2018-12-27</th>\n",
       "      <td>27-Dec-18</td>\n",
       "      <td>10817.90</td>\n",
       "      <td>10834.20</td>\n",
       "      <td>10764.45</td>\n",
       "      <td>10779.80</td>\n",
       "      <td>470160392</td>\n",
       "      <td>19119.88</td>\n",
       "      <td>37.744217</td>\n",
       "      <td>48.539989</td>\n",
       "      <td>NaN</td>\n",
       "      <td>NaN</td>\n",
       "    </tr>\n",
       "    <tr>\n",
       "      <th>2018-12-28</th>\n",
       "      <td>28-Dec-18</td>\n",
       "      <td>10820.95</td>\n",
       "      <td>10893.60</td>\n",
       "      <td>10817.15</td>\n",
       "      <td>10859.90</td>\n",
       "      <td>253086507</td>\n",
       "      <td>12615.01</td>\n",
       "      <td>41.438928</td>\n",
       "      <td>47.119777</td>\n",
       "      <td>NaN</td>\n",
       "      <td>NaN</td>\n",
       "    </tr>\n",
       "    <tr>\n",
       "      <th>2018-12-31</th>\n",
       "      <td>31-Dec-18</td>\n",
       "      <td>10913.20</td>\n",
       "      <td>10923.55</td>\n",
       "      <td>10853.20</td>\n",
       "      <td>10862.55</td>\n",
       "      <td>186494657</td>\n",
       "      <td>10176.13</td>\n",
       "      <td>44.072803</td>\n",
       "      <td>46.510382</td>\n",
       "      <td>NaN</td>\n",
       "      <td>NaN</td>\n",
       "    </tr>\n",
       "  </tbody>\n",
       "</table>\n",
       "<p>246 rows × 11 columns</p>\n",
       "</div>"
      ],
      "text/plain": [
       "                 Date      Open      High       Low     Close  Shares Traded  \\\n",
       "2018-01-01   1-Jan-18  10531.70  10537.85  10423.10  10435.55      134532090   \n",
       "2018-01-02   2-Jan-18  10477.55  10495.20  10404.65  10442.20      158092430   \n",
       "2018-01-03   3-Jan-18  10482.65  10503.60  10429.55  10443.20      172516859   \n",
       "2018-01-04   4-Jan-18  10469.40  10513.00  10441.45  10504.80      180257392   \n",
       "2018-01-05   5-Jan-18  10534.25  10566.10  10520.10  10558.85      186469717   \n",
       "...               ...       ...       ...       ...       ...            ...   \n",
       "2018-12-24  24-Dec-18  10780.90  10782.30  10649.25  10663.50      230291344   \n",
       "2018-12-26  26-Dec-18  10635.45  10747.50  10534.55  10729.85      271942701   \n",
       "2018-12-27  27-Dec-18  10817.90  10834.20  10764.45  10779.80      470160392   \n",
       "2018-12-28  28-Dec-18  10820.95  10893.60  10817.15  10859.90      253086507   \n",
       "2018-12-31  31-Dec-18  10913.20  10923.55  10853.20  10862.55      186494657   \n",
       "\n",
       "            Turnover (Rs. Cr)       MACD  signal line  Buy_signal_price  \\\n",
       "2018-01-01            7546.56   0.000000     0.000000               NaN   \n",
       "2018-01-02            8665.47   0.530484     0.106097           10442.2   \n",
       "2018-01-03            9541.60   1.019833     0.288844               NaN   \n",
       "2018-01-04            9561.95   6.305563     1.492188               NaN   \n",
       "2018-01-05           10306.22  14.686628     4.131076               NaN   \n",
       "...                       ...        ...          ...               ...   \n",
       "2018-12-24           10695.60  48.819569    53.889902               NaN   \n",
       "2018-12-26           12831.99  40.635051    51.238932               NaN   \n",
       "2018-12-27           19119.88  37.744217    48.539989               NaN   \n",
       "2018-12-28           12615.01  41.438928    47.119777               NaN   \n",
       "2018-12-31           10176.13  44.072803    46.510382               NaN   \n",
       "\n",
       "            Sell_signal_price  \n",
       "2018-01-01                NaN  \n",
       "2018-01-02                NaN  \n",
       "2018-01-03                NaN  \n",
       "2018-01-04                NaN  \n",
       "2018-01-05                NaN  \n",
       "...                       ...  \n",
       "2018-12-24            10663.5  \n",
       "2018-12-26                NaN  \n",
       "2018-12-27                NaN  \n",
       "2018-12-28                NaN  \n",
       "2018-12-31                NaN  \n",
       "\n",
       "[246 rows x 11 columns]"
      ]
     },
     "execution_count": 14,
     "metadata": {},
     "output_type": "execute_result"
    }
   ],
   "source": [
    "#show the data\n",
    "df"
   ]
  },
  {
   "cell_type": "code",
   "execution_count": 16,
   "metadata": {},
   "outputs": [
    {
     "data": {
      "image/png": "[encoded data removed]",
      "text/plain": [
       "<Figure size 878.4x324 with 1 Axes>"
      ]
     },
     "metadata": {},
     "output_type": "display_data"
    }
   ],
   "source": [
    "#Visually show the stock buy & sell signals\n",
    "plt.figure(figsize=(12.2,4.5))\n",
    "plt.scatter(df.index, df['Buy_signal_price'], color = 'green', label = 'Buy', marker = '^', alpha=1)\n",
    "plt.scatter(df.index, df['Sell_signal_price'], color = 'red', label = 'Sell', marker = 'v', alpha=1)\n",
    "plt.plot(df['Close'], label = 'Close price', alpha=0.35)\n",
    "plt.title('Close price Buy & Sell signal')\n",
    "plt.xticks(rotation = 45)\n",
    "plt.xlabel('Date')\n",
    "plt.ylabel('Nifty Index')\n",
    "plt.legend(loc = 'upper left')\n",
    "plt.show()"
   ]
  },
  {
   "cell_type": "code",
   "execution_count": null,
   "metadata": {},
   "outputs": [],
   "source": []
  }
 ],
 "metadata": {
  "kernelspec": {
   "display_name": "Python 3",
   "language": "python",
   "name": "python3"
  },
  "language_info": {
   "codemirror_mode": {
    "name": "ipython",
    "version": 3
   },
   "file_extension": ".py",
   "mimetype": "text/x-python",
   "name": "python",
   "nbconvert_exporter": "python",
   "pygments_lexer": "ipython3",
   "version": "3.7.6"
  }
 },
 "nbformat": 4,
 "nbformat_minor": 4
}
