{
  "nbformat": 4,
  "nbformat_minor": 0,
  "metadata": {
    "colab": {
      "name": "Untitled2.ipynb",
      "provenance": [],
      "authorship_tag": "ABX9TyP0IVto3mnG6ooizdIF5b/H",
      "include_colab_link": true
    },
    "kernelspec": {
      "name": "python3",
      "display_name": "Python 3"
    }
  },
  "cells": [
    {
      "cell_type": "markdown",
      "metadata": {
        "id": "view-in-github",
        "colab_type": "text"
      },
      "source": [
        "<a href=\"https://colab.research.google.com/github/nareshgatla/python/blob/master/Chatbot.ipynb\" target=\"_parent\"><img src=\"https://colab.research.google.com/assets/colab-badge.svg\" alt=\"Open In Colab\"/></a>"
      ]
    },
    {
      "cell_type": "code",
      "metadata": {
        "id": "JDDTD5ZmIT74",
        "colab_type": "code",
        "colab": {}
      },
      "source": [
        "from nltk.chat.util import Chat, reflections"
      ],
      "execution_count": null,
      "outputs": []
    },
    {
      "cell_type": "code",
      "metadata": {
        "id": "ZpBkVhdhIksD",
        "colab_type": "code",
        "colab": {}
      },
      "source": [
        "pairs = [\n",
        "         ['hi my name is (.*)', ['hi %1']],\n",
        "         ['(hi|hello|holla|hola)', ['hi there','hey there','haaay']],\n",
        "         ['(.*) in (.*) is fun', ['%1 in %2 is indeed fun']],\n",
        "         ['(.*) (location|city) ?','Tokyo,Japan'],\n",
        "         ['(.*) created you ?',['naresh did using NLTK']],\n",
        "         ['how is the weather in (.*) ?', ['the weather in %1 is amazing like always']],\n",
        "         ['(.*) help(.*)',['I can help you']],\n",
        "         ['(.*) your name?',['my name is Naresh']]\n",
        "]"
      ],
      "execution_count": 22,
      "outputs": []
    },
    {
      "cell_type": "code",
      "metadata": {
        "id": "Inq9wYoeZZQ_",
        "colab_type": "code",
        "colab": {}
      },
      "source": [
        "my_dummy_reflections = {\n",
        "    'go' : 'gone',\n",
        "    'hello' : 'hey there'\n",
        "}"
      ],
      "execution_count": 23,
      "outputs": []
    },
    {
      "cell_type": "code",
      "metadata": {
        "id": "6A8zGf_UIvLn",
        "colab_type": "code",
        "colab": {
          "base_uri": "https://localhost:8080/",
          "height": 257
        },
        "outputId": "923689f9-3abb-490a-9f83-83e2514af74e"
      },
      "source": [
        "chat = Chat(pairs, my_dummy_reflections)\n",
        "chat.converse()"
      ],
      "execution_count": null,
      "outputs": [
        {
          "output_type": "stream",
          "text": [
            ">disney in california is fun\n",
            "disney in california is indeed fun\n",
            ">which city?\n",
            "a\n",
            ">who created you?\n",
            "naresh did using NLTK\n",
            ">how is the weather in hyderabad\n",
            "the weather in hyderabad is amazing like always\n",
            ">I need help please\n",
            ">i need help\n",
            "I can help you\n",
            ">whats your name\n",
            "my name is Naresh\n"
          ],
          "name": "stdout"
        }
      ]
    },
    {
      "cell_type": "code",
      "metadata": {
        "id": "Kwj_1G2FZWJa",
        "colab_type": "code",
        "colab": {}
      },
      "source": [
        ""
      ],
      "execution_count": null,
      "outputs": []
    },
    {
      "cell_type": "code",
      "metadata": {
        "id": "qI9nFzxXJDHd",
        "colab_type": "code",
        "colab": {}
      },
      "source": [
        ""
      ],
      "execution_count": null,
      "outputs": []
    }
  ]
}